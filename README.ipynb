{
 "cells": [
  {
   "cell_type": "markdown",
   "id": "817590da",
   "metadata": {},
   "source": [
    "# Loan Default Prediction"
   ]
  },
  {
   "cell_type": "markdown",
   "id": "cfa250c7",
   "metadata": {},
   "source": [
    "<img src = \"image/personal_loans.webp\"/>"
   ]
  },
  {
   "cell_type": "markdown",
   "id": "a396bd63",
   "metadata": {},
   "source": [
    "# Business Problem"
   ]
  },
  {
   "cell_type": "markdown",
   "id": "71c3c650",
   "metadata": {},
   "source": [
    "Banks have a huge volume of applicants applying for loans. Some of the applicants do not have credit history or some might have very light credit score. It doesn't mean that lending money to them is highly risky so we should reject all of these applicants. This project uses data about personal loan. Our goal was to develop a model that could step by step explain the results of the model we built and what impact on the likelihood of the case falling into one of the binary categories (loans paid-off and charged). This model predict the 68 % of loan default and would be useful for the banks to make the best decision."
   ]
  },
  {
   "cell_type": "markdown",
   "id": "0c1ab93e",
   "metadata": {},
   "source": [
    "# Data"
   ]
  },
  {
   "cell_type": "markdown",
   "id": "eb722e4b",
   "metadata": {},
   "source": [
    "- LendingClub loan dataset\n",
    "- Data range from 2007 to 2018\n",
    "- 2.3M observations\n",
    "- 151 features\n",
    "- Loan status, interest rate, grade/subgrade, home ownership,annual income, etc\n",
    "- https://www.kaggle.com/datasets/wordsforthewise/lending-club"
   ]
  },
  {
   "cell_type": "markdown",
   "id": "d778ac14",
   "metadata": {},
   "source": [
    "# Methods"
   ]
  },
  {
   "cell_type": "markdown",
   "id": "c1f29aa5",
   "metadata": {},
   "source": [
    "- Clean null values and outliers in the dataset\n",
    "- Convert categorical variables into dummy variable for fitting machine learning models\n",
    "- Select the features for modeling\n",
    "- Due to the fact that the existing dataset is not balanced, which means that there are many more customers with clear loan status than customers who default, I used the sampling method to address this issue\n",
    "- The datasize is large, so the major class was undersampled"
   ]
  },
  {
   "cell_type": "markdown",
   "id": "553813f0",
   "metadata": {},
   "source": [
    "<img src = \"image/loan_status_text.png\"/>"
   ]
  },
  {
   "cell_type": "markdown",
   "id": "cd6c55c0",
   "metadata": {},
   "source": [
    "# Model"
   ]
  },
  {
   "cell_type": "markdown",
   "id": "535bedac",
   "metadata": {},
   "source": [
    "- Logistics Regression Model, Decision Tree Model, Random Forest Model and XGBoost Model were used to train the data\n",
    "- XGBoost Model has recall score 68% and accuracy score 66%\n",
    "- Tuning parameter in XGBoost Model to improve performance"
   ]
  },
  {
   "cell_type": "markdown",
   "id": "ee988746",
   "metadata": {},
   "source": [
    "## Baseline Model"
   ]
  },
  {
   "cell_type": "markdown",
   "id": "c5f70a7e",
   "metadata": {},
   "source": [
    "- Recall score 66%\n",
    "- Accuracy score 65%"
   ]
  },
  {
   "cell_type": "markdown",
   "id": "93fac386",
   "metadata": {},
   "source": [
    "<img src = \"image/baseline_model.png\"/>"
   ]
  },
  {
   "cell_type": "markdown",
   "id": "d7ed3f25",
   "metadata": {},
   "source": [
    "## Final Model"
   ]
  },
  {
   "cell_type": "markdown",
   "id": "2c59574f",
   "metadata": {},
   "source": [
    "- Recall score 68%\n",
    "- Accuracy score 66%"
   ]
  },
  {
   "cell_type": "markdown",
   "id": "55da65b2",
   "metadata": {},
   "source": [
    "<img src = \"image/final_model.png\"/>"
   ]
  },
  {
   "cell_type": "markdown",
   "id": "3cdfef7e",
   "metadata": {},
   "source": [
    "# Features Importance"
   ]
  },
  {
   "cell_type": "markdown",
   "id": "04681a20",
   "metadata": {},
   "source": [
    "<img src = \"image/feature_importance.png\"/>"
   ]
  },
  {
   "cell_type": "markdown",
   "id": "1141c88c",
   "metadata": {},
   "source": [
    "# Conclusions"
   ]
  },
  {
   "cell_type": "markdown",
   "id": "d86ad1b9",
   "metadata": {},
   "source": [
    "Interest Rate, term, subgrade, and home ownership affect the model prediction most.\n",
    "\n",
    "Our model achieved achieve 68% prediciton on the test set. \n",
    "\n",
    "\n",
    "From the confusion matrix, we can see our classifier has high recall. This means the proportion of borrowers predicted to default the loan is high."
   ]
  },
  {
   "cell_type": "markdown",
   "id": "5e29404d",
   "metadata": {},
   "source": [
    "# Future Improvements"
   ]
  },
  {
   "cell_type": "markdown",
   "id": "b8a68bcd",
   "metadata": {},
   "source": [
    "- More classification models should be tried out\n",
    "- Analyze the data by region or state to help banks to assess credit risk, provide accurate credit scores and make decisions on their loans in minutes after receiving each new incoming loan application\n",
    "- Set up different threshold to improve recall score by business goal. It's because the binary classification models usually give the prediction of probability first and then assign the probabilities to 1 or 0 based on the default threshold of 0.5"
   ]
  },
  {
   "cell_type": "markdown",
   "id": "8dd9a7b8",
   "metadata": {},
   "source": [
    "# Repository Structure"
   ]
  },
  {
   "cell_type": "markdown",
   "id": "1606732b",
   "metadata": {},
   "source": [
    "```\n",
    "├── README.ipynb\n",
    "├── images\n",
    "├── Lending Club_Presendtation.pdf\n",
    "├──.gitignore\n",
    "├── Prediction_original.ipynb\n",
    "├── README.md\n",
    "├── Project Proposal.pdf\n",
    "├── notebook_project_loan_1.pdf\n",
    "└── selected_features.csv\n",
    "\n",
    "```"
   ]
  },
  {
   "cell_type": "code",
   "execution_count": null,
   "id": "1ed8e18a",
   "metadata": {},
   "outputs": [],
   "source": []
  }
 ],
 "metadata": {
  "kernelspec": {
   "display_name": "Python 3 (ipykernel)",
   "language": "python",
   "name": "python3"
  },
  "language_info": {
   "codemirror_mode": {
    "name": "ipython",
    "version": 3
   },
   "file_extension": ".py",
   "mimetype": "text/x-python",
   "name": "python",
   "nbconvert_exporter": "python",
   "pygments_lexer": "ipython3",
   "version": "3.9.7"
  },
  "toc": {
   "base_numbering": 1,
   "nav_menu": {},
   "number_sections": false,
   "sideBar": true,
   "skip_h1_title": false,
   "title_cell": "Table of Contents",
   "title_sidebar": "Contents",
   "toc_cell": false,
   "toc_position": {},
   "toc_section_display": true,
   "toc_window_display": true
  }
 },
 "nbformat": 4,
 "nbformat_minor": 5
}
