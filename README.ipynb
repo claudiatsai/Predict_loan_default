{
 "cells": [
  {
   "cell_type": "markdown",
   "id": "817590da",
   "metadata": {},
   "source": [
    "# Loan Default Prediction"
   ]
  },
  {
   "cell_type": "markdown",
   "id": "cfa250c7",
   "metadata": {},
   "source": [
    "<img src = \"image/personal_loans.webp\"/>"
   ]
  },
  {
   "cell_type": "markdown",
   "id": "b6228f9c",
   "metadata": {},
   "source": [
    "LendingClub was the first peer-to-peer lender to register its offerings as securities with the Securities and Exchange Commission (SEC), and to offer loan trading on a secondary market. At its height, LendingClub was the world's largest peer-to-peer lending platform. \n",
    "LendingClub offers the unique combination of being a well-capitalized, publicly traded U.S. corporation (LendingClub Corporation), and a national bank (LendingClub Bank), along with a digital consumer lending arm that has originated over $63 billion in loans since inception. Today, LendingClub partner with dozens of asset managers, hedge funds and other investment vehicles as well as over 60 U.S. banks who have previously purchased personal loans."
   ]
  },
  {
   "cell_type": "markdown",
   "id": "a396bd63",
   "metadata": {},
   "source": [
    "# Business Problem"
   ]
  },
  {
   "cell_type": "markdown",
   "id": "9706c615",
   "metadata": {},
   "source": [
    "Banks have a huge volume of applicants applying for loans. Some of the applicants do not have credit history or some  might have very light credit score. It doesn't mean that lending money to them is highly risky so we should reject all of these applicants. This project uses data about personal loan. Our goal was to develop a model that could step by step explain the results of the model we built and  what impact on the likelihood of the case falling into one of the binary categories (loans paid-off and charged). This model predict the 64 % of loan default and would be useful for the banks to make the best decision."
   ]
  },
  {
   "cell_type": "markdown",
   "id": "0c1ab93e",
   "metadata": {},
   "source": [
    "# Data"
   ]
  },
  {
   "cell_type": "markdown",
   "id": "eb722e4b",
   "metadata": {},
   "source": [
    "- LendingClub loan dataset\n",
    "- Data range from 2007 to 2018\n",
    "- 2.3M observations\n",
    "- 151 features\n",
    "- Loan status, interest rate, grade/subgrade, home ownership,etc\n",
    "- https://www.kaggle.com/datasets/wordsforthewise/lending-club"
   ]
  },
  {
   "cell_type": "markdown",
   "id": "d778ac14",
   "metadata": {},
   "source": [
    "# Methods"
   ]
  },
  {
   "cell_type": "markdown",
   "id": "c1f29aa5",
   "metadata": {},
   "source": [
    "- Clean null values and outliers in the dataset\n",
    "- Select the features for modelings \n",
    "- Due to the fact that the existing dataset is not balanced, which means that there are many more customers with clear loan status than customers who default, I used the sampling method to address this issue. The sampling method is a special case of statistical inference where observations are selected from a population to answer a question about the whole population"
   ]
  },
  {
   "cell_type": "markdown",
   "id": "553813f0",
   "metadata": {},
   "source": [
    "<img src = \"image/loan_status.png\"/>"
   ]
  },
  {
   "cell_type": "markdown",
   "id": "cd6c55c0",
   "metadata": {},
   "source": [
    "# Model"
   ]
  },
  {
   "cell_type": "markdown",
   "id": "535bedac",
   "metadata": {},
   "source": [
    "- Logistics Regression Model, Decision Tree Model, Random Forest Model and XGBoost Model were used to train the data\n",
    "- XGBoost Model has the highest recall score\n",
    "- Tuning parameter in XGBoost Model to improve performance"
   ]
  },
  {
   "cell_type": "markdown",
   "id": "55da65b2",
   "metadata": {},
   "source": [
    "<img src = \"image/final_model.png\"/>"
   ]
  },
  {
   "cell_type": "markdown",
   "id": "3cdfef7e",
   "metadata": {},
   "source": [
    "# Features Importance"
   ]
  },
  {
   "cell_type": "markdown",
   "id": "04681a20",
   "metadata": {},
   "source": [
    "<img src = \"image/feature_importance.png\"/>"
   ]
  },
  {
   "cell_type": "markdown",
   "id": "1141c88c",
   "metadata": {},
   "source": [
    "# Conclusions"
   ]
  },
  {
   "cell_type": "markdown",
   "id": "d86ad1b9",
   "metadata": {},
   "source": [
    "Interest Rate, term, subgrade, home ownership and mortgage accounts affect the model prediction most."
   ]
  },
  {
   "cell_type": "markdown",
   "id": "5e29404d",
   "metadata": {},
   "source": [
    "# Future Improvements"
   ]
  },
  {
   "cell_type": "markdown",
   "id": "b8a68bcd",
   "metadata": {},
   "source": [
    "Because of the large dataset, it’s time-consuming to run models. More classification models should be tried out.\n",
    "We can analyze the data by region or state to help banks to assess credit risk, provide accurate credit scores and make AI-backed decisions on their loans in minutes after receiving each new incoming loan application.\n"
   ]
  },
  {
   "cell_type": "code",
   "execution_count": null,
   "id": "58c507d7",
   "metadata": {},
   "outputs": [],
   "source": []
  }
 ],
 "metadata": {
  "kernelspec": {
   "display_name": "Python 3 (ipykernel)",
   "language": "python",
   "name": "python3"
  },
  "language_info": {
   "codemirror_mode": {
    "name": "ipython",
    "version": 3
   },
   "file_extension": ".py",
   "mimetype": "text/x-python",
   "name": "python",
   "nbconvert_exporter": "python",
   "pygments_lexer": "ipython3",
   "version": "3.9.7"
  },
  "toc": {
   "base_numbering": 1,
   "nav_menu": {},
   "number_sections": true,
   "sideBar": true,
   "skip_h1_title": false,
   "title_cell": "Table of Contents",
   "title_sidebar": "Contents",
   "toc_cell": false,
   "toc_position": {},
   "toc_section_display": true,
   "toc_window_display": false
  }
 },
 "nbformat": 4,
 "nbformat_minor": 5
}
