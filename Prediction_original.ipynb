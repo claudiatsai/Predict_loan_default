{
 "cells": [
  {
   "cell_type": "markdown",
   "id": "5dff8580",
   "metadata": {},
   "source": [
    "# Loan Default Prediction"
   ]
  },
  {
   "cell_type": "markdown",
   "id": "eaadbe30",
   "metadata": {},
   "source": [
    "Banks have a huge volume of applicants applying for loans. Some of the applicants do not have credit history or some might have very light credit score. It doesn't mean that lending money to them is highly risky so we should reject all of these applicants. This project uses data about personal loan. Our goal was to develop a model that could step by step explain the results of the model we built and what impact on the likelihood of the case falling into one of the binary categories (loans paid-off and charged). This model predict the 68 % of loan default and would be useful for the banks to make the best decision."
   ]
  },
  {
   "cell_type": "markdown",
   "id": "eba61cca",
   "metadata": {},
   "source": [
    "# Obtaining the Data"
   ]
  },
  {
   "cell_type": "code",
   "execution_count": 160,
   "id": "1d88521a",
   "metadata": {},
   "outputs": [],
   "source": [
    "# importing relevant libraries\n",
    "import pandas as pd\n",
    "import numpy as np\n",
    "import seaborn as sns\n",
    "import matplotlib.pyplot as plt\n",
    "\n",
    "\n",
    "\n",
    "from sklearn.preprocessing import LabelEncoder\n",
    "from sklearn.model_selection import train_test_split, RandomizedSearchCV\n",
    "from sklearn.preprocessing import MinMaxScaler\n",
    "\n",
    "\n",
    "import statsmodels.api as sm\n",
    "from statsmodels.tsa.stattools import adfuller\n",
    "from statsmodels.graphics.tsaplots import plot_acf\n",
    "from statsmodels.graphics.tsaplots import plot_pacf\n",
    "\n",
    "\n",
    "\n",
    "from sklearn.metrics import mean_squared_error\n",
    "import math\n",
    "import warnings\n",
    "warnings.filterwarnings('ignore')\n",
    "\n",
    "import itertools\n",
    "from collections import Counter\n",
    "\n",
    "\n",
    "#from sklearn import preprocessing\n",
    "from sklearn.preprocessing import StandardScaler, LabelEncoder\n",
    "from sklearn.model_selection import train_test_split, GridSearchCV, cross_validate,cross_val_score\n",
    "\n",
    "#resample the data\n",
    "from imblearn.over_sampling import SMOTE,SMOTENC\n",
    "\n",
    "\n",
    "from sklearn.linear_model import LogisticRegression\n",
    "from sklearn.tree import DecisionTreeClassifier\n",
    "from sklearn.ensemble import RandomForestClassifier\n",
    "from sklearn.neighbors import KNeighborsClassifier\n",
    "from sklearn.metrics import plot_confusion_matrix,classification_report,precision_score, recall_score,accuracy_score, f1_score\n",
    "from sklearn.pipeline import Pipeline\n",
    "from xgboost import XGBClassifier\n",
    "\n",
    "#Remove warnings\n",
    "import warnings\n",
    "warnings.filterwarnings('ignore')\n",
    "\n",
    "\n",
    "\n",
    "\n",
    "%matplotlib inline\n",
    "from matplotlib.pylab import rcParams\n",
    "from matplotlib.ticker import FuncFormatter"
   ]
  },
  {
   "cell_type": "code",
   "execution_count": 161,
   "id": "be758af1",
   "metadata": {},
   "outputs": [],
   "source": [
    "pd.set_option('display.float_format', lambda x: '%.3f' % x)"
   ]
  },
  {
   "cell_type": "code",
   "execution_count": 162,
   "id": "5c0e7570",
   "metadata": {},
   "outputs": [],
   "source": [
    "def millions(tick_val,pos):\n",
    "    \"\"\"adapted from https://dfrieds.com/data-visualizations/how-format-large-tick-values.html\"\"\"\n",
    "    val = round(tick_val/1000000, 1)\n",
    "    new_tick_format = '${:.0f}M'.format(val)\n",
    "    return new_tick_format\n",
    "form = FuncFormatter(millions)"
   ]
  },
  {
   "cell_type": "code",
   "execution_count": 2,
   "id": "c2a2f02d",
   "metadata": {},
   "outputs": [
    {
     "name": "stdout",
     "output_type": "stream",
     "text": [
      "Requirement already satisfied: catboost in /Users/claudiatsai/opt/anaconda3/lib/python3.9/site-packages (1.1.1)\n",
      "Requirement already satisfied: matplotlib in /Users/claudiatsai/opt/anaconda3/lib/python3.9/site-packages (from catboost) (3.4.3)\n",
      "Requirement already satisfied: graphviz in /Users/claudiatsai/opt/anaconda3/lib/python3.9/site-packages (from catboost) (0.20.1)\n",
      "Requirement already satisfied: plotly in /Users/claudiatsai/opt/anaconda3/lib/python3.9/site-packages (from catboost) (5.11.0)\n",
      "Requirement already satisfied: numpy>=1.16.0 in /Users/claudiatsai/opt/anaconda3/lib/python3.9/site-packages (from catboost) (1.22.4)\n",
      "Requirement already satisfied: six in /Users/claudiatsai/opt/anaconda3/lib/python3.9/site-packages (from catboost) (1.16.0)\n",
      "Requirement already satisfied: scipy in /Users/claudiatsai/opt/anaconda3/lib/python3.9/site-packages (from catboost) (1.7.1)\n",
      "Requirement already satisfied: pandas>=0.24.0 in /Users/claudiatsai/opt/anaconda3/lib/python3.9/site-packages (from catboost) (1.3.4)\n",
      "Requirement already satisfied: python-dateutil>=2.7.3 in /Users/claudiatsai/opt/anaconda3/lib/python3.9/site-packages (from pandas>=0.24.0->catboost) (2.8.2)\n",
      "Requirement already satisfied: pytz>=2017.3 in /Users/claudiatsai/opt/anaconda3/lib/python3.9/site-packages (from pandas>=0.24.0->catboost) (2021.3)\n",
      "Requirement already satisfied: pillow>=6.2.0 in /Users/claudiatsai/opt/anaconda3/lib/python3.9/site-packages (from matplotlib->catboost) (8.4.0)\n",
      "Requirement already satisfied: cycler>=0.10 in /Users/claudiatsai/opt/anaconda3/lib/python3.9/site-packages (from matplotlib->catboost) (0.10.0)\n",
      "Requirement already satisfied: kiwisolver>=1.0.1 in /Users/claudiatsai/opt/anaconda3/lib/python3.9/site-packages (from matplotlib->catboost) (1.3.1)\n",
      "Requirement already satisfied: pyparsing>=2.2.1 in /Users/claudiatsai/opt/anaconda3/lib/python3.9/site-packages (from matplotlib->catboost) (3.0.4)\n",
      "Requirement already satisfied: tenacity>=6.2.0 in /Users/claudiatsai/opt/anaconda3/lib/python3.9/site-packages (from plotly->catboost) (8.1.0)\n",
      "Note: you may need to restart the kernel to use updated packages.\n"
     ]
    }
   ],
   "source": [
    "pip install catboost"
   ]
  },
  {
   "cell_type": "code",
   "execution_count": 3,
   "id": "99d64f7f",
   "metadata": {},
   "outputs": [
    {
     "name": "stdout",
     "output_type": "stream",
     "text": [
      "Requirement already satisfied: ipywidgets in /Users/claudiatsai/opt/anaconda3/lib/python3.9/site-packages (7.6.5)\n",
      "Requirement already satisfied: jupyterlab-widgets>=1.0.0 in /Users/claudiatsai/opt/anaconda3/lib/python3.9/site-packages (from ipywidgets) (1.0.0)\n",
      "Requirement already satisfied: traitlets>=4.3.1 in /Users/claudiatsai/opt/anaconda3/lib/python3.9/site-packages (from ipywidgets) (5.1.0)\n",
      "Requirement already satisfied: ipython-genutils~=0.2.0 in /Users/claudiatsai/opt/anaconda3/lib/python3.9/site-packages (from ipywidgets) (0.2.0)\n",
      "Requirement already satisfied: ipython>=4.0.0 in /Users/claudiatsai/opt/anaconda3/lib/python3.9/site-packages (from ipywidgets) (7.29.0)\n",
      "Requirement already satisfied: ipykernel>=4.5.1 in /Users/claudiatsai/opt/anaconda3/lib/python3.9/site-packages (from ipywidgets) (6.4.1)\n",
      "Requirement already satisfied: nbformat>=4.2.0 in /Users/claudiatsai/opt/anaconda3/lib/python3.9/site-packages (from ipywidgets) (5.1.3)\n",
      "Requirement already satisfied: widgetsnbextension~=3.5.0 in /Users/claudiatsai/opt/anaconda3/lib/python3.9/site-packages (from ipywidgets) (3.5.1)\n",
      "Requirement already satisfied: jupyter-client<8.0 in /Users/claudiatsai/opt/anaconda3/lib/python3.9/site-packages (from ipykernel>=4.5.1->ipywidgets) (6.1.12)\n",
      "Requirement already satisfied: matplotlib-inline<0.2.0,>=0.1.0 in /Users/claudiatsai/opt/anaconda3/lib/python3.9/site-packages (from ipykernel>=4.5.1->ipywidgets) (0.1.2)\n",
      "Requirement already satisfied: appnope in /Users/claudiatsai/opt/anaconda3/lib/python3.9/site-packages (from ipykernel>=4.5.1->ipywidgets) (0.1.2)\n",
      "Requirement already satisfied: debugpy<2.0,>=1.0.0 in /Users/claudiatsai/opt/anaconda3/lib/python3.9/site-packages (from ipykernel>=4.5.1->ipywidgets) (1.4.1)\n",
      "Requirement already satisfied: tornado<7.0,>=4.2 in /Users/claudiatsai/opt/anaconda3/lib/python3.9/site-packages (from ipykernel>=4.5.1->ipywidgets) (6.1)\n",
      "Requirement already satisfied: setuptools>=18.5 in /Users/claudiatsai/opt/anaconda3/lib/python3.9/site-packages (from ipython>=4.0.0->ipywidgets) (58.0.4)\n",
      "Requirement already satisfied: prompt-toolkit!=3.0.0,!=3.0.1,<3.1.0,>=2.0.0 in /Users/claudiatsai/opt/anaconda3/lib/python3.9/site-packages (from ipython>=4.0.0->ipywidgets) (3.0.20)\n",
      "Requirement already satisfied: backcall in /Users/claudiatsai/opt/anaconda3/lib/python3.9/site-packages (from ipython>=4.0.0->ipywidgets) (0.2.0)\n",
      "Requirement already satisfied: pexpect>4.3 in /Users/claudiatsai/opt/anaconda3/lib/python3.9/site-packages (from ipython>=4.0.0->ipywidgets) (4.8.0)\n",
      "Requirement already satisfied: pygments in /Users/claudiatsai/opt/anaconda3/lib/python3.9/site-packages (from ipython>=4.0.0->ipywidgets) (2.10.0)\n",
      "Requirement already satisfied: jedi>=0.16 in /Users/claudiatsai/opt/anaconda3/lib/python3.9/site-packages (from ipython>=4.0.0->ipywidgets) (0.18.0)\n",
      "Requirement already satisfied: decorator in /Users/claudiatsai/opt/anaconda3/lib/python3.9/site-packages (from ipython>=4.0.0->ipywidgets) (5.1.0)\n",
      "Requirement already satisfied: pickleshare in /Users/claudiatsai/opt/anaconda3/lib/python3.9/site-packages (from ipython>=4.0.0->ipywidgets) (0.7.5)\n",
      "Requirement already satisfied: parso<0.9.0,>=0.8.0 in /Users/claudiatsai/opt/anaconda3/lib/python3.9/site-packages (from jedi>=0.16->ipython>=4.0.0->ipywidgets) (0.8.2)\n",
      "Requirement already satisfied: jupyter-core>=4.6.0 in /Users/claudiatsai/opt/anaconda3/lib/python3.9/site-packages (from jupyter-client<8.0->ipykernel>=4.5.1->ipywidgets) (4.8.1)\n",
      "Requirement already satisfied: pyzmq>=13 in /Users/claudiatsai/opt/anaconda3/lib/python3.9/site-packages (from jupyter-client<8.0->ipykernel>=4.5.1->ipywidgets) (22.2.1)\n",
      "Requirement already satisfied: python-dateutil>=2.1 in /Users/claudiatsai/opt/anaconda3/lib/python3.9/site-packages (from jupyter-client<8.0->ipykernel>=4.5.1->ipywidgets) (2.8.2)\n",
      "Requirement already satisfied: jsonschema!=2.5.0,>=2.4 in /Users/claudiatsai/opt/anaconda3/lib/python3.9/site-packages (from nbformat>=4.2.0->ipywidgets) (3.2.0)\n",
      "Requirement already satisfied: six>=1.11.0 in /Users/claudiatsai/opt/anaconda3/lib/python3.9/site-packages (from jsonschema!=2.5.0,>=2.4->nbformat>=4.2.0->ipywidgets) (1.16.0)\n",
      "Requirement already satisfied: attrs>=17.4.0 in /Users/claudiatsai/opt/anaconda3/lib/python3.9/site-packages (from jsonschema!=2.5.0,>=2.4->nbformat>=4.2.0->ipywidgets) (21.2.0)\n",
      "Requirement already satisfied: pyrsistent>=0.14.0 in /Users/claudiatsai/opt/anaconda3/lib/python3.9/site-packages (from jsonschema!=2.5.0,>=2.4->nbformat>=4.2.0->ipywidgets) (0.18.0)\n",
      "Requirement already satisfied: ptyprocess>=0.5 in /Users/claudiatsai/opt/anaconda3/lib/python3.9/site-packages (from pexpect>4.3->ipython>=4.0.0->ipywidgets) (0.7.0)\n",
      "Requirement already satisfied: wcwidth in /Users/claudiatsai/opt/anaconda3/lib/python3.9/site-packages (from prompt-toolkit!=3.0.0,!=3.0.1,<3.1.0,>=2.0.0->ipython>=4.0.0->ipywidgets) (0.2.5)\n",
      "Requirement already satisfied: notebook>=4.4.1 in /Users/claudiatsai/opt/anaconda3/lib/python3.9/site-packages (from widgetsnbextension~=3.5.0->ipywidgets) (6.4.5)\n",
      "Requirement already satisfied: jinja2 in /Users/claudiatsai/opt/anaconda3/lib/python3.9/site-packages (from notebook>=4.4.1->widgetsnbextension~=3.5.0->ipywidgets) (2.11.3)\n",
      "Requirement already satisfied: nbconvert in /Users/claudiatsai/opt/anaconda3/lib/python3.9/site-packages (from notebook>=4.4.1->widgetsnbextension~=3.5.0->ipywidgets) (6.1.0)\n",
      "Requirement already satisfied: Send2Trash>=1.5.0 in /Users/claudiatsai/opt/anaconda3/lib/python3.9/site-packages (from notebook>=4.4.1->widgetsnbextension~=3.5.0->ipywidgets) (1.8.0)\n",
      "Requirement already satisfied: argon2-cffi in /Users/claudiatsai/opt/anaconda3/lib/python3.9/site-packages (from notebook>=4.4.1->widgetsnbextension~=3.5.0->ipywidgets) (20.1.0)\n",
      "Requirement already satisfied: terminado>=0.8.3 in /Users/claudiatsai/opt/anaconda3/lib/python3.9/site-packages (from notebook>=4.4.1->widgetsnbextension~=3.5.0->ipywidgets) (0.9.4)\n",
      "Requirement already satisfied: prometheus-client in /Users/claudiatsai/opt/anaconda3/lib/python3.9/site-packages (from notebook>=4.4.1->widgetsnbextension~=3.5.0->ipywidgets) (0.11.0)\n",
      "Requirement already satisfied: cffi>=1.0.0 in /Users/claudiatsai/opt/anaconda3/lib/python3.9/site-packages (from argon2-cffi->notebook>=4.4.1->widgetsnbextension~=3.5.0->ipywidgets) (1.14.6)\n",
      "Requirement already satisfied: pycparser in /Users/claudiatsai/opt/anaconda3/lib/python3.9/site-packages (from cffi>=1.0.0->argon2-cffi->notebook>=4.4.1->widgetsnbextension~=3.5.0->ipywidgets) (2.20)\n",
      "Requirement already satisfied: MarkupSafe>=0.23 in /Users/claudiatsai/opt/anaconda3/lib/python3.9/site-packages (from jinja2->notebook>=4.4.1->widgetsnbextension~=3.5.0->ipywidgets) (1.1.1)\n",
      "Requirement already satisfied: testpath in /Users/claudiatsai/opt/anaconda3/lib/python3.9/site-packages (from nbconvert->notebook>=4.4.1->widgetsnbextension~=3.5.0->ipywidgets) (0.5.0)\n",
      "Requirement already satisfied: mistune<2,>=0.8.1 in /Users/claudiatsai/opt/anaconda3/lib/python3.9/site-packages (from nbconvert->notebook>=4.4.1->widgetsnbextension~=3.5.0->ipywidgets) (0.8.4)\n",
      "Requirement already satisfied: entrypoints>=0.2.2 in /Users/claudiatsai/opt/anaconda3/lib/python3.9/site-packages (from nbconvert->notebook>=4.4.1->widgetsnbextension~=3.5.0->ipywidgets) (0.3)\n",
      "Requirement already satisfied: pandocfilters>=1.4.1 in /Users/claudiatsai/opt/anaconda3/lib/python3.9/site-packages (from nbconvert->notebook>=4.4.1->widgetsnbextension~=3.5.0->ipywidgets) (1.4.3)\n",
      "Requirement already satisfied: bleach in /Users/claudiatsai/opt/anaconda3/lib/python3.9/site-packages (from nbconvert->notebook>=4.4.1->widgetsnbextension~=3.5.0->ipywidgets) (4.0.0)\n",
      "Requirement already satisfied: jupyterlab-pygments in /Users/claudiatsai/opt/anaconda3/lib/python3.9/site-packages (from nbconvert->notebook>=4.4.1->widgetsnbextension~=3.5.0->ipywidgets) (0.1.2)\n",
      "Requirement already satisfied: nbclient<0.6.0,>=0.5.0 in /Users/claudiatsai/opt/anaconda3/lib/python3.9/site-packages (from nbconvert->notebook>=4.4.1->widgetsnbextension~=3.5.0->ipywidgets) (0.5.3)\n",
      "Requirement already satisfied: defusedxml in /Users/claudiatsai/opt/anaconda3/lib/python3.9/site-packages (from nbconvert->notebook>=4.4.1->widgetsnbextension~=3.5.0->ipywidgets) (0.7.1)\n"
     ]
    },
    {
     "name": "stdout",
     "output_type": "stream",
     "text": [
      "Requirement already satisfied: nest-asyncio in /Users/claudiatsai/opt/anaconda3/lib/python3.9/site-packages (from nbclient<0.6.0,>=0.5.0->nbconvert->notebook>=4.4.1->widgetsnbextension~=3.5.0->ipywidgets) (1.5.1)\n",
      "Requirement already satisfied: async-generator in /Users/claudiatsai/opt/anaconda3/lib/python3.9/site-packages (from nbclient<0.6.0,>=0.5.0->nbconvert->notebook>=4.4.1->widgetsnbextension~=3.5.0->ipywidgets) (1.10)\n",
      "Requirement already satisfied: packaging in /Users/claudiatsai/opt/anaconda3/lib/python3.9/site-packages (from bleach->nbconvert->notebook>=4.4.1->widgetsnbextension~=3.5.0->ipywidgets) (21.3)\n",
      "Requirement already satisfied: webencodings in /Users/claudiatsai/opt/anaconda3/lib/python3.9/site-packages (from bleach->nbconvert->notebook>=4.4.1->widgetsnbextension~=3.5.0->ipywidgets) (0.5.1)\n",
      "Requirement already satisfied: pyparsing!=3.0.5,>=2.0.2 in /Users/claudiatsai/opt/anaconda3/lib/python3.9/site-packages (from packaging->bleach->nbconvert->notebook>=4.4.1->widgetsnbextension~=3.5.0->ipywidgets) (3.0.4)\n",
      "Note: you may need to restart the kernel to use updated packages.\n"
     ]
    }
   ],
   "source": [
    "pip install ipywidgets\n"
   ]
  },
  {
   "cell_type": "markdown",
   "id": "19bf7e6a",
   "metadata": {},
   "source": [
    "Load the data "
   ]
  },
  {
   "cell_type": "code",
   "execution_count": 4,
   "id": "c2ff7523",
   "metadata": {},
   "outputs": [],
   "source": [
    "original_df = pd.read_csv('/Users/claudiatsai/Documents/Flatiron/Phase_5/data_loan_default_prediction/accepted_2007_to_2018Q4.csv')"
   ]
  },
  {
   "cell_type": "markdown",
   "id": "3d2cfded",
   "metadata": {},
   "source": [
    "Briefly look at the dataset"
   ]
  },
  {
   "cell_type": "code",
   "execution_count": 5,
   "id": "cab2ff4e",
   "metadata": {},
   "outputs": [
    {
     "data": {
      "text/html": [
       "<div>\n",
       "<style scoped>\n",
       "    .dataframe tbody tr th:only-of-type {\n",
       "        vertical-align: middle;\n",
       "    }\n",
       "\n",
       "    .dataframe tbody tr th {\n",
       "        vertical-align: top;\n",
       "    }\n",
       "\n",
       "    .dataframe thead th {\n",
       "        text-align: right;\n",
       "    }\n",
       "</style>\n",
       "<table border=\"1\" class=\"dataframe\">\n",
       "  <thead>\n",
       "    <tr style=\"text-align: right;\">\n",
       "      <th></th>\n",
       "      <th>id</th>\n",
       "      <th>member_id</th>\n",
       "      <th>loan_amnt</th>\n",
       "      <th>funded_amnt</th>\n",
       "      <th>funded_amnt_inv</th>\n",
       "      <th>term</th>\n",
       "      <th>int_rate</th>\n",
       "      <th>installment</th>\n",
       "      <th>grade</th>\n",
       "      <th>sub_grade</th>\n",
       "      <th>...</th>\n",
       "      <th>hardship_payoff_balance_amount</th>\n",
       "      <th>hardship_last_payment_amount</th>\n",
       "      <th>disbursement_method</th>\n",
       "      <th>debt_settlement_flag</th>\n",
       "      <th>debt_settlement_flag_date</th>\n",
       "      <th>settlement_status</th>\n",
       "      <th>settlement_date</th>\n",
       "      <th>settlement_amount</th>\n",
       "      <th>settlement_percentage</th>\n",
       "      <th>settlement_term</th>\n",
       "    </tr>\n",
       "  </thead>\n",
       "  <tbody>\n",
       "    <tr>\n",
       "      <th>0</th>\n",
       "      <td>68407277</td>\n",
       "      <td>NaN</td>\n",
       "      <td>3600.0</td>\n",
       "      <td>3600.0</td>\n",
       "      <td>3600.0</td>\n",
       "      <td>36 months</td>\n",
       "      <td>13.99</td>\n",
       "      <td>123.03</td>\n",
       "      <td>C</td>\n",
       "      <td>C4</td>\n",
       "      <td>...</td>\n",
       "      <td>NaN</td>\n",
       "      <td>NaN</td>\n",
       "      <td>Cash</td>\n",
       "      <td>N</td>\n",
       "      <td>NaN</td>\n",
       "      <td>NaN</td>\n",
       "      <td>NaN</td>\n",
       "      <td>NaN</td>\n",
       "      <td>NaN</td>\n",
       "      <td>NaN</td>\n",
       "    </tr>\n",
       "    <tr>\n",
       "      <th>1</th>\n",
       "      <td>68355089</td>\n",
       "      <td>NaN</td>\n",
       "      <td>24700.0</td>\n",
       "      <td>24700.0</td>\n",
       "      <td>24700.0</td>\n",
       "      <td>36 months</td>\n",
       "      <td>11.99</td>\n",
       "      <td>820.28</td>\n",
       "      <td>C</td>\n",
       "      <td>C1</td>\n",
       "      <td>...</td>\n",
       "      <td>NaN</td>\n",
       "      <td>NaN</td>\n",
       "      <td>Cash</td>\n",
       "      <td>N</td>\n",
       "      <td>NaN</td>\n",
       "      <td>NaN</td>\n",
       "      <td>NaN</td>\n",
       "      <td>NaN</td>\n",
       "      <td>NaN</td>\n",
       "      <td>NaN</td>\n",
       "    </tr>\n",
       "    <tr>\n",
       "      <th>2</th>\n",
       "      <td>68341763</td>\n",
       "      <td>NaN</td>\n",
       "      <td>20000.0</td>\n",
       "      <td>20000.0</td>\n",
       "      <td>20000.0</td>\n",
       "      <td>60 months</td>\n",
       "      <td>10.78</td>\n",
       "      <td>432.66</td>\n",
       "      <td>B</td>\n",
       "      <td>B4</td>\n",
       "      <td>...</td>\n",
       "      <td>NaN</td>\n",
       "      <td>NaN</td>\n",
       "      <td>Cash</td>\n",
       "      <td>N</td>\n",
       "      <td>NaN</td>\n",
       "      <td>NaN</td>\n",
       "      <td>NaN</td>\n",
       "      <td>NaN</td>\n",
       "      <td>NaN</td>\n",
       "      <td>NaN</td>\n",
       "    </tr>\n",
       "    <tr>\n",
       "      <th>3</th>\n",
       "      <td>66310712</td>\n",
       "      <td>NaN</td>\n",
       "      <td>35000.0</td>\n",
       "      <td>35000.0</td>\n",
       "      <td>35000.0</td>\n",
       "      <td>60 months</td>\n",
       "      <td>14.85</td>\n",
       "      <td>829.90</td>\n",
       "      <td>C</td>\n",
       "      <td>C5</td>\n",
       "      <td>...</td>\n",
       "      <td>NaN</td>\n",
       "      <td>NaN</td>\n",
       "      <td>Cash</td>\n",
       "      <td>N</td>\n",
       "      <td>NaN</td>\n",
       "      <td>NaN</td>\n",
       "      <td>NaN</td>\n",
       "      <td>NaN</td>\n",
       "      <td>NaN</td>\n",
       "      <td>NaN</td>\n",
       "    </tr>\n",
       "    <tr>\n",
       "      <th>4</th>\n",
       "      <td>68476807</td>\n",
       "      <td>NaN</td>\n",
       "      <td>10400.0</td>\n",
       "      <td>10400.0</td>\n",
       "      <td>10400.0</td>\n",
       "      <td>60 months</td>\n",
       "      <td>22.45</td>\n",
       "      <td>289.91</td>\n",
       "      <td>F</td>\n",
       "      <td>F1</td>\n",
       "      <td>...</td>\n",
       "      <td>NaN</td>\n",
       "      <td>NaN</td>\n",
       "      <td>Cash</td>\n",
       "      <td>N</td>\n",
       "      <td>NaN</td>\n",
       "      <td>NaN</td>\n",
       "      <td>NaN</td>\n",
       "      <td>NaN</td>\n",
       "      <td>NaN</td>\n",
       "      <td>NaN</td>\n",
       "    </tr>\n",
       "  </tbody>\n",
       "</table>\n",
       "<p>5 rows × 151 columns</p>\n",
       "</div>"
      ],
      "text/plain": [
       "         id  member_id  loan_amnt  funded_amnt  funded_amnt_inv        term  \\\n",
       "0  68407277        NaN     3600.0       3600.0           3600.0   36 months   \n",
       "1  68355089        NaN    24700.0      24700.0          24700.0   36 months   \n",
       "2  68341763        NaN    20000.0      20000.0          20000.0   60 months   \n",
       "3  66310712        NaN    35000.0      35000.0          35000.0   60 months   \n",
       "4  68476807        NaN    10400.0      10400.0          10400.0   60 months   \n",
       "\n",
       "   int_rate  installment grade sub_grade  ... hardship_payoff_balance_amount  \\\n",
       "0     13.99       123.03     C        C4  ...                            NaN   \n",
       "1     11.99       820.28     C        C1  ...                            NaN   \n",
       "2     10.78       432.66     B        B4  ...                            NaN   \n",
       "3     14.85       829.90     C        C5  ...                            NaN   \n",
       "4     22.45       289.91     F        F1  ...                            NaN   \n",
       "\n",
       "  hardship_last_payment_amount disbursement_method  debt_settlement_flag  \\\n",
       "0                          NaN                Cash                     N   \n",
       "1                          NaN                Cash                     N   \n",
       "2                          NaN                Cash                     N   \n",
       "3                          NaN                Cash                     N   \n",
       "4                          NaN                Cash                     N   \n",
       "\n",
       "  debt_settlement_flag_date settlement_status settlement_date  \\\n",
       "0                       NaN               NaN             NaN   \n",
       "1                       NaN               NaN             NaN   \n",
       "2                       NaN               NaN             NaN   \n",
       "3                       NaN               NaN             NaN   \n",
       "4                       NaN               NaN             NaN   \n",
       "\n",
       "  settlement_amount settlement_percentage settlement_term  \n",
       "0               NaN                   NaN             NaN  \n",
       "1               NaN                   NaN             NaN  \n",
       "2               NaN                   NaN             NaN  \n",
       "3               NaN                   NaN             NaN  \n",
       "4               NaN                   NaN             NaN  \n",
       "\n",
       "[5 rows x 151 columns]"
      ]
     },
     "execution_count": 5,
     "metadata": {},
     "output_type": "execute_result"
    }
   ],
   "source": [
    "original_df.head()"
   ]
  },
  {
   "cell_type": "markdown",
   "id": "38ea017a",
   "metadata": {},
   "source": [
    "From above, there are 151 features in the dataset. Let's see how many rows in the dataset."
   ]
  },
  {
   "cell_type": "code",
   "execution_count": 6,
   "id": "497d4f4e",
   "metadata": {},
   "outputs": [
    {
     "data": {
      "text/plain": [
       "(2260701, 151)"
      ]
     },
     "execution_count": 6,
     "metadata": {},
     "output_type": "execute_result"
    }
   ],
   "source": [
    "original_df.shape"
   ]
  },
  {
   "cell_type": "markdown",
   "id": "f3582e49",
   "metadata": {},
   "source": [
    "See how many null values in the dataset."
   ]
  },
  {
   "cell_type": "code",
   "execution_count": 7,
   "id": "4779a08a",
   "metadata": {},
   "outputs": [
    {
     "data": {
      "text/plain": [
       "id                             0\n",
       "member_id                2260701\n",
       "loan_amnt                     33\n",
       "funded_amnt                   33\n",
       "funded_amnt_inv               33\n",
       "                          ...   \n",
       "settlement_status        2226455\n",
       "settlement_date          2226455\n",
       "settlement_amount        2226455\n",
       "settlement_percentage    2226455\n",
       "settlement_term          2226455\n",
       "Length: 151, dtype: int64"
      ]
     },
     "execution_count": 7,
     "metadata": {},
     "output_type": "execute_result"
    }
   ],
   "source": [
    "original_df.isna().sum()"
   ]
  },
  {
   "cell_type": "markdown",
   "id": "5ae1d156",
   "metadata": {},
   "source": [
    "After looked at the null value in the dataset, it looks like some columns contains null values."
   ]
  },
  {
   "cell_type": "code",
   "execution_count": 8,
   "id": "b636542a",
   "metadata": {},
   "outputs": [
    {
     "data": {
      "text/plain": [
       "member_id                                     100.000000\n",
       "orig_projected_additional_accrued_interest     99.617331\n",
       "hardship_end_date                              99.517097\n",
       "hardship_start_date                            99.517097\n",
       "hardship_type                                  99.517097\n",
       "                                                 ...    \n",
       "policy_code                                     0.001460\n",
       "revol_bal                                       0.001460\n",
       "fico_range_high                                 0.001460\n",
       "fico_range_low                                  0.001460\n",
       "id                                              0.000000\n",
       "Length: 151, dtype: float64"
      ]
     },
     "execution_count": 8,
     "metadata": {},
     "output_type": "execute_result"
    }
   ],
   "source": [
    "((original_df.isna().sum()/len(original_df))*100).sort_values(ascending=False)"
   ]
  },
  {
   "cell_type": "code",
   "execution_count": 9,
   "id": "e9420a84",
   "metadata": {},
   "outputs": [
    {
     "data": {
      "image/png": "[encoded data removed]",
      "text/plain": [
       "<Figure size 1296x288 with 1 Axes>"
      ]
     },
     "metadata": {
      "needs_background": "light"
     },
     "output_type": "display_data"
    }
   ],
   "source": [
    "plt.figure(figsize=(18,4)) \n",
    "\n",
    "sns.barplot(y=((original_df.isna().sum()/len(original_df))*100).sort_values(), x=((original_df.isna().sum()/len(original_df))*100).sort_values().index, palette='viridis') \n",
    "plt.xticks(rotation=90); "
   ]
  },
  {
   "cell_type": "markdown",
   "id": "be8eca0c",
   "metadata": {},
   "source": [
    "From above barchart, it looks like one third columns in the dataset contains null values.\n",
    "Keep working on narrowing down columns in the dataset."
   ]
  },
  {
   "cell_type": "code",
   "execution_count": 10,
   "id": "0f1792a3",
   "metadata": {},
   "outputs": [
    {
     "data": {
      "text/plain": [
       "['id',\n",
       " 'loan_amnt',\n",
       " 'funded_amnt',\n",
       " 'funded_amnt_inv',\n",
       " 'term',\n",
       " 'int_rate',\n",
       " 'installment',\n",
       " 'grade',\n",
       " 'sub_grade',\n",
       " 'emp_title',\n",
       " 'emp_length',\n",
       " 'home_ownership',\n",
       " 'annual_inc',\n",
       " 'verification_status',\n",
       " 'issue_d',\n",
       " 'loan_status',\n",
       " 'pymnt_plan',\n",
       " 'url',\n",
       " 'purpose',\n",
       " 'title',\n",
       " 'zip_code',\n",
       " 'addr_state',\n",
       " 'dti',\n",
       " 'delinq_2yrs',\n",
       " 'earliest_cr_line',\n",
       " 'fico_range_low',\n",
       " 'fico_range_high',\n",
       " 'inq_last_6mths',\n",
       " 'open_acc',\n",
       " 'pub_rec',\n",
       " 'revol_bal',\n",
       " 'revol_util',\n",
       " 'total_acc',\n",
       " 'initial_list_status',\n",
       " 'out_prncp',\n",
       " 'out_prncp_inv',\n",
       " 'total_pymnt',\n",
       " 'total_pymnt_inv',\n",
       " 'total_rec_prncp',\n",
       " 'total_rec_int',\n",
       " 'total_rec_late_fee',\n",
       " 'recoveries',\n",
       " 'collection_recovery_fee',\n",
       " 'last_pymnt_d',\n",
       " 'last_pymnt_amnt',\n",
       " 'last_credit_pull_d',\n",
       " 'last_fico_range_high',\n",
       " 'last_fico_range_low',\n",
       " 'collections_12_mths_ex_med',\n",
       " 'policy_code',\n",
       " 'application_type',\n",
       " 'acc_now_delinq',\n",
       " 'tot_coll_amt',\n",
       " 'tot_cur_bal',\n",
       " 'total_rev_hi_lim',\n",
       " 'acc_open_past_24mths',\n",
       " 'avg_cur_bal',\n",
       " 'bc_open_to_buy',\n",
       " 'bc_util',\n",
       " 'chargeoff_within_12_mths',\n",
       " 'delinq_amnt',\n",
       " 'mo_sin_old_il_acct',\n",
       " 'mo_sin_old_rev_tl_op',\n",
       " 'mo_sin_rcnt_rev_tl_op',\n",
       " 'mo_sin_rcnt_tl',\n",
       " 'mort_acc',\n",
       " 'mths_since_recent_bc',\n",
       " 'num_accts_ever_120_pd',\n",
       " 'num_actv_bc_tl',\n",
       " 'num_actv_rev_tl',\n",
       " 'num_bc_sats',\n",
       " 'num_bc_tl',\n",
       " 'num_il_tl',\n",
       " 'num_op_rev_tl',\n",
       " 'num_rev_accts',\n",
       " 'num_rev_tl_bal_gt_0',\n",
       " 'num_sats',\n",
       " 'num_tl_120dpd_2m',\n",
       " 'num_tl_30dpd',\n",
       " 'num_tl_90g_dpd_24m',\n",
       " 'num_tl_op_past_12m',\n",
       " 'pct_tl_nvr_dlq',\n",
       " 'percent_bc_gt_75',\n",
       " 'pub_rec_bankruptcies',\n",
       " 'tax_liens',\n",
       " 'tot_hi_cred_lim',\n",
       " 'total_bal_ex_mort',\n",
       " 'total_bc_limit',\n",
       " 'total_il_high_credit_limit',\n",
       " 'hardship_flag',\n",
       " 'disbursement_method',\n",
       " 'debt_settlement_flag']"
      ]
     },
     "execution_count": 10,
     "metadata": {},
     "output_type": "execute_result"
    }
   ],
   "source": [
    "features = original_df.columns[((original_df.isna().sum()/len(original_df))*100 < 10)].to_list()\n",
    "features "
   ]
  },
  {
   "cell_type": "code",
   "execution_count": 11,
   "id": "e5cb3134",
   "metadata": {},
   "outputs": [
    {
     "data": {
      "text/plain": [
       "92"
      ]
     },
     "execution_count": 11,
     "metadata": {},
     "output_type": "execute_result"
    }
   ],
   "source": [
    "len(features)"
   ]
  },
  {
   "cell_type": "markdown",
   "id": "e19565c2",
   "metadata": {},
   "source": [
    "Take a closer look at values in each column and decide columns to keep for further analysis."
   ]
  },
  {
   "cell_type": "code",
   "execution_count": 12,
   "id": "62cdd49d",
   "metadata": {},
   "outputs": [],
   "source": [
    "feat_df =original_df[(features)]"
   ]
  },
  {
   "cell_type": "code",
   "execution_count": 13,
   "id": "6d697e97",
   "metadata": {},
   "outputs": [
    {
     "data": {
      "text/html": [
       "<div>\n",
       "<style scoped>\n",
       "    .dataframe tbody tr th:only-of-type {\n",
       "        vertical-align: middle;\n",
       "    }\n",
       "\n",
       "    .dataframe tbody tr th {\n",
       "        vertical-align: top;\n",
       "    }\n",
       "\n",
       "    .dataframe thead th {\n",
       "        text-align: right;\n",
       "    }\n",
       "</style>\n",
       "<table border=\"1\" class=\"dataframe\">\n",
       "  <thead>\n",
       "    <tr style=\"text-align: right;\">\n",
       "      <th></th>\n",
       "      <th>id</th>\n",
       "      <th>loan_amnt</th>\n",
       "      <th>funded_amnt</th>\n",
       "      <th>funded_amnt_inv</th>\n",
       "      <th>term</th>\n",
       "      <th>int_rate</th>\n",
       "      <th>installment</th>\n",
       "      <th>grade</th>\n",
       "      <th>sub_grade</th>\n",
       "      <th>emp_title</th>\n",
       "      <th>emp_length</th>\n",
       "      <th>home_ownership</th>\n",
       "      <th>annual_inc</th>\n",
       "      <th>verification_status</th>\n",
       "      <th>issue_d</th>\n",
       "      <th>loan_status</th>\n",
       "      <th>pymnt_plan</th>\n",
       "      <th>url</th>\n",
       "      <th>purpose</th>\n",
       "      <th>title</th>\n",
       "    </tr>\n",
       "  </thead>\n",
       "  <tbody>\n",
       "    <tr>\n",
       "      <th>0</th>\n",
       "      <td>68407277</td>\n",
       "      <td>3600.0</td>\n",
       "      <td>3600.0</td>\n",
       "      <td>3600.0</td>\n",
       "      <td>36 months</td>\n",
       "      <td>13.99</td>\n",
       "      <td>123.03</td>\n",
       "      <td>C</td>\n",
       "      <td>C4</td>\n",
       "      <td>leadman</td>\n",
       "      <td>10+ years</td>\n",
       "      <td>MORTGAGE</td>\n",
       "      <td>55000.0</td>\n",
       "      <td>Not Verified</td>\n",
       "      <td>Dec-2015</td>\n",
       "      <td>Fully Paid</td>\n",
       "      <td>n</td>\n",
       "      <td>https://lendingclub.com/browse/loanDetail.acti...</td>\n",
       "      <td>debt_consolidation</td>\n",
       "      <td>Debt consolidation</td>\n",
       "    </tr>\n",
       "    <tr>\n",
       "      <th>1</th>\n",
       "      <td>68355089</td>\n",
       "      <td>24700.0</td>\n",
       "      <td>24700.0</td>\n",
       "      <td>24700.0</td>\n",
       "      <td>36 months</td>\n",
       "      <td>11.99</td>\n",
       "      <td>820.28</td>\n",
       "      <td>C</td>\n",
       "      <td>C1</td>\n",
       "      <td>Engineer</td>\n",
       "      <td>10+ years</td>\n",
       "      <td>MORTGAGE</td>\n",
       "      <td>65000.0</td>\n",
       "      <td>Not Verified</td>\n",
       "      <td>Dec-2015</td>\n",
       "      <td>Fully Paid</td>\n",
       "      <td>n</td>\n",
       "      <td>https://lendingclub.com/browse/loanDetail.acti...</td>\n",
       "      <td>small_business</td>\n",
       "      <td>Business</td>\n",
       "    </tr>\n",
       "    <tr>\n",
       "      <th>2</th>\n",
       "      <td>68341763</td>\n",
       "      <td>20000.0</td>\n",
       "      <td>20000.0</td>\n",
       "      <td>20000.0</td>\n",
       "      <td>60 months</td>\n",
       "      <td>10.78</td>\n",
       "      <td>432.66</td>\n",
       "      <td>B</td>\n",
       "      <td>B4</td>\n",
       "      <td>truck driver</td>\n",
       "      <td>10+ years</td>\n",
       "      <td>MORTGAGE</td>\n",
       "      <td>63000.0</td>\n",
       "      <td>Not Verified</td>\n",
       "      <td>Dec-2015</td>\n",
       "      <td>Fully Paid</td>\n",
       "      <td>n</td>\n",
       "      <td>https://lendingclub.com/browse/loanDetail.acti...</td>\n",
       "      <td>home_improvement</td>\n",
       "      <td>NaN</td>\n",
       "    </tr>\n",
       "    <tr>\n",
       "      <th>3</th>\n",
       "      <td>66310712</td>\n",
       "      <td>35000.0</td>\n",
       "      <td>35000.0</td>\n",
       "      <td>35000.0</td>\n",
       "      <td>60 months</td>\n",
       "      <td>14.85</td>\n",
       "      <td>829.90</td>\n",
       "      <td>C</td>\n",
       "      <td>C5</td>\n",
       "      <td>Information Systems Officer</td>\n",
       "      <td>10+ years</td>\n",
       "      <td>MORTGAGE</td>\n",
       "      <td>110000.0</td>\n",
       "      <td>Source Verified</td>\n",
       "      <td>Dec-2015</td>\n",
       "      <td>Current</td>\n",
       "      <td>n</td>\n",
       "      <td>https://lendingclub.com/browse/loanDetail.acti...</td>\n",
       "      <td>debt_consolidation</td>\n",
       "      <td>Debt consolidation</td>\n",
       "    </tr>\n",
       "    <tr>\n",
       "      <th>4</th>\n",
       "      <td>68476807</td>\n",
       "      <td>10400.0</td>\n",
       "      <td>10400.0</td>\n",
       "      <td>10400.0</td>\n",
       "      <td>60 months</td>\n",
       "      <td>22.45</td>\n",
       "      <td>289.91</td>\n",
       "      <td>F</td>\n",
       "      <td>F1</td>\n",
       "      <td>Contract Specialist</td>\n",
       "      <td>3 years</td>\n",
       "      <td>MORTGAGE</td>\n",
       "      <td>104433.0</td>\n",
       "      <td>Source Verified</td>\n",
       "      <td>Dec-2015</td>\n",
       "      <td>Fully Paid</td>\n",
       "      <td>n</td>\n",
       "      <td>https://lendingclub.com/browse/loanDetail.acti...</td>\n",
       "      <td>major_purchase</td>\n",
       "      <td>Major purchase</td>\n",
       "    </tr>\n",
       "  </tbody>\n",
       "</table>\n",
       "</div>"
      ],
      "text/plain": [
       "         id  loan_amnt  funded_amnt  funded_amnt_inv        term  int_rate  \\\n",
       "0  68407277     3600.0       3600.0           3600.0   36 months     13.99   \n",
       "1  68355089    24700.0      24700.0          24700.0   36 months     11.99   \n",
       "2  68341763    20000.0      20000.0          20000.0   60 months     10.78   \n",
       "3  66310712    35000.0      35000.0          35000.0   60 months     14.85   \n",
       "4  68476807    10400.0      10400.0          10400.0   60 months     22.45   \n",
       "\n",
       "   installment grade sub_grade                    emp_title emp_length  \\\n",
       "0       123.03     C        C4                      leadman  10+ years   \n",
       "1       820.28     C        C1                     Engineer  10+ years   \n",
       "2       432.66     B        B4                 truck driver  10+ years   \n",
       "3       829.90     C        C5  Information Systems Officer  10+ years   \n",
       "4       289.91     F        F1          Contract Specialist    3 years   \n",
       "\n",
       "  home_ownership  annual_inc verification_status   issue_d loan_status  \\\n",
       "0       MORTGAGE     55000.0        Not Verified  Dec-2015  Fully Paid   \n",
       "1       MORTGAGE     65000.0        Not Verified  Dec-2015  Fully Paid   \n",
       "2       MORTGAGE     63000.0        Not Verified  Dec-2015  Fully Paid   \n",
       "3       MORTGAGE    110000.0     Source Verified  Dec-2015     Current   \n",
       "4       MORTGAGE    104433.0     Source Verified  Dec-2015  Fully Paid   \n",
       "\n",
       "  pymnt_plan                                                url  \\\n",
       "0          n  https://lendingclub.com/browse/loanDetail.acti...   \n",
       "1          n  https://lendingclub.com/browse/loanDetail.acti...   \n",
       "2          n  https://lendingclub.com/browse/loanDetail.acti...   \n",
       "3          n  https://lendingclub.com/browse/loanDetail.acti...   \n",
       "4          n  https://lendingclub.com/browse/loanDetail.acti...   \n",
       "\n",
       "              purpose               title  \n",
       "0  debt_consolidation  Debt consolidation  \n",
       "1      small_business            Business  \n",
       "2    home_improvement                 NaN  \n",
       "3  debt_consolidation  Debt consolidation  \n",
       "4      major_purchase      Major purchase  "
      ]
     },
     "execution_count": 13,
     "metadata": {},
     "output_type": "execute_result"
    }
   ],
   "source": [
    "feat_df.iloc[:,0:20].head()"
   ]
  },
  {
   "cell_type": "code",
   "execution_count": 14,
   "id": "63d05766",
   "metadata": {},
   "outputs": [
    {
     "data": {
      "text/plain": [
       "debt_consolidation    1277877\n",
       "credit_card            516971\n",
       "home_improvement       150457\n",
       "other                  139440\n",
       "major_purchase          50445\n",
       "medical                 27488\n",
       "small_business          24689\n",
       "car                     24013\n",
       "vacation                15525\n",
       "moving                  15403\n",
       "house                   14136\n",
       "wedding                  2355\n",
       "renewable_energy         1445\n",
       "educational               424\n",
       "Name: purpose, dtype: int64"
      ]
     },
     "execution_count": 14,
     "metadata": {},
     "output_type": "execute_result"
    }
   ],
   "source": [
    "feat_df.purpose.value_counts()"
   ]
  },
  {
   "cell_type": "code",
   "execution_count": 15,
   "id": "727bcb11",
   "metadata": {},
   "outputs": [
    {
     "data": {
      "text/plain": [
       "33"
      ]
     },
     "execution_count": 15,
     "metadata": {},
     "output_type": "execute_result"
    }
   ],
   "source": [
    "feat_df.purpose.isna().sum()"
   ]
  },
  {
   "cell_type": "code",
   "execution_count": 16,
   "id": "aa2ee810",
   "metadata": {},
   "outputs": [
    {
     "data": {
      "text/plain": [
       "array(['Debt consolidation', 'Business', nan, ..., 'takeitaway',\n",
       "       'Creditt Card Loan', 'debt reduction/hone updates'], dtype=object)"
      ]
     },
     "execution_count": 16,
     "metadata": {},
     "output_type": "execute_result"
    }
   ],
   "source": [
    "feat_df.title.unique()"
   ]
  },
  {
   "cell_type": "code",
   "execution_count": 17,
   "id": "a0b5a772",
   "metadata": {},
   "outputs": [
    {
     "data": {
      "text/plain": [
       "23358"
      ]
     },
     "execution_count": 17,
     "metadata": {},
     "output_type": "execute_result"
    }
   ],
   "source": [
    "feat_df.title.isna().sum()"
   ]
  },
  {
   "cell_type": "markdown",
   "id": "ca781557",
   "metadata": {},
   "source": [
    "Create a list for the columns I am going to choose"
   ]
  },
  {
   "cell_type": "code",
   "execution_count": 18,
   "id": "deede23a",
   "metadata": {},
   "outputs": [],
   "source": [
    "list_1= ['loan_amnt','term','int_rate','sub_grade','emp_title','emp_length','home_ownership','annual_inc',\n",
    "         'verification_status','loan_status','purpose']"
   ]
  },
  {
   "cell_type": "code",
   "execution_count": 19,
   "id": "1d00bb2a",
   "metadata": {},
   "outputs": [
    {
     "data": {
      "text/html": [
       "<div>\n",
       "<style scoped>\n",
       "    .dataframe tbody tr th:only-of-type {\n",
       "        vertical-align: middle;\n",
       "    }\n",
       "\n",
       "    .dataframe tbody tr th {\n",
       "        vertical-align: top;\n",
       "    }\n",
       "\n",
       "    .dataframe thead th {\n",
       "        text-align: right;\n",
       "    }\n",
       "</style>\n",
       "<table border=\"1\" class=\"dataframe\">\n",
       "  <thead>\n",
       "    <tr style=\"text-align: right;\">\n",
       "      <th></th>\n",
       "      <th>addr_state</th>\n",
       "      <th>dti</th>\n",
       "      <th>delinq_2yrs</th>\n",
       "      <th>earliest_cr_line</th>\n",
       "      <th>fico_range_low</th>\n",
       "      <th>fico_range_high</th>\n",
       "      <th>inq_last_6mths</th>\n",
       "      <th>open_acc</th>\n",
       "      <th>pub_rec</th>\n",
       "      <th>revol_bal</th>\n",
       "      <th>revol_util</th>\n",
       "      <th>total_acc</th>\n",
       "      <th>initial_list_status</th>\n",
       "      <th>out_prncp</th>\n",
       "      <th>out_prncp_inv</th>\n",
       "      <th>total_pymnt</th>\n",
       "      <th>total_pymnt_inv</th>\n",
       "      <th>total_rec_prncp</th>\n",
       "      <th>total_rec_int</th>\n",
       "    </tr>\n",
       "  </thead>\n",
       "  <tbody>\n",
       "    <tr>\n",
       "      <th>0</th>\n",
       "      <td>PA</td>\n",
       "      <td>5.91</td>\n",
       "      <td>0.0</td>\n",
       "      <td>Aug-2003</td>\n",
       "      <td>675.0</td>\n",
       "      <td>679.0</td>\n",
       "      <td>1.0</td>\n",
       "      <td>7.0</td>\n",
       "      <td>0.0</td>\n",
       "      <td>2765.0</td>\n",
       "      <td>29.7</td>\n",
       "      <td>13.0</td>\n",
       "      <td>w</td>\n",
       "      <td>0.00</td>\n",
       "      <td>0.00</td>\n",
       "      <td>4421.723917</td>\n",
       "      <td>4421.72</td>\n",
       "      <td>3600.00</td>\n",
       "      <td>821.72</td>\n",
       "    </tr>\n",
       "    <tr>\n",
       "      <th>1</th>\n",
       "      <td>SD</td>\n",
       "      <td>16.06</td>\n",
       "      <td>1.0</td>\n",
       "      <td>Dec-1999</td>\n",
       "      <td>715.0</td>\n",
       "      <td>719.0</td>\n",
       "      <td>4.0</td>\n",
       "      <td>22.0</td>\n",
       "      <td>0.0</td>\n",
       "      <td>21470.0</td>\n",
       "      <td>19.2</td>\n",
       "      <td>38.0</td>\n",
       "      <td>w</td>\n",
       "      <td>0.00</td>\n",
       "      <td>0.00</td>\n",
       "      <td>25679.660000</td>\n",
       "      <td>25679.66</td>\n",
       "      <td>24700.00</td>\n",
       "      <td>979.66</td>\n",
       "    </tr>\n",
       "    <tr>\n",
       "      <th>2</th>\n",
       "      <td>IL</td>\n",
       "      <td>10.78</td>\n",
       "      <td>0.0</td>\n",
       "      <td>Aug-2000</td>\n",
       "      <td>695.0</td>\n",
       "      <td>699.0</td>\n",
       "      <td>0.0</td>\n",
       "      <td>6.0</td>\n",
       "      <td>0.0</td>\n",
       "      <td>7869.0</td>\n",
       "      <td>56.2</td>\n",
       "      <td>18.0</td>\n",
       "      <td>w</td>\n",
       "      <td>0.00</td>\n",
       "      <td>0.00</td>\n",
       "      <td>22705.924294</td>\n",
       "      <td>22705.92</td>\n",
       "      <td>20000.00</td>\n",
       "      <td>2705.92</td>\n",
       "    </tr>\n",
       "    <tr>\n",
       "      <th>3</th>\n",
       "      <td>NJ</td>\n",
       "      <td>17.06</td>\n",
       "      <td>0.0</td>\n",
       "      <td>Sep-2008</td>\n",
       "      <td>785.0</td>\n",
       "      <td>789.0</td>\n",
       "      <td>0.0</td>\n",
       "      <td>13.0</td>\n",
       "      <td>0.0</td>\n",
       "      <td>7802.0</td>\n",
       "      <td>11.6</td>\n",
       "      <td>17.0</td>\n",
       "      <td>w</td>\n",
       "      <td>15897.65</td>\n",
       "      <td>15897.65</td>\n",
       "      <td>31464.010000</td>\n",
       "      <td>31464.01</td>\n",
       "      <td>19102.35</td>\n",
       "      <td>12361.66</td>\n",
       "    </tr>\n",
       "    <tr>\n",
       "      <th>4</th>\n",
       "      <td>PA</td>\n",
       "      <td>25.37</td>\n",
       "      <td>1.0</td>\n",
       "      <td>Jun-1998</td>\n",
       "      <td>695.0</td>\n",
       "      <td>699.0</td>\n",
       "      <td>3.0</td>\n",
       "      <td>12.0</td>\n",
       "      <td>0.0</td>\n",
       "      <td>21929.0</td>\n",
       "      <td>64.5</td>\n",
       "      <td>35.0</td>\n",
       "      <td>w</td>\n",
       "      <td>0.00</td>\n",
       "      <td>0.00</td>\n",
       "      <td>11740.500000</td>\n",
       "      <td>11740.50</td>\n",
       "      <td>10400.00</td>\n",
       "      <td>1340.50</td>\n",
       "    </tr>\n",
       "  </tbody>\n",
       "</table>\n",
       "</div>"
      ],
      "text/plain": [
       "  addr_state    dti  delinq_2yrs earliest_cr_line  fico_range_low  \\\n",
       "0         PA   5.91          0.0         Aug-2003           675.0   \n",
       "1         SD  16.06          1.0         Dec-1999           715.0   \n",
       "2         IL  10.78          0.0         Aug-2000           695.0   \n",
       "3         NJ  17.06          0.0         Sep-2008           785.0   \n",
       "4         PA  25.37          1.0         Jun-1998           695.0   \n",
       "\n",
       "   fico_range_high  inq_last_6mths  open_acc  pub_rec  revol_bal  revol_util  \\\n",
       "0            679.0             1.0       7.0      0.0     2765.0        29.7   \n",
       "1            719.0             4.0      22.0      0.0    21470.0        19.2   \n",
       "2            699.0             0.0       6.0      0.0     7869.0        56.2   \n",
       "3            789.0             0.0      13.0      0.0     7802.0        11.6   \n",
       "4            699.0             3.0      12.0      0.0    21929.0        64.5   \n",
       "\n",
       "   total_acc initial_list_status  out_prncp  out_prncp_inv   total_pymnt  \\\n",
       "0       13.0                   w       0.00           0.00   4421.723917   \n",
       "1       38.0                   w       0.00           0.00  25679.660000   \n",
       "2       18.0                   w       0.00           0.00  22705.924294   \n",
       "3       17.0                   w   15897.65       15897.65  31464.010000   \n",
       "4       35.0                   w       0.00           0.00  11740.500000   \n",
       "\n",
       "   total_pymnt_inv  total_rec_prncp  total_rec_int  \n",
       "0          4421.72          3600.00         821.72  \n",
       "1         25679.66         24700.00         979.66  \n",
       "2         22705.92         20000.00        2705.92  \n",
       "3         31464.01         19102.35       12361.66  \n",
       "4         11740.50         10400.00        1340.50  "
      ]
     },
     "execution_count": 19,
     "metadata": {},
     "output_type": "execute_result"
    }
   ],
   "source": [
    "feat_df.iloc[:,21:40].head()"
   ]
  },
  {
   "cell_type": "code",
   "execution_count": 20,
   "id": "dd3f1ee9",
   "metadata": {},
   "outputs": [
    {
     "data": {
      "text/plain": [
       "9.0     195762\n",
       "10.0    189737\n",
       "8.0     188717\n",
       "11.0    175101\n",
       "7.0     172834\n",
       "         ...  \n",
       "77.0         1\n",
       "93.0         1\n",
       "90.0         1\n",
       "79.0         1\n",
       "97.0         1\n",
       "Name: open_acc, Length: 91, dtype: int64"
      ]
     },
     "execution_count": 20,
     "metadata": {},
     "output_type": "execute_result"
    }
   ],
   "source": [
    "feat_df['open_acc'].value_counts()"
   ]
  },
  {
   "cell_type": "markdown",
   "id": "55be9699",
   "metadata": {},
   "source": [
    "Create a second list for the columns I am going to choose"
   ]
  },
  {
   "cell_type": "code",
   "execution_count": 21,
   "id": "0880f64b",
   "metadata": {},
   "outputs": [],
   "source": [
    "list_2 =['addr_state','fico_range_low','fico_range_high','open_acc','pub_rec','revol_bal','revol_util','total_acc',\n",
    "        'initial_list_status']"
   ]
  },
  {
   "cell_type": "code",
   "execution_count": 22,
   "id": "da15f2a0",
   "metadata": {},
   "outputs": [
    {
     "data": {
      "text/html": [
       "<div>\n",
       "<style scoped>\n",
       "    .dataframe tbody tr th:only-of-type {\n",
       "        vertical-align: middle;\n",
       "    }\n",
       "\n",
       "    .dataframe tbody tr th {\n",
       "        vertical-align: top;\n",
       "    }\n",
       "\n",
       "    .dataframe thead th {\n",
       "        text-align: right;\n",
       "    }\n",
       "</style>\n",
       "<table border=\"1\" class=\"dataframe\">\n",
       "  <thead>\n",
       "    <tr style=\"text-align: right;\">\n",
       "      <th></th>\n",
       "      <th>recoveries</th>\n",
       "      <th>collection_recovery_fee</th>\n",
       "      <th>last_pymnt_d</th>\n",
       "      <th>last_pymnt_amnt</th>\n",
       "      <th>last_credit_pull_d</th>\n",
       "      <th>last_fico_range_high</th>\n",
       "      <th>last_fico_range_low</th>\n",
       "      <th>collections_12_mths_ex_med</th>\n",
       "      <th>policy_code</th>\n",
       "      <th>application_type</th>\n",
       "      <th>acc_now_delinq</th>\n",
       "      <th>tot_coll_amt</th>\n",
       "      <th>tot_cur_bal</th>\n",
       "      <th>total_rev_hi_lim</th>\n",
       "      <th>acc_open_past_24mths</th>\n",
       "      <th>avg_cur_bal</th>\n",
       "      <th>bc_open_to_buy</th>\n",
       "      <th>bc_util</th>\n",
       "      <th>chargeoff_within_12_mths</th>\n",
       "    </tr>\n",
       "  </thead>\n",
       "  <tbody>\n",
       "    <tr>\n",
       "      <th>0</th>\n",
       "      <td>0.0</td>\n",
       "      <td>0.0</td>\n",
       "      <td>Jan-2019</td>\n",
       "      <td>122.67</td>\n",
       "      <td>Mar-2019</td>\n",
       "      <td>564.0</td>\n",
       "      <td>560.0</td>\n",
       "      <td>0.0</td>\n",
       "      <td>1.0</td>\n",
       "      <td>Individual</td>\n",
       "      <td>0.0</td>\n",
       "      <td>722.0</td>\n",
       "      <td>144904.0</td>\n",
       "      <td>9300.0</td>\n",
       "      <td>4.0</td>\n",
       "      <td>20701.0</td>\n",
       "      <td>1506.0</td>\n",
       "      <td>37.2</td>\n",
       "      <td>0.0</td>\n",
       "    </tr>\n",
       "    <tr>\n",
       "      <th>1</th>\n",
       "      <td>0.0</td>\n",
       "      <td>0.0</td>\n",
       "      <td>Jun-2016</td>\n",
       "      <td>926.35</td>\n",
       "      <td>Mar-2019</td>\n",
       "      <td>699.0</td>\n",
       "      <td>695.0</td>\n",
       "      <td>0.0</td>\n",
       "      <td>1.0</td>\n",
       "      <td>Individual</td>\n",
       "      <td>0.0</td>\n",
       "      <td>0.0</td>\n",
       "      <td>204396.0</td>\n",
       "      <td>111800.0</td>\n",
       "      <td>4.0</td>\n",
       "      <td>9733.0</td>\n",
       "      <td>57830.0</td>\n",
       "      <td>27.1</td>\n",
       "      <td>0.0</td>\n",
       "    </tr>\n",
       "    <tr>\n",
       "      <th>2</th>\n",
       "      <td>0.0</td>\n",
       "      <td>0.0</td>\n",
       "      <td>Jun-2017</td>\n",
       "      <td>15813.30</td>\n",
       "      <td>Mar-2019</td>\n",
       "      <td>704.0</td>\n",
       "      <td>700.0</td>\n",
       "      <td>0.0</td>\n",
       "      <td>1.0</td>\n",
       "      <td>Joint App</td>\n",
       "      <td>0.0</td>\n",
       "      <td>0.0</td>\n",
       "      <td>189699.0</td>\n",
       "      <td>14000.0</td>\n",
       "      <td>6.0</td>\n",
       "      <td>31617.0</td>\n",
       "      <td>2737.0</td>\n",
       "      <td>55.9</td>\n",
       "      <td>0.0</td>\n",
       "    </tr>\n",
       "    <tr>\n",
       "      <th>3</th>\n",
       "      <td>0.0</td>\n",
       "      <td>0.0</td>\n",
       "      <td>Feb-2019</td>\n",
       "      <td>829.90</td>\n",
       "      <td>Mar-2019</td>\n",
       "      <td>679.0</td>\n",
       "      <td>675.0</td>\n",
       "      <td>0.0</td>\n",
       "      <td>1.0</td>\n",
       "      <td>Individual</td>\n",
       "      <td>0.0</td>\n",
       "      <td>0.0</td>\n",
       "      <td>301500.0</td>\n",
       "      <td>67300.0</td>\n",
       "      <td>2.0</td>\n",
       "      <td>23192.0</td>\n",
       "      <td>54962.0</td>\n",
       "      <td>12.1</td>\n",
       "      <td>0.0</td>\n",
       "    </tr>\n",
       "    <tr>\n",
       "      <th>4</th>\n",
       "      <td>0.0</td>\n",
       "      <td>0.0</td>\n",
       "      <td>Jul-2016</td>\n",
       "      <td>10128.96</td>\n",
       "      <td>Mar-2018</td>\n",
       "      <td>704.0</td>\n",
       "      <td>700.0</td>\n",
       "      <td>0.0</td>\n",
       "      <td>1.0</td>\n",
       "      <td>Individual</td>\n",
       "      <td>0.0</td>\n",
       "      <td>0.0</td>\n",
       "      <td>331730.0</td>\n",
       "      <td>34000.0</td>\n",
       "      <td>10.0</td>\n",
       "      <td>27644.0</td>\n",
       "      <td>4567.0</td>\n",
       "      <td>77.5</td>\n",
       "      <td>0.0</td>\n",
       "    </tr>\n",
       "  </tbody>\n",
       "</table>\n",
       "</div>"
      ],
      "text/plain": [
       "   recoveries  collection_recovery_fee last_pymnt_d  last_pymnt_amnt  \\\n",
       "0         0.0                      0.0     Jan-2019           122.67   \n",
       "1         0.0                      0.0     Jun-2016           926.35   \n",
       "2         0.0                      0.0     Jun-2017         15813.30   \n",
       "3         0.0                      0.0     Feb-2019           829.90   \n",
       "4         0.0                      0.0     Jul-2016         10128.96   \n",
       "\n",
       "  last_credit_pull_d  last_fico_range_high  last_fico_range_low  \\\n",
       "0           Mar-2019                 564.0                560.0   \n",
       "1           Mar-2019                 699.0                695.0   \n",
       "2           Mar-2019                 704.0                700.0   \n",
       "3           Mar-2019                 679.0                675.0   \n",
       "4           Mar-2018                 704.0                700.0   \n",
       "\n",
       "   collections_12_mths_ex_med  policy_code application_type  acc_now_delinq  \\\n",
       "0                         0.0          1.0       Individual             0.0   \n",
       "1                         0.0          1.0       Individual             0.0   \n",
       "2                         0.0          1.0        Joint App             0.0   \n",
       "3                         0.0          1.0       Individual             0.0   \n",
       "4                         0.0          1.0       Individual             0.0   \n",
       "\n",
       "   tot_coll_amt  tot_cur_bal  total_rev_hi_lim  acc_open_past_24mths  \\\n",
       "0         722.0     144904.0            9300.0                   4.0   \n",
       "1           0.0     204396.0          111800.0                   4.0   \n",
       "2           0.0     189699.0           14000.0                   6.0   \n",
       "3           0.0     301500.0           67300.0                   2.0   \n",
       "4           0.0     331730.0           34000.0                  10.0   \n",
       "\n",
       "   avg_cur_bal  bc_open_to_buy  bc_util  chargeoff_within_12_mths  \n",
       "0      20701.0          1506.0     37.2                       0.0  \n",
       "1       9733.0         57830.0     27.1                       0.0  \n",
       "2      31617.0          2737.0     55.9                       0.0  \n",
       "3      23192.0         54962.0     12.1                       0.0  \n",
       "4      27644.0          4567.0     77.5                       0.0  "
      ]
     },
     "execution_count": 22,
     "metadata": {},
     "output_type": "execute_result"
    }
   ],
   "source": [
    "feat_df.iloc[:,41:60].head()"
   ]
  },
  {
   "cell_type": "code",
   "execution_count": 23,
   "id": "0e550e92",
   "metadata": {},
   "outputs": [
    {
     "data": {
      "text/plain": [
       "0.0     2243339\n",
       "1.0       15765\n",
       "2.0        1115\n",
       "3.0         186\n",
       "4.0          68\n",
       "5.0          22\n",
       "6.0          12\n",
       "7.0           8\n",
       "9.0           5\n",
       "8.0           2\n",
       "10.0          1\n",
       "Name: chargeoff_within_12_mths, dtype: int64"
      ]
     },
     "execution_count": 23,
     "metadata": {},
     "output_type": "execute_result"
    }
   ],
   "source": [
    "feat_df['chargeoff_within_12_mths'].value_counts()"
   ]
  },
  {
   "cell_type": "markdown",
   "id": "65e00de3",
   "metadata": {},
   "source": [
    "Create a third list for the columns I am going to choose from above"
   ]
  },
  {
   "cell_type": "code",
   "execution_count": 24,
   "id": "a7f4fe27",
   "metadata": {},
   "outputs": [],
   "source": [
    "list_3=['application_type','tot_cur_bal']"
   ]
  },
  {
   "cell_type": "code",
   "execution_count": 25,
   "id": "748e0f1a",
   "metadata": {},
   "outputs": [
    {
     "data": {
      "text/html": [
       "<div>\n",
       "<style scoped>\n",
       "    .dataframe tbody tr th:only-of-type {\n",
       "        vertical-align: middle;\n",
       "    }\n",
       "\n",
       "    .dataframe tbody tr th {\n",
       "        vertical-align: top;\n",
       "    }\n",
       "\n",
       "    .dataframe thead th {\n",
       "        text-align: right;\n",
       "    }\n",
       "</style>\n",
       "<table border=\"1\" class=\"dataframe\">\n",
       "  <thead>\n",
       "    <tr style=\"text-align: right;\">\n",
       "      <th></th>\n",
       "      <th>mo_sin_old_il_acct</th>\n",
       "      <th>mo_sin_old_rev_tl_op</th>\n",
       "      <th>mo_sin_rcnt_rev_tl_op</th>\n",
       "      <th>mo_sin_rcnt_tl</th>\n",
       "      <th>mort_acc</th>\n",
       "      <th>mths_since_recent_bc</th>\n",
       "      <th>num_accts_ever_120_pd</th>\n",
       "      <th>num_actv_bc_tl</th>\n",
       "      <th>num_actv_rev_tl</th>\n",
       "      <th>num_bc_sats</th>\n",
       "      <th>num_bc_tl</th>\n",
       "      <th>num_il_tl</th>\n",
       "      <th>num_op_rev_tl</th>\n",
       "      <th>num_rev_accts</th>\n",
       "      <th>num_rev_tl_bal_gt_0</th>\n",
       "      <th>num_sats</th>\n",
       "      <th>num_tl_120dpd_2m</th>\n",
       "      <th>num_tl_30dpd</th>\n",
       "      <th>num_tl_90g_dpd_24m</th>\n",
       "    </tr>\n",
       "  </thead>\n",
       "  <tbody>\n",
       "    <tr>\n",
       "      <th>0</th>\n",
       "      <td>148.0</td>\n",
       "      <td>128.0</td>\n",
       "      <td>3.0</td>\n",
       "      <td>3.0</td>\n",
       "      <td>1.0</td>\n",
       "      <td>4.0</td>\n",
       "      <td>2.0</td>\n",
       "      <td>2.0</td>\n",
       "      <td>4.0</td>\n",
       "      <td>2.0</td>\n",
       "      <td>5.0</td>\n",
       "      <td>3.0</td>\n",
       "      <td>4.0</td>\n",
       "      <td>9.0</td>\n",
       "      <td>4.0</td>\n",
       "      <td>7.0</td>\n",
       "      <td>0.0</td>\n",
       "      <td>0.0</td>\n",
       "      <td>0.0</td>\n",
       "    </tr>\n",
       "    <tr>\n",
       "      <th>1</th>\n",
       "      <td>113.0</td>\n",
       "      <td>192.0</td>\n",
       "      <td>2.0</td>\n",
       "      <td>2.0</td>\n",
       "      <td>4.0</td>\n",
       "      <td>2.0</td>\n",
       "      <td>0.0</td>\n",
       "      <td>5.0</td>\n",
       "      <td>5.0</td>\n",
       "      <td>13.0</td>\n",
       "      <td>17.0</td>\n",
       "      <td>6.0</td>\n",
       "      <td>20.0</td>\n",
       "      <td>27.0</td>\n",
       "      <td>5.0</td>\n",
       "      <td>22.0</td>\n",
       "      <td>0.0</td>\n",
       "      <td>0.0</td>\n",
       "      <td>0.0</td>\n",
       "    </tr>\n",
       "    <tr>\n",
       "      <th>2</th>\n",
       "      <td>125.0</td>\n",
       "      <td>184.0</td>\n",
       "      <td>14.0</td>\n",
       "      <td>14.0</td>\n",
       "      <td>5.0</td>\n",
       "      <td>101.0</td>\n",
       "      <td>0.0</td>\n",
       "      <td>2.0</td>\n",
       "      <td>3.0</td>\n",
       "      <td>2.0</td>\n",
       "      <td>4.0</td>\n",
       "      <td>6.0</td>\n",
       "      <td>4.0</td>\n",
       "      <td>7.0</td>\n",
       "      <td>3.0</td>\n",
       "      <td>6.0</td>\n",
       "      <td>0.0</td>\n",
       "      <td>0.0</td>\n",
       "      <td>0.0</td>\n",
       "    </tr>\n",
       "    <tr>\n",
       "      <th>3</th>\n",
       "      <td>36.0</td>\n",
       "      <td>87.0</td>\n",
       "      <td>2.0</td>\n",
       "      <td>2.0</td>\n",
       "      <td>1.0</td>\n",
       "      <td>2.0</td>\n",
       "      <td>0.0</td>\n",
       "      <td>4.0</td>\n",
       "      <td>5.0</td>\n",
       "      <td>8.0</td>\n",
       "      <td>10.0</td>\n",
       "      <td>2.0</td>\n",
       "      <td>10.0</td>\n",
       "      <td>13.0</td>\n",
       "      <td>5.0</td>\n",
       "      <td>13.0</td>\n",
       "      <td>0.0</td>\n",
       "      <td>0.0</td>\n",
       "      <td>0.0</td>\n",
       "    </tr>\n",
       "    <tr>\n",
       "      <th>4</th>\n",
       "      <td>128.0</td>\n",
       "      <td>210.0</td>\n",
       "      <td>4.0</td>\n",
       "      <td>4.0</td>\n",
       "      <td>6.0</td>\n",
       "      <td>4.0</td>\n",
       "      <td>0.0</td>\n",
       "      <td>4.0</td>\n",
       "      <td>6.0</td>\n",
       "      <td>5.0</td>\n",
       "      <td>9.0</td>\n",
       "      <td>10.0</td>\n",
       "      <td>7.0</td>\n",
       "      <td>19.0</td>\n",
       "      <td>6.0</td>\n",
       "      <td>12.0</td>\n",
       "      <td>0.0</td>\n",
       "      <td>0.0</td>\n",
       "      <td>0.0</td>\n",
       "    </tr>\n",
       "  </tbody>\n",
       "</table>\n",
       "</div>"
      ],
      "text/plain": [
       "   mo_sin_old_il_acct  mo_sin_old_rev_tl_op  mo_sin_rcnt_rev_tl_op  \\\n",
       "0               148.0                 128.0                    3.0   \n",
       "1               113.0                 192.0                    2.0   \n",
       "2               125.0                 184.0                   14.0   \n",
       "3                36.0                  87.0                    2.0   \n",
       "4               128.0                 210.0                    4.0   \n",
       "\n",
       "   mo_sin_rcnt_tl  mort_acc  mths_since_recent_bc  num_accts_ever_120_pd  \\\n",
       "0             3.0       1.0                   4.0                    2.0   \n",
       "1             2.0       4.0                   2.0                    0.0   \n",
       "2            14.0       5.0                 101.0                    0.0   \n",
       "3             2.0       1.0                   2.0                    0.0   \n",
       "4             4.0       6.0                   4.0                    0.0   \n",
       "\n",
       "   num_actv_bc_tl  num_actv_rev_tl  num_bc_sats  num_bc_tl  num_il_tl  \\\n",
       "0             2.0              4.0          2.0        5.0        3.0   \n",
       "1             5.0              5.0         13.0       17.0        6.0   \n",
       "2             2.0              3.0          2.0        4.0        6.0   \n",
       "3             4.0              5.0          8.0       10.0        2.0   \n",
       "4             4.0              6.0          5.0        9.0       10.0   \n",
       "\n",
       "   num_op_rev_tl  num_rev_accts  num_rev_tl_bal_gt_0  num_sats  \\\n",
       "0            4.0            9.0                  4.0       7.0   \n",
       "1           20.0           27.0                  5.0      22.0   \n",
       "2            4.0            7.0                  3.0       6.0   \n",
       "3           10.0           13.0                  5.0      13.0   \n",
       "4            7.0           19.0                  6.0      12.0   \n",
       "\n",
       "   num_tl_120dpd_2m  num_tl_30dpd  num_tl_90g_dpd_24m  \n",
       "0               0.0           0.0                 0.0  \n",
       "1               0.0           0.0                 0.0  \n",
       "2               0.0           0.0                 0.0  \n",
       "3               0.0           0.0                 0.0  \n",
       "4               0.0           0.0                 0.0  "
      ]
     },
     "execution_count": 25,
     "metadata": {},
     "output_type": "execute_result"
    }
   ],
   "source": [
    "feat_df.iloc[:,61:80].head()"
   ]
  },
  {
   "cell_type": "code",
   "execution_count": 26,
   "id": "81f95d57",
   "metadata": {},
   "outputs": [
    {
     "data": {
      "text/plain": [
       "0.0     929606\n",
       "1.0     393270\n",
       "2.0     325903\n",
       "3.0     231066\n",
       "4.0     150002\n",
       "5.0      86666\n",
       "6.0      46804\n",
       "7.0      23419\n",
       "8.0      11450\n",
       "9.0       5742\n",
       "10.0      2913\n",
       "11.0      1541\n",
       "12.0       815\n",
       "13.0       466\n",
       "14.0       311\n",
       "15.0       178\n",
       "16.0       125\n",
       "17.0        87\n",
       "18.0        64\n",
       "19.0        37\n",
       "20.0        34\n",
       "22.0        20\n",
       "23.0        20\n",
       "24.0        19\n",
       "21.0        17\n",
       "25.0        12\n",
       "27.0         8\n",
       "26.0         6\n",
       "28.0         6\n",
       "29.0         4\n",
       "31.0         4\n",
       "32.0         3\n",
       "30.0         3\n",
       "34.0         3\n",
       "37.0         2\n",
       "45.0         1\n",
       "33.0         1\n",
       "87.0         1\n",
       "36.0         1\n",
       "51.0         1\n",
       "35.0         1\n",
       "94.0         1\n",
       "41.0         1\n",
       "46.0         1\n",
       "52.0         1\n",
       "47.0         1\n",
       "61.0         1\n",
       "Name: mort_acc, dtype: int64"
      ]
     },
     "execution_count": 26,
     "metadata": {},
     "output_type": "execute_result"
    }
   ],
   "source": [
    "feat_df.mort_acc.value_counts()"
   ]
  },
  {
   "cell_type": "code",
   "execution_count": 27,
   "id": "0369e325",
   "metadata": {},
   "outputs": [
    {
     "data": {
      "text/plain": [
       "3.0     458887\n",
       "2.0     442726\n",
       "4.0     357154\n",
       "1.0     256818\n",
       "5.0     240636\n",
       "6.0     152238\n",
       "7.0      91653\n",
       "8.0      55107\n",
       "0.0      50061\n",
       "9.0      33163\n",
       "10.0     19926\n",
       "11.0     12264\n",
       "12.0      7382\n",
       "13.0      4538\n",
       "14.0      2736\n",
       "15.0      1798\n",
       "16.0      1078\n",
       "17.0       752\n",
       "18.0       495\n",
       "19.0       325\n",
       "20.0       185\n",
       "21.0       134\n",
       "22.0        97\n",
       "23.0        66\n",
       "24.0        60\n",
       "25.0        27\n",
       "26.0        23\n",
       "27.0        14\n",
       "29.0        12\n",
       "30.0         9\n",
       "28.0         8\n",
       "32.0         5\n",
       "33.0         4\n",
       "36.0         2\n",
       "48.0         2\n",
       "35.0         1\n",
       "45.0         1\n",
       "31.0         1\n",
       "50.0         1\n",
       "46.0         1\n",
       "47.0         1\n",
       "37.0         1\n",
       "Name: num_actv_bc_tl, dtype: int64"
      ]
     },
     "execution_count": 27,
     "metadata": {},
     "output_type": "execute_result"
    }
   ],
   "source": [
    "feat_df.num_actv_bc_tl.value_counts()"
   ]
  },
  {
   "cell_type": "markdown",
   "id": "0b3a63c0",
   "metadata": {},
   "source": [
    "Create a list from above columns"
   ]
  },
  {
   "cell_type": "code",
   "execution_count": 28,
   "id": "712fc332",
   "metadata": {},
   "outputs": [],
   "source": [
    "list_4=['mort_acc','num_actv_bc_tl']"
   ]
  },
  {
   "cell_type": "code",
   "execution_count": 29,
   "id": "d02f6e86",
   "metadata": {
    "scrolled": true
   },
   "outputs": [
    {
     "data": {
      "text/html": [
       "<div>\n",
       "<style scoped>\n",
       "    .dataframe tbody tr th:only-of-type {\n",
       "        vertical-align: middle;\n",
       "    }\n",
       "\n",
       "    .dataframe tbody tr th {\n",
       "        vertical-align: top;\n",
       "    }\n",
       "\n",
       "    .dataframe thead th {\n",
       "        text-align: right;\n",
       "    }\n",
       "</style>\n",
       "<table border=\"1\" class=\"dataframe\">\n",
       "  <thead>\n",
       "    <tr style=\"text-align: right;\">\n",
       "      <th></th>\n",
       "      <th>pct_tl_nvr_dlq</th>\n",
       "      <th>percent_bc_gt_75</th>\n",
       "      <th>pub_rec_bankruptcies</th>\n",
       "      <th>tax_liens</th>\n",
       "      <th>tot_hi_cred_lim</th>\n",
       "      <th>total_bal_ex_mort</th>\n",
       "      <th>total_bc_limit</th>\n",
       "      <th>total_il_high_credit_limit</th>\n",
       "      <th>hardship_flag</th>\n",
       "      <th>disbursement_method</th>\n",
       "      <th>debt_settlement_flag</th>\n",
       "    </tr>\n",
       "  </thead>\n",
       "  <tbody>\n",
       "    <tr>\n",
       "      <th>0</th>\n",
       "      <td>76.9</td>\n",
       "      <td>0.0</td>\n",
       "      <td>0.0</td>\n",
       "      <td>0.0</td>\n",
       "      <td>178050.0</td>\n",
       "      <td>7746.0</td>\n",
       "      <td>2400.0</td>\n",
       "      <td>13734.0</td>\n",
       "      <td>N</td>\n",
       "      <td>Cash</td>\n",
       "      <td>N</td>\n",
       "    </tr>\n",
       "    <tr>\n",
       "      <th>1</th>\n",
       "      <td>97.4</td>\n",
       "      <td>7.7</td>\n",
       "      <td>0.0</td>\n",
       "      <td>0.0</td>\n",
       "      <td>314017.0</td>\n",
       "      <td>39475.0</td>\n",
       "      <td>79300.0</td>\n",
       "      <td>24667.0</td>\n",
       "      <td>N</td>\n",
       "      <td>Cash</td>\n",
       "      <td>N</td>\n",
       "    </tr>\n",
       "    <tr>\n",
       "      <th>2</th>\n",
       "      <td>100.0</td>\n",
       "      <td>50.0</td>\n",
       "      <td>0.0</td>\n",
       "      <td>0.0</td>\n",
       "      <td>218418.0</td>\n",
       "      <td>18696.0</td>\n",
       "      <td>6200.0</td>\n",
       "      <td>14877.0</td>\n",
       "      <td>N</td>\n",
       "      <td>Cash</td>\n",
       "      <td>N</td>\n",
       "    </tr>\n",
       "    <tr>\n",
       "      <th>3</th>\n",
       "      <td>100.0</td>\n",
       "      <td>0.0</td>\n",
       "      <td>0.0</td>\n",
       "      <td>0.0</td>\n",
       "      <td>381215.0</td>\n",
       "      <td>52226.0</td>\n",
       "      <td>62500.0</td>\n",
       "      <td>18000.0</td>\n",
       "      <td>N</td>\n",
       "      <td>Cash</td>\n",
       "      <td>N</td>\n",
       "    </tr>\n",
       "    <tr>\n",
       "      <th>4</th>\n",
       "      <td>96.6</td>\n",
       "      <td>60.0</td>\n",
       "      <td>0.0</td>\n",
       "      <td>0.0</td>\n",
       "      <td>439570.0</td>\n",
       "      <td>95768.0</td>\n",
       "      <td>20300.0</td>\n",
       "      <td>88097.0</td>\n",
       "      <td>N</td>\n",
       "      <td>Cash</td>\n",
       "      <td>N</td>\n",
       "    </tr>\n",
       "  </tbody>\n",
       "</table>\n",
       "</div>"
      ],
      "text/plain": [
       "   pct_tl_nvr_dlq  percent_bc_gt_75  pub_rec_bankruptcies  tax_liens  \\\n",
       "0            76.9               0.0                   0.0        0.0   \n",
       "1            97.4               7.7                   0.0        0.0   \n",
       "2           100.0              50.0                   0.0        0.0   \n",
       "3           100.0               0.0                   0.0        0.0   \n",
       "4            96.6              60.0                   0.0        0.0   \n",
       "\n",
       "   tot_hi_cred_lim  total_bal_ex_mort  total_bc_limit  \\\n",
       "0         178050.0             7746.0          2400.0   \n",
       "1         314017.0            39475.0         79300.0   \n",
       "2         218418.0            18696.0          6200.0   \n",
       "3         381215.0            52226.0         62500.0   \n",
       "4         439570.0            95768.0         20300.0   \n",
       "\n",
       "   total_il_high_credit_limit hardship_flag disbursement_method  \\\n",
       "0                     13734.0             N                Cash   \n",
       "1                     24667.0             N                Cash   \n",
       "2                     14877.0             N                Cash   \n",
       "3                     18000.0             N                Cash   \n",
       "4                     88097.0             N                Cash   \n",
       "\n",
       "  debt_settlement_flag  \n",
       "0                    N  \n",
       "1                    N  \n",
       "2                    N  \n",
       "3                    N  \n",
       "4                    N  "
      ]
     },
     "execution_count": 29,
     "metadata": {},
     "output_type": "execute_result"
    }
   ],
   "source": [
    "feat_df.iloc[:,81:92].head()"
   ]
  },
  {
   "cell_type": "code",
   "execution_count": 30,
   "id": "2c1a2366",
   "metadata": {},
   "outputs": [
    {
     "data": {
      "text/plain": [
       "N    2259836\n",
       "Y        832\n",
       "Name: hardship_flag, dtype: int64"
      ]
     },
     "execution_count": 30,
     "metadata": {},
     "output_type": "execute_result"
    }
   ],
   "source": [
    "feat_df.hardship_flag.value_counts()"
   ]
  },
  {
   "cell_type": "code",
   "execution_count": 31,
   "id": "730c0fbd",
   "metadata": {},
   "outputs": [
    {
     "data": {
      "text/plain": [
       "0.0     1987383\n",
       "1.0      258444\n",
       "2.0       10518\n",
       "3.0        2131\n",
       "4.0         541\n",
       "5.0         188\n",
       "6.0          60\n",
       "7.0          23\n",
       "8.0          10\n",
       "9.0           3\n",
       "11.0          1\n",
       "12.0          1\n",
       "Name: pub_rec_bankruptcies, dtype: int64"
      ]
     },
     "execution_count": 31,
     "metadata": {},
     "output_type": "execute_result"
    }
   ],
   "source": [
    "feat_df.pub_rec_bankruptcies.value_counts()"
   ]
  },
  {
   "cell_type": "markdown",
   "id": "40276b02",
   "metadata": {},
   "source": [
    "Create fourth list and from above columns"
   ]
  },
  {
   "cell_type": "code",
   "execution_count": 32,
   "id": "b3dbd05f",
   "metadata": {},
   "outputs": [],
   "source": [
    "list_5= ['pub_rec_bankruptcies']"
   ]
  },
  {
   "cell_type": "markdown",
   "id": "60d36f06",
   "metadata": {},
   "source": [
    "Combine the 5 lists of features"
   ]
  },
  {
   "cell_type": "code",
   "execution_count": 33,
   "id": "d7f945d9",
   "metadata": {},
   "outputs": [],
   "source": [
    "cols=list_1+list_2+list_3+list_4+list_5"
   ]
  },
  {
   "cell_type": "code",
   "execution_count": 34,
   "id": "b925d48e",
   "metadata": {},
   "outputs": [
    {
     "data": {
      "text/plain": [
       "['loan_amnt',\n",
       " 'term',\n",
       " 'int_rate',\n",
       " 'sub_grade',\n",
       " 'emp_title',\n",
       " 'emp_length',\n",
       " 'home_ownership',\n",
       " 'annual_inc',\n",
       " 'verification_status',\n",
       " 'loan_status',\n",
       " 'purpose',\n",
       " 'addr_state',\n",
       " 'fico_range_low',\n",
       " 'fico_range_high',\n",
       " 'open_acc',\n",
       " 'pub_rec',\n",
       " 'revol_bal',\n",
       " 'revol_util',\n",
       " 'total_acc',\n",
       " 'initial_list_status',\n",
       " 'application_type',\n",
       " 'tot_cur_bal',\n",
       " 'mort_acc',\n",
       " 'num_actv_bc_tl',\n",
       " 'pub_rec_bankruptcies']"
      ]
     },
     "execution_count": 34,
     "metadata": {},
     "output_type": "execute_result"
    }
   ],
   "source": [
    "cols"
   ]
  },
  {
   "cell_type": "markdown",
   "id": "a158361e",
   "metadata": {},
   "source": [
    "The size of the dataset I downloaded from Kaggle is 1.3GB. \n",
    "In order to run the cells more quickly, use above columns and created a new cvs file,\"selected_features\"."
   ]
  },
  {
   "cell_type": "code",
   "execution_count": 35,
   "id": "b53326f0",
   "metadata": {},
   "outputs": [
    {
     "data": {
      "text/plain": [
       "['term',\n",
       " 'sub_grade',\n",
       " 'home_ownership',\n",
       " 'verification_status',\n",
       " 'application_type',\n",
       " 'purpose',\n",
       " 'addr_state',\n",
       " 'pub_rec_bankruptcies',\n",
       " 'pub_rec',\n",
       " 'loan_status',\n",
       " 'loan_amnt',\n",
       " 'int_rate',\n",
       " 'emp_title',\n",
       " 'emp_length',\n",
       " 'annual_inc',\n",
       " 'fico_range_low',\n",
       " 'fico_range_high',\n",
       " 'open_acc',\n",
       " 'revol_bal',\n",
       " 'revol_util',\n",
       " 'total_acc',\n",
       " 'initial_list_status',\n",
       " 'tot_cur_bal',\n",
       " 'mort_acc',\n",
       " 'num_actv_bc_tl']"
      ]
     },
     "execution_count": 35,
     "metadata": {},
     "output_type": "execute_result"
    }
   ],
   "source": [
    "cols=[\n",
    "    'term',\n",
    " 'sub_grade',\n",
    " 'home_ownership',\n",
    " 'verification_status', \n",
    "      'application_type',\n",
    "      'purpose',\n",
    "      'addr_state',\n",
    "      'pub_rec_bankruptcies',\n",
    "       'pub_rec',\n",
    "    'loan_status',\n",
    " 'loan_amnt',\n",
    " 'int_rate',\n",
    " 'emp_title',\n",
    " 'emp_length',\n",
    " 'annual_inc',\n",
    " 'fico_range_low',\n",
    " 'fico_range_high',\n",
    " 'open_acc',\n",
    " 'revol_bal',\n",
    " 'revol_util',\n",
    " 'total_acc',\n",
    " 'initial_list_status',\n",
    " 'tot_cur_bal',\n",
    " 'mort_acc',\n",
    " 'num_actv_bc_tl',\n",
    "\n",
    " ]\n",
    "cols"
   ]
  },
  {
   "cell_type": "code",
   "execution_count": 36,
   "id": "cbfdcd33",
   "metadata": {},
   "outputs": [],
   "source": [
    "filename = r\"/Users/claudiatsai/Documents/Flatiron/Phase_5/data_loan_default_prediction/accepted_2007_to_2018Q4.csv\"\n",
    "\n",
    "\n",
    "pd.read_csv(filename, usecols=cols).to_csv(r'/Users/claudiatsai/Documents/Flatiron/Phase_5/data_loan_default_prediction/selected_features.csv', index=False)"
   ]
  },
  {
   "cell_type": "code",
   "execution_count": 37,
   "id": "bca7fda1",
   "metadata": {},
   "outputs": [],
   "source": [
    "loan=pd.read_csv('/Users/claudiatsai/Documents/Flatiron/Phase_5/data_loan_default_prediction/selected_features.csv')"
   ]
  },
  {
   "cell_type": "code",
   "execution_count": 38,
   "id": "996856db",
   "metadata": {
    "scrolled": true
   },
   "outputs": [
    {
     "data": {
      "text/html": [
       "<div>\n",
       "<style scoped>\n",
       "    .dataframe tbody tr th:only-of-type {\n",
       "        vertical-align: middle;\n",
       "    }\n",
       "\n",
       "    .dataframe tbody tr th {\n",
       "        vertical-align: top;\n",
       "    }\n",
       "\n",
       "    .dataframe thead th {\n",
       "        text-align: right;\n",
       "    }\n",
       "</style>\n",
       "<table border=\"1\" class=\"dataframe\">\n",
       "  <thead>\n",
       "    <tr style=\"text-align: right;\">\n",
       "      <th></th>\n",
       "      <th>loan_amnt</th>\n",
       "      <th>term</th>\n",
       "      <th>int_rate</th>\n",
       "      <th>sub_grade</th>\n",
       "      <th>emp_title</th>\n",
       "      <th>emp_length</th>\n",
       "      <th>home_ownership</th>\n",
       "      <th>annual_inc</th>\n",
       "      <th>verification_status</th>\n",
       "      <th>loan_status</th>\n",
       "      <th>...</th>\n",
       "      <th>pub_rec</th>\n",
       "      <th>revol_bal</th>\n",
       "      <th>revol_util</th>\n",
       "      <th>total_acc</th>\n",
       "      <th>initial_list_status</th>\n",
       "      <th>application_type</th>\n",
       "      <th>tot_cur_bal</th>\n",
       "      <th>mort_acc</th>\n",
       "      <th>num_actv_bc_tl</th>\n",
       "      <th>pub_rec_bankruptcies</th>\n",
       "    </tr>\n",
       "  </thead>\n",
       "  <tbody>\n",
       "    <tr>\n",
       "      <th>0</th>\n",
       "      <td>3600.0</td>\n",
       "      <td>36 months</td>\n",
       "      <td>13.99</td>\n",
       "      <td>C4</td>\n",
       "      <td>leadman</td>\n",
       "      <td>10+ years</td>\n",
       "      <td>MORTGAGE</td>\n",
       "      <td>55000.0</td>\n",
       "      <td>Not Verified</td>\n",
       "      <td>Fully Paid</td>\n",
       "      <td>...</td>\n",
       "      <td>0.0</td>\n",
       "      <td>2765.0</td>\n",
       "      <td>29.7</td>\n",
       "      <td>13.0</td>\n",
       "      <td>w</td>\n",
       "      <td>Individual</td>\n",
       "      <td>144904.0</td>\n",
       "      <td>1.0</td>\n",
       "      <td>2.0</td>\n",
       "      <td>0.0</td>\n",
       "    </tr>\n",
       "    <tr>\n",
       "      <th>1</th>\n",
       "      <td>24700.0</td>\n",
       "      <td>36 months</td>\n",
       "      <td>11.99</td>\n",
       "      <td>C1</td>\n",
       "      <td>Engineer</td>\n",
       "      <td>10+ years</td>\n",
       "      <td>MORTGAGE</td>\n",
       "      <td>65000.0</td>\n",
       "      <td>Not Verified</td>\n",
       "      <td>Fully Paid</td>\n",
       "      <td>...</td>\n",
       "      <td>0.0</td>\n",
       "      <td>21470.0</td>\n",
       "      <td>19.2</td>\n",
       "      <td>38.0</td>\n",
       "      <td>w</td>\n",
       "      <td>Individual</td>\n",
       "      <td>204396.0</td>\n",
       "      <td>4.0</td>\n",
       "      <td>5.0</td>\n",
       "      <td>0.0</td>\n",
       "    </tr>\n",
       "    <tr>\n",
       "      <th>2</th>\n",
       "      <td>20000.0</td>\n",
       "      <td>60 months</td>\n",
       "      <td>10.78</td>\n",
       "      <td>B4</td>\n",
       "      <td>truck driver</td>\n",
       "      <td>10+ years</td>\n",
       "      <td>MORTGAGE</td>\n",
       "      <td>63000.0</td>\n",
       "      <td>Not Verified</td>\n",
       "      <td>Fully Paid</td>\n",
       "      <td>...</td>\n",
       "      <td>0.0</td>\n",
       "      <td>7869.0</td>\n",
       "      <td>56.2</td>\n",
       "      <td>18.0</td>\n",
       "      <td>w</td>\n",
       "      <td>Joint App</td>\n",
       "      <td>189699.0</td>\n",
       "      <td>5.0</td>\n",
       "      <td>2.0</td>\n",
       "      <td>0.0</td>\n",
       "    </tr>\n",
       "    <tr>\n",
       "      <th>3</th>\n",
       "      <td>35000.0</td>\n",
       "      <td>60 months</td>\n",
       "      <td>14.85</td>\n",
       "      <td>C5</td>\n",
       "      <td>Information Systems Officer</td>\n",
       "      <td>10+ years</td>\n",
       "      <td>MORTGAGE</td>\n",
       "      <td>110000.0</td>\n",
       "      <td>Source Verified</td>\n",
       "      <td>Current</td>\n",
       "      <td>...</td>\n",
       "      <td>0.0</td>\n",
       "      <td>7802.0</td>\n",
       "      <td>11.6</td>\n",
       "      <td>17.0</td>\n",
       "      <td>w</td>\n",
       "      <td>Individual</td>\n",
       "      <td>301500.0</td>\n",
       "      <td>1.0</td>\n",
       "      <td>4.0</td>\n",
       "      <td>0.0</td>\n",
       "    </tr>\n",
       "    <tr>\n",
       "      <th>4</th>\n",
       "      <td>10400.0</td>\n",
       "      <td>60 months</td>\n",
       "      <td>22.45</td>\n",
       "      <td>F1</td>\n",
       "      <td>Contract Specialist</td>\n",
       "      <td>3 years</td>\n",
       "      <td>MORTGAGE</td>\n",
       "      <td>104433.0</td>\n",
       "      <td>Source Verified</td>\n",
       "      <td>Fully Paid</td>\n",
       "      <td>...</td>\n",
       "      <td>0.0</td>\n",
       "      <td>21929.0</td>\n",
       "      <td>64.5</td>\n",
       "      <td>35.0</td>\n",
       "      <td>w</td>\n",
       "      <td>Individual</td>\n",
       "      <td>331730.0</td>\n",
       "      <td>6.0</td>\n",
       "      <td>4.0</td>\n",
       "      <td>0.0</td>\n",
       "    </tr>\n",
       "  </tbody>\n",
       "</table>\n",
       "<p>5 rows × 25 columns</p>\n",
       "</div>"
      ],
      "text/plain": [
       "   loan_amnt        term  int_rate sub_grade                    emp_title  \\\n",
       "0     3600.0   36 months     13.99        C4                      leadman   \n",
       "1    24700.0   36 months     11.99        C1                     Engineer   \n",
       "2    20000.0   60 months     10.78        B4                 truck driver   \n",
       "3    35000.0   60 months     14.85        C5  Information Systems Officer   \n",
       "4    10400.0   60 months     22.45        F1          Contract Specialist   \n",
       "\n",
       "  emp_length home_ownership  annual_inc verification_status loan_status  ...  \\\n",
       "0  10+ years       MORTGAGE     55000.0        Not Verified  Fully Paid  ...   \n",
       "1  10+ years       MORTGAGE     65000.0        Not Verified  Fully Paid  ...   \n",
       "2  10+ years       MORTGAGE     63000.0        Not Verified  Fully Paid  ...   \n",
       "3  10+ years       MORTGAGE    110000.0     Source Verified     Current  ...   \n",
       "4    3 years       MORTGAGE    104433.0     Source Verified  Fully Paid  ...   \n",
       "\n",
       "  pub_rec revol_bal  revol_util  total_acc  initial_list_status  \\\n",
       "0     0.0    2765.0        29.7       13.0                    w   \n",
       "1     0.0   21470.0        19.2       38.0                    w   \n",
       "2     0.0    7869.0        56.2       18.0                    w   \n",
       "3     0.0    7802.0        11.6       17.0                    w   \n",
       "4     0.0   21929.0        64.5       35.0                    w   \n",
       "\n",
       "   application_type  tot_cur_bal  mort_acc  num_actv_bc_tl  \\\n",
       "0        Individual     144904.0       1.0             2.0   \n",
       "1        Individual     204396.0       4.0             5.0   \n",
       "2         Joint App     189699.0       5.0             2.0   \n",
       "3        Individual     301500.0       1.0             4.0   \n",
       "4        Individual     331730.0       6.0             4.0   \n",
       "\n",
       "  pub_rec_bankruptcies  \n",
       "0                  0.0  \n",
       "1                  0.0  \n",
       "2                  0.0  \n",
       "3                  0.0  \n",
       "4                  0.0  \n",
       "\n",
       "[5 rows x 25 columns]"
      ]
     },
     "execution_count": 38,
     "metadata": {},
     "output_type": "execute_result"
    }
   ],
   "source": [
    "loan.head()"
   ]
  },
  {
   "cell_type": "markdown",
   "id": "1fcac80c",
   "metadata": {},
   "source": [
    "# Scrubbing and Cleaning Data"
   ]
  },
  {
   "cell_type": "code",
   "execution_count": 40,
   "id": "e33d738a",
   "metadata": {},
   "outputs": [
    {
     "data": {
      "text/plain": [
       "loan_amnt               float64\n",
       "term                     object\n",
       "int_rate                float64\n",
       "sub_grade                object\n",
       "emp_title                object\n",
       "emp_length               object\n",
       "home_ownership           object\n",
       "annual_inc              float64\n",
       "verification_status      object\n",
       "loan_status              object\n",
       "purpose                  object\n",
       "addr_state               object\n",
       "fico_range_low          float64\n",
       "fico_range_high         float64\n",
       "open_acc                float64\n",
       "pub_rec                 float64\n",
       "revol_bal               float64\n",
       "revol_util              float64\n",
       "total_acc               float64\n",
       "initial_list_status      object\n",
       "application_type         object\n",
       "tot_cur_bal             float64\n",
       "mort_acc                float64\n",
       "num_actv_bc_tl          float64\n",
       "pub_rec_bankruptcies    float64\n",
       "dtype: object"
      ]
     },
     "execution_count": 40,
     "metadata": {},
     "output_type": "execute_result"
    }
   ],
   "source": [
    "loan.dtypes"
   ]
  },
  {
   "cell_type": "markdown",
   "id": "9ca27293",
   "metadata": {},
   "source": [
    "### loan_status "
   ]
  },
  {
   "cell_type": "markdown",
   "id": "df72ba2b",
   "metadata": {},
   "source": [
    "Loan_status is the dependent variable in the dataset."
   ]
  },
  {
   "cell_type": "code",
   "execution_count": 41,
   "id": "171d3ef3",
   "metadata": {},
   "outputs": [
    {
     "data": {
      "text/plain": [
       "Fully Paid                                             0.476298\n",
       "Current                                                0.388521\n",
       "Charged Off                                            0.118796\n",
       "Late (31-120 days)                                     0.009496\n",
       "In Grace Period                                        0.003732\n",
       "Late (16-30 days)                                      0.001924\n",
       "Does not meet the credit policy. Status:Fully Paid     0.000879\n",
       "Does not meet the credit policy. Status:Charged Off    0.000337\n",
       "Default                                                0.000018\n",
       "Name: loan_status, dtype: float64"
      ]
     },
     "execution_count": 41,
     "metadata": {},
     "output_type": "execute_result"
    }
   ],
   "source": [
    "loan.loan_status.value_counts(normalize=True)"
   ]
  },
  {
   "cell_type": "markdown",
   "id": "62bc64d1",
   "metadata": {},
   "source": [
    "Focus on \"Fully Paid\" and \"Charged Off\" in loan_status."
   ]
  },
  {
   "cell_type": "code",
   "execution_count": 42,
   "id": "aff2a4d0",
   "metadata": {},
   "outputs": [],
   "source": [
    "#loan = loan[(loan['loan_status'] == 'Fully Paid') | (loan['loan_status'] == 'Charged Off')]"
   ]
  },
  {
   "cell_type": "code",
   "execution_count": 43,
   "id": "9c11dfc1",
   "metadata": {},
   "outputs": [],
   "source": [
    "loan_list=['Charged Off', 'Fully Paid']\n",
    "loan= loan.loc[loan['loan_status'].isin(loan_list)]"
   ]
  },
  {
   "cell_type": "code",
   "execution_count": 44,
   "id": "73a508c8",
   "metadata": {},
   "outputs": [
    {
     "data": {
      "text/plain": [
       "Fully Paid     1076751\n",
       "Charged Off     268559\n",
       "Name: loan_status, dtype: int64"
      ]
     },
     "execution_count": 44,
     "metadata": {},
     "output_type": "execute_result"
    }
   ],
   "source": [
    "loan.loan_status.value_counts()"
   ]
  },
  {
   "cell_type": "code",
   "execution_count": 163,
   "id": "c6c3423a",
   "metadata": {},
   "outputs": [
    {
     "data": {
      "image/png": "[encoded data removed]",
      "text/plain": [
       "<Figure size 432x288 with 1 Axes>"
      ]
     },
     "metadata": {
      "needs_background": "light"
     },
     "output_type": "display_data"
    }
   ],
   "source": [
    "loan_status = loan['loan_status'].value_counts()\n",
    "ax = sns.barplot(x = loan_status.index, y = loan_status.values)\n",
    "ax.set_ylabel('Counts')\n",
    "ax.set_xlabel('Loan Status')\n",
    "ax.yaxis.set_major_formatter(form)"
   ]
  },
  {
   "cell_type": "code",
   "execution_count": 46,
   "id": "1dbbec98",
   "metadata": {},
   "outputs": [
    {
     "data": {
      "image/png": "[encoded data removed]",
      "text/plain": [
       "<Figure size 1440x1440 with 2 Axes>"
      ]
     },
     "metadata": {
      "needs_background": "light"
     },
     "output_type": "display_data"
    }
   ],
   "source": [
    "'''showed the lower triangular heatmap\n",
    "https://datavizpyr.com/how-to-make-lower-triangular-heatmap-with-python/\n",
    "'''\n",
    "corr = loan.corr()\n",
    "corr_tri = corr.where(np.tril(np.ones(corr.shape)).astype(np.bool))\n",
    "fig, ax = plt.subplots(figsize = (20,20))\n",
    "sns.heatmap(data = corr_tri, center = 0, cmap = \"YlGnBu\", annot = True, fmt='.1g',vmin=-1);"
   ]
  },
  {
   "cell_type": "markdown",
   "id": "97283f6f",
   "metadata": {},
   "source": [
    "Check the null values in each variable"
   ]
  },
  {
   "cell_type": "code",
   "execution_count": 47,
   "id": "d2b086a7",
   "metadata": {},
   "outputs": [
    {
     "data": {
      "text/plain": [
       "loan_amnt                   0\n",
       "term                        0\n",
       "int_rate                    0\n",
       "sub_grade                   0\n",
       "emp_title               85785\n",
       "emp_length              78511\n",
       "home_ownership              0\n",
       "annual_inc                  0\n",
       "verification_status         0\n",
       "loan_status                 0\n",
       "purpose                     0\n",
       "addr_state                  0\n",
       "fico_range_low              0\n",
       "fico_range_high             0\n",
       "open_acc                    0\n",
       "pub_rec                     0\n",
       "revol_bal                   0\n",
       "revol_util                857\n",
       "total_acc                   0\n",
       "initial_list_status         0\n",
       "application_type            0\n",
       "tot_cur_bal             67527\n",
       "mort_acc                47281\n",
       "num_actv_bc_tl          67527\n",
       "pub_rec_bankruptcies      697\n",
       "dtype: int64"
      ]
     },
     "execution_count": 47,
     "metadata": {},
     "output_type": "execute_result"
    }
   ],
   "source": [
    "loan.isna().sum()"
   ]
  },
  {
   "cell_type": "code",
   "execution_count": 48,
   "id": "02a65fa8",
   "metadata": {},
   "outputs": [
    {
     "data": {
      "text/plain": [
       "emp_title               6.376597\n",
       "emp_length              5.835904\n",
       "revol_util              0.063703\n",
       "tot_cur_bal             5.019438\n",
       "mort_acc                3.514506\n",
       "num_actv_bc_tl          5.019438\n",
       "pub_rec_bankruptcies    0.051810\n",
       "dtype: float64"
      ]
     },
     "execution_count": 48,
     "metadata": {},
     "output_type": "execute_result"
    }
   ],
   "source": [
    "null_data = ((loan.isna().sum()/len(loan))*100)[((loan.isna().sum()/len(loan))*100) > 0]\n",
    "null_data"
   ]
  },
  {
   "cell_type": "markdown",
   "id": "6425312c",
   "metadata": {},
   "source": [
    "### emp_title"
   ]
  },
  {
   "cell_type": "code",
   "execution_count": 49,
   "id": "8de82663",
   "metadata": {},
   "outputs": [
    {
     "data": {
      "text/plain": [
       "count     1259525\n",
       "unique     378353\n",
       "top       Teacher\n",
       "freq        21268\n",
       "Name: emp_title, dtype: object"
      ]
     },
     "execution_count": 49,
     "metadata": {},
     "output_type": "execute_result"
    }
   ],
   "source": [
    "loan.emp_title.describe()"
   ]
  },
  {
   "cell_type": "markdown",
   "id": "86394ab7",
   "metadata": {},
   "source": [
    "The unique values of emp_titles are 378353 which is way more too large to put into categories. \n",
    "Drop this column."
   ]
  },
  {
   "cell_type": "code",
   "execution_count": 50,
   "id": "a0d9158c",
   "metadata": {},
   "outputs": [],
   "source": [
    "loan = loan.drop('emp_title', axis=1)"
   ]
  },
  {
   "cell_type": "markdown",
   "id": "9701e0a5",
   "metadata": {},
   "source": [
    "### emp_length"
   ]
  },
  {
   "cell_type": "code",
   "execution_count": 51,
   "id": "df6a6977",
   "metadata": {},
   "outputs": [
    {
     "data": {
      "text/plain": [
       "10+ years    0.349068\n",
       "2 years      0.096103\n",
       "< 1 year     0.085302\n",
       "3 years      0.084936\n",
       "1 year       0.069856\n",
       "5 years      0.066430\n",
       "4 years      0.063590\n",
       "6 years      0.049521\n",
       "8 years      0.047917\n",
       "7 years      0.047067\n",
       "9 years      0.040209\n",
       "Name: emp_length, dtype: float64"
      ]
     },
     "execution_count": 51,
     "metadata": {},
     "output_type": "execute_result"
    }
   ],
   "source": [
    "loan.emp_length.value_counts(normalize=True)"
   ]
  },
  {
   "cell_type": "code",
   "execution_count": 52,
   "id": "6ecf3bb7",
   "metadata": {},
   "outputs": [],
   "source": [
    "emp_length_order = [ '< 1 year', '1 year', '2 years', '3 years', '4 years',\n",
    "                    '5 years', '6 years', '7 years', '8 years', '9 years', '10+ years']"
   ]
  },
  {
   "cell_type": "code",
   "execution_count": 53,
   "id": "16a94ee9",
   "metadata": {},
   "outputs": [
    {
     "data": {
      "text/plain": [
       "<AxesSubplot:xlabel='emp_length', ylabel='count'>"
      ]
     },
     "execution_count": 53,
     "metadata": {},
     "output_type": "execute_result"
    },
    {
     "data": {
      "image/png": "[encoded data removed]",
      "text/plain": [
       "<Figure size 1008x432 with 1 Axes>"
      ]
     },
     "metadata": {
      "needs_background": "light"
     },
     "output_type": "display_data"
    }
   ],
   "source": [
    "plt.figure(figsize=(14,6))\n",
    "sns.countplot(x='emp_length',data=loan,order=emp_length_order,hue='loan_status', palette='Set2')"
   ]
  },
  {
   "cell_type": "code",
   "execution_count": 54,
   "id": "3765e0f0",
   "metadata": {},
   "outputs": [
    {
     "name": "stdout",
     "output_type": "stream",
     "text": [
      "< 1 year:\n",
      "Fully Paid     0.794727\n",
      "Charged Off    0.205273\n",
      "Name: loan_status, dtype: float64\n",
      "1 year:\n",
      "Fully Paid     0.794359\n",
      "Charged Off    0.205641\n",
      "Name: loan_status, dtype: float64\n",
      "2 years:\n",
      "Fully Paid     0.801927\n",
      "Charged Off    0.198073\n",
      "Name: loan_status, dtype: float64\n",
      "3 years:\n",
      "Fully Paid     0.80031\n",
      "Charged Off    0.19969\n",
      "Name: loan_status, dtype: float64\n",
      "4 years:\n",
      "Fully Paid     0.802622\n",
      "Charged Off    0.197378\n",
      "Name: loan_status, dtype: float64\n",
      "5 years:\n",
      "Fully Paid     0.80399\n",
      "Charged Off    0.19601\n",
      "Name: loan_status, dtype: float64\n",
      "6 years:\n",
      "Fully Paid     0.806481\n",
      "Charged Off    0.193519\n",
      "Name: loan_status, dtype: float64\n",
      "7 years:\n",
      "Fully Paid     0.805112\n",
      "Charged Off    0.194888\n",
      "Name: loan_status, dtype: float64\n",
      "8 years:\n",
      "Fully Paid     0.800662\n",
      "Charged Off    0.199338\n",
      "Name: loan_status, dtype: float64\n",
      "9 years:\n",
      "Fully Paid     0.800989\n",
      "Charged Off    0.199011\n",
      "Name: loan_status, dtype: float64\n",
      "10+ years:\n",
      "Fully Paid     0.812173\n",
      "Charged Off    0.187827\n",
      "Name: loan_status, dtype: float64\n"
     ]
    }
   ],
   "source": [
    "for order in emp_length_order:\n",
    "    print(f\"{order}:\")\n",
    "    print(f\"{loan[loan.emp_length == order].loan_status.value_counts(normalize=True)}\")\n",
    "    "
   ]
  },
  {
   "cell_type": "markdown",
   "id": "9f037a89",
   "metadata": {},
   "source": [
    "From above data, charged off rate is 19%-20% in each employee lengths. So emp_length will be dropped as well."
   ]
  },
  {
   "cell_type": "code",
   "execution_count": 55,
   "id": "b9912dba",
   "metadata": {},
   "outputs": [],
   "source": [
    "loan = loan.drop('emp_length',axis=1)"
   ]
  },
  {
   "cell_type": "markdown",
   "id": "451bc075",
   "metadata": {},
   "source": [
    "### revol_util"
   ]
  },
  {
   "cell_type": "markdown",
   "id": "b431cb7f",
   "metadata": {},
   "source": [
    "revol_util: Revolving line utilization rate, or the amount of credit the borrower is using relative to all available revolving credit."
   ]
  },
  {
   "cell_type": "markdown",
   "id": "3ea4396b",
   "metadata": {},
   "source": [
    "Feature \"revol_util\" has 0.06% null values in the dataset. Use the mean value to fill the null value."
   ]
  },
  {
   "cell_type": "code",
   "execution_count": 56,
   "id": "a4716c8d",
   "metadata": {},
   "outputs": [
    {
     "data": {
      "image/png": "[encoded data removed]",
      "text/plain": [
       "<Figure size 1728x432 with 1 Axes>"
      ]
     },
     "metadata": {
      "needs_background": "light"
     },
     "output_type": "display_data"
    }
   ],
   "source": [
    "plt.figure(figsize=(24,6))\n",
    "sns.boxplot(data=loan, x='revol_util', y='loan_status', palette='Set2');"
   ]
  },
  {
   "cell_type": "code",
   "execution_count": 57,
   "id": "3cfc66ec",
   "metadata": {},
   "outputs": [],
   "source": [
    "loan.revol_util = loan.revol_util.fillna(loan.revol_util.mean())"
   ]
  },
  {
   "cell_type": "code",
   "execution_count": 58,
   "id": "dcb9f656",
   "metadata": {},
   "outputs": [
    {
     "data": {
      "text/plain": [
       "0"
      ]
     },
     "execution_count": 58,
     "metadata": {},
     "output_type": "execute_result"
    }
   ],
   "source": [
    "loan.revol_util.isna().sum()"
   ]
  },
  {
   "cell_type": "code",
   "execution_count": 59,
   "id": "f38abbc1",
   "metadata": {},
   "outputs": [
    {
     "data": {
      "text/html": [
       "<div>\n",
       "<style scoped>\n",
       "    .dataframe tbody tr th:only-of-type {\n",
       "        vertical-align: middle;\n",
       "    }\n",
       "\n",
       "    .dataframe tbody tr th {\n",
       "        vertical-align: top;\n",
       "    }\n",
       "\n",
       "    .dataframe thead th {\n",
       "        text-align: right;\n",
       "    }\n",
       "</style>\n",
       "<table border=\"1\" class=\"dataframe\">\n",
       "  <thead>\n",
       "    <tr style=\"text-align: right;\">\n",
       "      <th></th>\n",
       "      <th>count</th>\n",
       "      <th>mean</th>\n",
       "      <th>std</th>\n",
       "      <th>min</th>\n",
       "      <th>25%</th>\n",
       "      <th>50%</th>\n",
       "      <th>75%</th>\n",
       "      <th>max</th>\n",
       "    </tr>\n",
       "    <tr>\n",
       "      <th>loan_status</th>\n",
       "      <th></th>\n",
       "      <th></th>\n",
       "      <th></th>\n",
       "      <th></th>\n",
       "      <th></th>\n",
       "      <th></th>\n",
       "      <th></th>\n",
       "      <th></th>\n",
       "    </tr>\n",
       "  </thead>\n",
       "  <tbody>\n",
       "    <tr>\n",
       "      <th>Charged Off</th>\n",
       "      <td>268559.0</td>\n",
       "      <td>54.756457</td>\n",
       "      <td>23.858104</td>\n",
       "      <td>0.0</td>\n",
       "      <td>37.4</td>\n",
       "      <td>55.5</td>\n",
       "      <td>73.1</td>\n",
       "      <td>366.6</td>\n",
       "    </tr>\n",
       "    <tr>\n",
       "      <th>Fully Paid</th>\n",
       "      <td>1076751.0</td>\n",
       "      <td>51.075134</td>\n",
       "      <td>24.619085</td>\n",
       "      <td>0.0</td>\n",
       "      <td>32.5</td>\n",
       "      <td>51.3</td>\n",
       "      <td>70.0</td>\n",
       "      <td>892.3</td>\n",
       "    </tr>\n",
       "  </tbody>\n",
       "</table>\n",
       "</div>"
      ],
      "text/plain": [
       "                 count       mean        std  min   25%   50%   75%    max\n",
       "loan_status                                                               \n",
       "Charged Off   268559.0  54.756457  23.858104  0.0  37.4  55.5  73.1  366.6\n",
       "Fully Paid   1076751.0  51.075134  24.619085  0.0  32.5  51.3  70.0  892.3"
      ]
     },
     "execution_count": 59,
     "metadata": {},
     "output_type": "execute_result"
    }
   ],
   "source": [
    "loan.groupby('loan_status')['revol_util'].describe()"
   ]
  },
  {
   "cell_type": "code",
   "execution_count": 60,
   "id": "1647f1eb",
   "metadata": {},
   "outputs": [
    {
     "data": {
      "text/plain": [
       "(1345310, 23)"
      ]
     },
     "execution_count": 60,
     "metadata": {},
     "output_type": "execute_result"
    }
   ],
   "source": [
    "loan.shape"
   ]
  },
  {
   "cell_type": "markdown",
   "id": "d71550df",
   "metadata": {},
   "source": [
    "From above boxplot, outliers are observed."
   ]
  },
  {
   "cell_type": "code",
   "execution_count": 61,
   "id": "ea877495",
   "metadata": {},
   "outputs": [],
   "source": [
    "loan = loan[loan['revol_util'] < 150]"
   ]
  },
  {
   "cell_type": "code",
   "execution_count": 62,
   "id": "52b6bb8f",
   "metadata": {},
   "outputs": [
    {
     "data": {
      "image/png": "[encoded data removed]",
      "text/plain": [
       "<Figure size 1728x432 with 1 Axes>"
      ]
     },
     "metadata": {
      "needs_background": "light"
     },
     "output_type": "display_data"
    }
   ],
   "source": [
    "plt.figure(figsize=(24,6))\n",
    "sns.boxplot(data=loan, x='revol_util', y='loan_status', palette='Set2');"
   ]
  },
  {
   "cell_type": "markdown",
   "id": "83ed1cc4",
   "metadata": {},
   "source": [
    "### revol_bal "
   ]
  },
  {
   "cell_type": "code",
   "execution_count": 63,
   "id": "a51ee172",
   "metadata": {
    "scrolled": true
   },
   "outputs": [
    {
     "data": {
      "text/html": [
       "<div>\n",
       "<style scoped>\n",
       "    .dataframe tbody tr th:only-of-type {\n",
       "        vertical-align: middle;\n",
       "    }\n",
       "\n",
       "    .dataframe tbody tr th {\n",
       "        vertical-align: top;\n",
       "    }\n",
       "\n",
       "    .dataframe thead th {\n",
       "        text-align: right;\n",
       "    }\n",
       "</style>\n",
       "<table border=\"1\" class=\"dataframe\">\n",
       "  <thead>\n",
       "    <tr style=\"text-align: right;\">\n",
       "      <th></th>\n",
       "      <th>count</th>\n",
       "      <th>mean</th>\n",
       "      <th>std</th>\n",
       "      <th>min</th>\n",
       "      <th>25%</th>\n",
       "      <th>50%</th>\n",
       "      <th>75%</th>\n",
       "      <th>max</th>\n",
       "    </tr>\n",
       "    <tr>\n",
       "      <th>loan_status</th>\n",
       "      <th></th>\n",
       "      <th></th>\n",
       "      <th></th>\n",
       "      <th></th>\n",
       "      <th></th>\n",
       "      <th></th>\n",
       "      <th></th>\n",
       "      <th></th>\n",
       "    </tr>\n",
       "  </thead>\n",
       "  <tbody>\n",
       "    <tr>\n",
       "      <th>Charged Off</th>\n",
       "      <td>268553.0</td>\n",
       "      <td>15353.432246</td>\n",
       "      <td>18954.234102</td>\n",
       "      <td>0.0</td>\n",
       "      <td>5990.0</td>\n",
       "      <td>11072.0</td>\n",
       "      <td>19101.0</td>\n",
       "      <td>1746716.0</td>\n",
       "    </tr>\n",
       "    <tr>\n",
       "      <th>Fully Paid</th>\n",
       "      <td>1076737.0</td>\n",
       "      <td>16471.013187</td>\n",
       "      <td>23086.414865</td>\n",
       "      <td>0.0</td>\n",
       "      <td>5931.0</td>\n",
       "      <td>11150.0</td>\n",
       "      <td>19925.0</td>\n",
       "      <td>2904836.0</td>\n",
       "    </tr>\n",
       "  </tbody>\n",
       "</table>\n",
       "</div>"
      ],
      "text/plain": [
       "                 count          mean           std  min     25%      50%  \\\n",
       "loan_status                                                                \n",
       "Charged Off   268553.0  15353.432246  18954.234102  0.0  5990.0  11072.0   \n",
       "Fully Paid   1076737.0  16471.013187  23086.414865  0.0  5931.0  11150.0   \n",
       "\n",
       "                 75%        max  \n",
       "loan_status                      \n",
       "Charged Off  19101.0  1746716.0  \n",
       "Fully Paid   19925.0  2904836.0  "
      ]
     },
     "execution_count": 63,
     "metadata": {},
     "output_type": "execute_result"
    }
   ],
   "source": [
    "loan.groupby('loan_status')['revol_bal'].describe()"
   ]
  },
  {
   "cell_type": "code",
   "execution_count": 64,
   "id": "bb82f35d",
   "metadata": {},
   "outputs": [
    {
     "data": {
      "image/png": "[encoded data removed]",
      "text/plain": [
       "<Figure size 1728x432 with 1 Axes>"
      ]
     },
     "metadata": {
      "needs_background": "light"
     },
     "output_type": "display_data"
    }
   ],
   "source": [
    "\n",
    "plt.figure(figsize=(24,6))\n",
    "sns.boxplot(data=loan, x='revol_bal', y='loan_status', palette='Set2');\n"
   ]
  },
  {
   "cell_type": "markdown",
   "id": "0271e380",
   "metadata": {},
   "source": [
    "From above boxplot, outliers are observed. Keep the revolving balance less than $100,000."
   ]
  },
  {
   "cell_type": "code",
   "execution_count": 65,
   "id": "699136af",
   "metadata": {},
   "outputs": [],
   "source": [
    "loan = loan[loan['revol_bal'] < 100000]"
   ]
  },
  {
   "cell_type": "code",
   "execution_count": 66,
   "id": "7cbd987d",
   "metadata": {},
   "outputs": [
    {
     "data": {
      "text/html": [
       "<div>\n",
       "<style scoped>\n",
       "    .dataframe tbody tr th:only-of-type {\n",
       "        vertical-align: middle;\n",
       "    }\n",
       "\n",
       "    .dataframe tbody tr th {\n",
       "        vertical-align: top;\n",
       "    }\n",
       "\n",
       "    .dataframe thead th {\n",
       "        text-align: right;\n",
       "    }\n",
       "</style>\n",
       "<table border=\"1\" class=\"dataframe\">\n",
       "  <thead>\n",
       "    <tr style=\"text-align: right;\">\n",
       "      <th></th>\n",
       "      <th>count</th>\n",
       "      <th>mean</th>\n",
       "      <th>std</th>\n",
       "      <th>min</th>\n",
       "      <th>25%</th>\n",
       "      <th>50%</th>\n",
       "      <th>75%</th>\n",
       "      <th>max</th>\n",
       "    </tr>\n",
       "    <tr>\n",
       "      <th>loan_status</th>\n",
       "      <th></th>\n",
       "      <th></th>\n",
       "      <th></th>\n",
       "      <th></th>\n",
       "      <th></th>\n",
       "      <th></th>\n",
       "      <th></th>\n",
       "      <th></th>\n",
       "    </tr>\n",
       "  </thead>\n",
       "  <tbody>\n",
       "    <tr>\n",
       "      <th>Charged Off</th>\n",
       "      <td>266943.0</td>\n",
       "      <td>14427.093297</td>\n",
       "      <td>12618.010412</td>\n",
       "      <td>0.0</td>\n",
       "      <td>5962.0</td>\n",
       "      <td>11001.0</td>\n",
       "      <td>18890.5</td>\n",
       "      <td>99991.0</td>\n",
       "    </tr>\n",
       "    <tr>\n",
       "      <th>Fully Paid</th>\n",
       "      <td>1066241.0</td>\n",
       "      <td>14919.489590</td>\n",
       "      <td>13529.347531</td>\n",
       "      <td>0.0</td>\n",
       "      <td>5887.0</td>\n",
       "      <td>11028.0</td>\n",
       "      <td>19544.0</td>\n",
       "      <td>99992.0</td>\n",
       "    </tr>\n",
       "  </tbody>\n",
       "</table>\n",
       "</div>"
      ],
      "text/plain": [
       "                 count          mean           std  min     25%      50%  \\\n",
       "loan_status                                                                \n",
       "Charged Off   266943.0  14427.093297  12618.010412  0.0  5962.0  11001.0   \n",
       "Fully Paid   1066241.0  14919.489590  13529.347531  0.0  5887.0  11028.0   \n",
       "\n",
       "                 75%      max  \n",
       "loan_status                    \n",
       "Charged Off  18890.5  99991.0  \n",
       "Fully Paid   19544.0  99992.0  "
      ]
     },
     "execution_count": 66,
     "metadata": {},
     "output_type": "execute_result"
    }
   ],
   "source": [
    "loan.groupby('loan_status')['revol_bal'].describe()"
   ]
  },
  {
   "cell_type": "markdown",
   "id": "1375dbf3",
   "metadata": {},
   "source": [
    "### mort_acc"
   ]
  },
  {
   "cell_type": "markdown",
   "id": "148cf617",
   "metadata": {},
   "source": [
    "#Feature \"mort_acc\" has 3.51% null values in the dataset. "
   ]
  },
  {
   "cell_type": "code",
   "execution_count": 67,
   "id": "cfcd18f0",
   "metadata": {},
   "outputs": [
    {
     "data": {
      "text/plain": [
       "47037"
      ]
     },
     "execution_count": 67,
     "metadata": {},
     "output_type": "execute_result"
    }
   ],
   "source": [
    "loan.mort_acc.isna().sum()"
   ]
  },
  {
   "cell_type": "code",
   "execution_count": 68,
   "id": "2eff550a",
   "metadata": {},
   "outputs": [
    {
     "data": {
      "text/html": [
       "<div>\n",
       "<style scoped>\n",
       "    .dataframe tbody tr th:only-of-type {\n",
       "        vertical-align: middle;\n",
       "    }\n",
       "\n",
       "    .dataframe tbody tr th {\n",
       "        vertical-align: top;\n",
       "    }\n",
       "\n",
       "    .dataframe thead th {\n",
       "        text-align: right;\n",
       "    }\n",
       "</style>\n",
       "<table border=\"1\" class=\"dataframe\">\n",
       "  <thead>\n",
       "    <tr style=\"text-align: right;\">\n",
       "      <th></th>\n",
       "      <th>count</th>\n",
       "      <th>mean</th>\n",
       "      <th>std</th>\n",
       "      <th>min</th>\n",
       "      <th>25%</th>\n",
       "      <th>50%</th>\n",
       "      <th>75%</th>\n",
       "      <th>max</th>\n",
       "    </tr>\n",
       "    <tr>\n",
       "      <th>loan_status</th>\n",
       "      <th></th>\n",
       "      <th></th>\n",
       "      <th></th>\n",
       "      <th></th>\n",
       "      <th></th>\n",
       "      <th></th>\n",
       "      <th></th>\n",
       "      <th></th>\n",
       "    </tr>\n",
       "  </thead>\n",
       "  <tbody>\n",
       "    <tr>\n",
       "      <th>Charged Off</th>\n",
       "      <td>260082.0</td>\n",
       "      <td>1.359894</td>\n",
       "      <td>1.815383</td>\n",
       "      <td>0.0</td>\n",
       "      <td>0.0</td>\n",
       "      <td>1.0</td>\n",
       "      <td>2.0</td>\n",
       "      <td>29.0</td>\n",
       "    </tr>\n",
       "    <tr>\n",
       "      <th>Fully Paid</th>\n",
       "      <td>1026065.0</td>\n",
       "      <td>1.728362</td>\n",
       "      <td>2.021337</td>\n",
       "      <td>0.0</td>\n",
       "      <td>0.0</td>\n",
       "      <td>1.0</td>\n",
       "      <td>3.0</td>\n",
       "      <td>51.0</td>\n",
       "    </tr>\n",
       "  </tbody>\n",
       "</table>\n",
       "</div>"
      ],
      "text/plain": [
       "                 count      mean       std  min  25%  50%  75%   max\n",
       "loan_status                                                         \n",
       "Charged Off   260082.0  1.359894  1.815383  0.0  0.0  1.0  2.0  29.0\n",
       "Fully Paid   1026065.0  1.728362  2.021337  0.0  0.0  1.0  3.0  51.0"
      ]
     },
     "execution_count": 68,
     "metadata": {},
     "output_type": "execute_result"
    }
   ],
   "source": [
    "loan.groupby('loan_status')['mort_acc'].describe()"
   ]
  },
  {
   "cell_type": "markdown",
   "id": "3a450c1a",
   "metadata": {},
   "source": [
    "It looks like there are some outliers in the \"mort_acc\"."
   ]
  },
  {
   "cell_type": "code",
   "execution_count": 69,
   "id": "8c38c12b",
   "metadata": {},
   "outputs": [
    {
     "data": {
      "image/png": "[encoded data removed]",
      "text/plain": [
       "<Figure size 1728x432 with 1 Axes>"
      ]
     },
     "metadata": {
      "needs_background": "light"
     },
     "output_type": "display_data"
    }
   ],
   "source": [
    "plt.figure(figsize=(24,6))\n",
    "sns.boxplot(data=loan, x='mort_acc', y='loan_status', palette='Set2');"
   ]
  },
  {
   "cell_type": "code",
   "execution_count": 70,
   "id": "139a4a88",
   "metadata": {},
   "outputs": [],
   "source": [
    "loan = loan[loan['mort_acc'] < 10]"
   ]
  },
  {
   "cell_type": "code",
   "execution_count": 71,
   "id": "54ce6e8a",
   "metadata": {},
   "outputs": [
    {
     "data": {
      "image/png": "[encoded data removed]",
      "text/plain": [
       "<Figure size 1728x432 with 1 Axes>"
      ]
     },
     "metadata": {
      "needs_background": "light"
     },
     "output_type": "display_data"
    }
   ],
   "source": [
    "plt.figure(figsize=(24,6))\n",
    "sns.boxplot(data=loan, x='mort_acc', y='loan_status', palette='Set2');"
   ]
  },
  {
   "cell_type": "code",
   "execution_count": 72,
   "id": "1d2e7627",
   "metadata": {},
   "outputs": [
    {
     "data": {
      "text/plain": [
       "0.0    523154\n",
       "1.0    224572\n",
       "2.0    186529\n",
       "3.0    137029\n",
       "4.0     93239\n",
       "5.0     56405\n",
       "6.0     31791\n",
       "7.0     16394\n",
       "8.0      8097\n",
       "9.0      4131\n",
       "Name: mort_acc, dtype: int64"
      ]
     },
     "execution_count": 72,
     "metadata": {},
     "output_type": "execute_result"
    }
   ],
   "source": [
    "loan.mort_acc.value_counts()"
   ]
  },
  {
   "cell_type": "code",
   "execution_count": 73,
   "id": "9fecabc4",
   "metadata": {},
   "outputs": [
    {
     "data": {
      "text/plain": [
       "0"
      ]
     },
     "execution_count": 73,
     "metadata": {},
     "output_type": "execute_result"
    }
   ],
   "source": [
    "loan.mort_acc.isna().sum()"
   ]
  },
  {
   "cell_type": "code",
   "execution_count": 74,
   "id": "9da213c9",
   "metadata": {},
   "outputs": [
    {
     "data": {
      "text/plain": [
       "(1281341, 23)"
      ]
     },
     "execution_count": 74,
     "metadata": {},
     "output_type": "execute_result"
    }
   ],
   "source": [
    "loan.shape"
   ]
  },
  {
   "cell_type": "markdown",
   "id": "a19035e2",
   "metadata": {},
   "source": [
    "### num_actv_bc_tl"
   ]
  },
  {
   "cell_type": "markdown",
   "id": "7fa5fc89",
   "metadata": {},
   "source": [
    "#Feature \"num_actv_ba_tl\" has 5.01% null values in the dataset."
   ]
  },
  {
   "cell_type": "code",
   "execution_count": 75,
   "id": "381cc82d",
   "metadata": {},
   "outputs": [
    {
     "data": {
      "text/html": [
       "<div>\n",
       "<style scoped>\n",
       "    .dataframe tbody tr th:only-of-type {\n",
       "        vertical-align: middle;\n",
       "    }\n",
       "\n",
       "    .dataframe tbody tr th {\n",
       "        vertical-align: top;\n",
       "    }\n",
       "\n",
       "    .dataframe thead th {\n",
       "        text-align: right;\n",
       "    }\n",
       "</style>\n",
       "<table border=\"1\" class=\"dataframe\">\n",
       "  <thead>\n",
       "    <tr style=\"text-align: right;\">\n",
       "      <th></th>\n",
       "      <th>count</th>\n",
       "      <th>mean</th>\n",
       "      <th>std</th>\n",
       "      <th>min</th>\n",
       "      <th>25%</th>\n",
       "      <th>50%</th>\n",
       "      <th>75%</th>\n",
       "      <th>max</th>\n",
       "    </tr>\n",
       "    <tr>\n",
       "      <th>loan_status</th>\n",
       "      <th></th>\n",
       "      <th></th>\n",
       "      <th></th>\n",
       "      <th></th>\n",
       "      <th></th>\n",
       "      <th></th>\n",
       "      <th></th>\n",
       "      <th></th>\n",
       "    </tr>\n",
       "  </thead>\n",
       "  <tbody>\n",
       "    <tr>\n",
       "      <th>Charged Off</th>\n",
       "      <td>256082.0</td>\n",
       "      <td>3.816211</td>\n",
       "      <td>2.352194</td>\n",
       "      <td>0.0</td>\n",
       "      <td>2.0</td>\n",
       "      <td>3.0</td>\n",
       "      <td>5.0</td>\n",
       "      <td>30.0</td>\n",
       "    </tr>\n",
       "    <tr>\n",
       "      <th>Fully Paid</th>\n",
       "      <td>1005182.0</td>\n",
       "      <td>3.577841</td>\n",
       "      <td>2.194206</td>\n",
       "      <td>0.0</td>\n",
       "      <td>2.0</td>\n",
       "      <td>3.0</td>\n",
       "      <td>5.0</td>\n",
       "      <td>33.0</td>\n",
       "    </tr>\n",
       "  </tbody>\n",
       "</table>\n",
       "</div>"
      ],
      "text/plain": [
       "                 count      mean       std  min  25%  50%  75%   max\n",
       "loan_status                                                         \n",
       "Charged Off   256082.0  3.816211  2.352194  0.0  2.0  3.0  5.0  30.0\n",
       "Fully Paid   1005182.0  3.577841  2.194206  0.0  2.0  3.0  5.0  33.0"
      ]
     },
     "execution_count": 75,
     "metadata": {},
     "output_type": "execute_result"
    }
   ],
   "source": [
    "loan.groupby('loan_status')['num_actv_bc_tl'].describe()"
   ]
  },
  {
   "cell_type": "code",
   "execution_count": 76,
   "id": "c25ed00a",
   "metadata": {},
   "outputs": [
    {
     "data": {
      "image/png": "[encoded data removed]",
      "text/plain": [
       "<Figure size 1728x432 with 1 Axes>"
      ]
     },
     "metadata": {
      "needs_background": "light"
     },
     "output_type": "display_data"
    }
   ],
   "source": [
    "plt.figure(figsize=(24,6))\n",
    "sns.boxplot(data=loan, x='num_actv_bc_tl', y='loan_status', palette='Set2');"
   ]
  },
  {
   "cell_type": "code",
   "execution_count": 77,
   "id": "f66761aa",
   "metadata": {},
   "outputs": [
    {
     "data": {
      "text/plain": [
       "3.0     271162\n",
       "2.0     258563\n",
       "4.0     209855\n",
       "1.0     145277\n",
       "5.0     139720\n",
       "6.0      86523\n",
       "7.0      50711\n",
       "8.0      29670\n",
       "0.0      27100\n",
       "9.0      17418\n",
       "10.0     10210\n",
       "11.0      6043\n",
       "12.0      3565\n",
       "13.0      2120\n",
       "14.0      1194\n",
       "15.0       793\n",
       "16.0       452\n",
       "17.0       337\n",
       "18.0       191\n",
       "19.0       133\n",
       "20.0        69\n",
       "21.0        45\n",
       "22.0        35\n",
       "23.0        21\n",
       "24.0        21\n",
       "25.0        13\n",
       "26.0        11\n",
       "30.0         5\n",
       "27.0         2\n",
       "29.0         2\n",
       "32.0         1\n",
       "33.0         1\n",
       "28.0         1\n",
       "Name: num_actv_bc_tl, dtype: int64"
      ]
     },
     "execution_count": 77,
     "metadata": {},
     "output_type": "execute_result"
    }
   ],
   "source": [
    "loan.num_actv_bc_tl.value_counts()"
   ]
  },
  {
   "cell_type": "code",
   "execution_count": 78,
   "id": "6e16e74e",
   "metadata": {},
   "outputs": [],
   "source": [
    "loan = loan[loan['num_actv_bc_tl'] < 10]"
   ]
  },
  {
   "cell_type": "code",
   "execution_count": 79,
   "id": "07acf704",
   "metadata": {},
   "outputs": [
    {
     "data": {
      "image/png": "[encoded data removed]",
      "text/plain": [
       "<Figure size 1728x432 with 1 Axes>"
      ]
     },
     "metadata": {
      "needs_background": "light"
     },
     "output_type": "display_data"
    }
   ],
   "source": [
    "plt.figure(figsize=(24,6))\n",
    "sns.boxplot(data=loan, x='num_actv_bc_tl', y='loan_status', palette='Set2');"
   ]
  },
  {
   "cell_type": "code",
   "execution_count": 80,
   "id": "4cf04063",
   "metadata": {},
   "outputs": [
    {
     "data": {
      "text/plain": [
       "fico_range_high        -0.115400\n",
       "fico_range_low         -0.115399\n",
       "pub_rec_bankruptcies   -0.053122\n",
       "pub_rec                -0.029818\n",
       "int_rate                0.022820\n",
       "mort_acc                0.027731\n",
       "tot_cur_bal             0.081427\n",
       "annual_inc              0.087219\n",
       "revol_util              0.122930\n",
       "loan_amnt               0.185325\n",
       "total_acc               0.237218\n",
       "revol_bal               0.406559\n",
       "open_acc                0.473297\n",
       "Name: num_actv_bc_tl, dtype: float64"
      ]
     },
     "execution_count": 80,
     "metadata": {},
     "output_type": "execute_result"
    }
   ],
   "source": [
    "loan.corr()['num_actv_bc_tl'].sort_values()[:-1]"
   ]
  },
  {
   "cell_type": "code",
   "execution_count": 81,
   "id": "7a2a8367",
   "metadata": {},
   "outputs": [
    {
     "data": {
      "text/plain": [
       "(1235999, 23)"
      ]
     },
     "execution_count": 81,
     "metadata": {},
     "output_type": "execute_result"
    }
   ],
   "source": [
    "loan.shape"
   ]
  },
  {
   "cell_type": "markdown",
   "id": "b55991a0",
   "metadata": {},
   "source": [
    "### pub_rec_bankruptcies"
   ]
  },
  {
   "cell_type": "markdown",
   "id": "bb53f266",
   "metadata": {},
   "source": [
    "Number of public record bankruptcies."
   ]
  },
  {
   "cell_type": "code",
   "execution_count": 82,
   "id": "f8b350a1",
   "metadata": {},
   "outputs": [
    {
     "data": {
      "text/plain": [
       "0"
      ]
     },
     "execution_count": 82,
     "metadata": {},
     "output_type": "execute_result"
    }
   ],
   "source": [
    "loan.pub_rec_bankruptcies.isna().sum()"
   ]
  },
  {
   "cell_type": "code",
   "execution_count": 83,
   "id": "f15dfea9",
   "metadata": {},
   "outputs": [
    {
     "data": {
      "text/html": [
       "<div>\n",
       "<style scoped>\n",
       "    .dataframe tbody tr th:only-of-type {\n",
       "        vertical-align: middle;\n",
       "    }\n",
       "\n",
       "    .dataframe tbody tr th {\n",
       "        vertical-align: top;\n",
       "    }\n",
       "\n",
       "    .dataframe thead th {\n",
       "        text-align: right;\n",
       "    }\n",
       "</style>\n",
       "<table border=\"1\" class=\"dataframe\">\n",
       "  <thead>\n",
       "    <tr style=\"text-align: right;\">\n",
       "      <th></th>\n",
       "      <th>count</th>\n",
       "      <th>mean</th>\n",
       "      <th>std</th>\n",
       "      <th>min</th>\n",
       "      <th>25%</th>\n",
       "      <th>50%</th>\n",
       "      <th>75%</th>\n",
       "      <th>max</th>\n",
       "    </tr>\n",
       "    <tr>\n",
       "      <th>loan_status</th>\n",
       "      <th></th>\n",
       "      <th></th>\n",
       "      <th></th>\n",
       "      <th></th>\n",
       "      <th></th>\n",
       "      <th></th>\n",
       "      <th></th>\n",
       "      <th></th>\n",
       "    </tr>\n",
       "  </thead>\n",
       "  <tbody>\n",
       "    <tr>\n",
       "      <th>Charged Off</th>\n",
       "      <td>249420.0</td>\n",
       "      <td>0.160428</td>\n",
       "      <td>0.412259</td>\n",
       "      <td>0.0</td>\n",
       "      <td>0.0</td>\n",
       "      <td>0.0</td>\n",
       "      <td>0.0</td>\n",
       "      <td>11.0</td>\n",
       "    </tr>\n",
       "    <tr>\n",
       "      <th>Fully Paid</th>\n",
       "      <td>986579.0</td>\n",
       "      <td>0.137761</td>\n",
       "      <td>0.381250</td>\n",
       "      <td>0.0</td>\n",
       "      <td>0.0</td>\n",
       "      <td>0.0</td>\n",
       "      <td>0.0</td>\n",
       "      <td>12.0</td>\n",
       "    </tr>\n",
       "  </tbody>\n",
       "</table>\n",
       "</div>"
      ],
      "text/plain": [
       "                count      mean       std  min  25%  50%  75%   max\n",
       "loan_status                                                        \n",
       "Charged Off  249420.0  0.160428  0.412259  0.0  0.0  0.0  0.0  11.0\n",
       "Fully Paid   986579.0  0.137761  0.381250  0.0  0.0  0.0  0.0  12.0"
      ]
     },
     "execution_count": 83,
     "metadata": {},
     "output_type": "execute_result"
    }
   ],
   "source": [
    "loan.groupby('loan_status')['pub_rec_bankruptcies'].describe()"
   ]
  },
  {
   "cell_type": "code",
   "execution_count": 84,
   "id": "2f144d0d",
   "metadata": {},
   "outputs": [
    {
     "data": {
      "text/plain": [
       "0.0     1072993\n",
       "1.0      153183\n",
       "2.0        7661\n",
       "3.0        1560\n",
       "4.0         393\n",
       "5.0         137\n",
       "6.0          44\n",
       "7.0          14\n",
       "8.0           9\n",
       "9.0           3\n",
       "11.0          1\n",
       "12.0          1\n",
       "Name: pub_rec_bankruptcies, dtype: int64"
      ]
     },
     "execution_count": 84,
     "metadata": {},
     "output_type": "execute_result"
    }
   ],
   "source": [
    "loan.pub_rec_bankruptcies.value_counts()"
   ]
  },
  {
   "cell_type": "code",
   "execution_count": 85,
   "id": "e7d53a77",
   "metadata": {},
   "outputs": [
    {
     "data": {
      "text/plain": [
       "0    1072993\n",
       "1     163006\n",
       "Name: pub_rec_bankruptcies, dtype: int64"
      ]
     },
     "execution_count": 85,
     "metadata": {},
     "output_type": "execute_result"
    }
   ],
   "source": [
    "loan['pub_rec_bankruptcies']= loan['pub_rec_bankruptcies'].apply(lambda x:0 if x==0 else 1 )\n",
    "                                                                  \n",
    "loan['pub_rec_bankruptcies'].value_counts()"
   ]
  },
  {
   "cell_type": "markdown",
   "id": "73e2fb21",
   "metadata": {},
   "source": [
    "### pub_rec"
   ]
  },
  {
   "cell_type": "markdown",
   "id": "a4a8f00a",
   "metadata": {},
   "source": [
    "Number of derogatory public records."
   ]
  },
  {
   "cell_type": "code",
   "execution_count": 86,
   "id": "8cfe3d74",
   "metadata": {},
   "outputs": [
    {
     "data": {
      "text/html": [
       "<div>\n",
       "<style scoped>\n",
       "    .dataframe tbody tr th:only-of-type {\n",
       "        vertical-align: middle;\n",
       "    }\n",
       "\n",
       "    .dataframe tbody tr th {\n",
       "        vertical-align: top;\n",
       "    }\n",
       "\n",
       "    .dataframe thead th {\n",
       "        text-align: right;\n",
       "    }\n",
       "</style>\n",
       "<table border=\"1\" class=\"dataframe\">\n",
       "  <thead>\n",
       "    <tr style=\"text-align: right;\">\n",
       "      <th></th>\n",
       "      <th>count</th>\n",
       "      <th>mean</th>\n",
       "      <th>std</th>\n",
       "      <th>min</th>\n",
       "      <th>25%</th>\n",
       "      <th>50%</th>\n",
       "      <th>75%</th>\n",
       "      <th>max</th>\n",
       "    </tr>\n",
       "    <tr>\n",
       "      <th>loan_status</th>\n",
       "      <th></th>\n",
       "      <th></th>\n",
       "      <th></th>\n",
       "      <th></th>\n",
       "      <th></th>\n",
       "      <th></th>\n",
       "      <th></th>\n",
       "      <th></th>\n",
       "    </tr>\n",
       "  </thead>\n",
       "  <tbody>\n",
       "    <tr>\n",
       "      <th>Charged Off</th>\n",
       "      <td>249420.0</td>\n",
       "      <td>0.256984</td>\n",
       "      <td>0.670583</td>\n",
       "      <td>0.0</td>\n",
       "      <td>0.0</td>\n",
       "      <td>0.0</td>\n",
       "      <td>0.0</td>\n",
       "      <td>86.0</td>\n",
       "    </tr>\n",
       "    <tr>\n",
       "      <th>Fully Paid</th>\n",
       "      <td>986579.0</td>\n",
       "      <td>0.219314</td>\n",
       "      <td>0.599310</td>\n",
       "      <td>0.0</td>\n",
       "      <td>0.0</td>\n",
       "      <td>0.0</td>\n",
       "      <td>0.0</td>\n",
       "      <td>63.0</td>\n",
       "    </tr>\n",
       "  </tbody>\n",
       "</table>\n",
       "</div>"
      ],
      "text/plain": [
       "                count      mean       std  min  25%  50%  75%   max\n",
       "loan_status                                                        \n",
       "Charged Off  249420.0  0.256984  0.670583  0.0  0.0  0.0  0.0  86.0\n",
       "Fully Paid   986579.0  0.219314  0.599310  0.0  0.0  0.0  0.0  63.0"
      ]
     },
     "execution_count": 86,
     "metadata": {},
     "output_type": "execute_result"
    }
   ],
   "source": [
    "loan.groupby('loan_status')['pub_rec'].describe()"
   ]
  },
  {
   "cell_type": "code",
   "execution_count": 87,
   "id": "d52598c9",
   "metadata": {},
   "outputs": [
    {
     "data": {
      "text/plain": [
       "0.0     1015437\n",
       "1.0      184481\n",
       "2.0       23788\n",
       "3.0        7191\n",
       "4.0        2555\n",
       "5.0        1232\n",
       "6.0         613\n",
       "7.0         270\n",
       "8.0         156\n",
       "9.0          79\n",
       "10.0         56\n",
       "11.0         40\n",
       "12.0         27\n",
       "13.0         17\n",
       "15.0          9\n",
       "21.0          6\n",
       "19.0          5\n",
       "16.0          5\n",
       "18.0          5\n",
       "14.0          4\n",
       "17.0          3\n",
       "24.0          2\n",
       "22.0          2\n",
       "20.0          2\n",
       "28.0          2\n",
       "86.0          1\n",
       "63.0          1\n",
       "25.0          1\n",
       "54.0          1\n",
       "34.0          1\n",
       "37.0          1\n",
       "40.0          1\n",
       "46.0          1\n",
       "47.0          1\n",
       "49.0          1\n",
       "23.0          1\n",
       "61.0          1\n",
       "Name: pub_rec, dtype: int64"
      ]
     },
     "execution_count": 87,
     "metadata": {},
     "output_type": "execute_result"
    }
   ],
   "source": [
    "loan.pub_rec.value_counts()"
   ]
  },
  {
   "cell_type": "code",
   "execution_count": 88,
   "id": "e98cfad2",
   "metadata": {},
   "outputs": [
    {
     "data": {
      "image/png": "[encoded data removed]",
      "text/plain": [
       "<Figure size 1728x432 with 1 Axes>"
      ]
     },
     "metadata": {
      "needs_background": "light"
     },
     "output_type": "display_data"
    }
   ],
   "source": [
    "plt.figure(figsize=(24,6))\n",
    "sns.boxplot(data=loan, x='pub_rec', y='loan_status', palette='Set2');"
   ]
  },
  {
   "cell_type": "code",
   "execution_count": 89,
   "id": "5b6e7b2c",
   "metadata": {},
   "outputs": [
    {
     "data": {
      "text/plain": [
       "0    1015437\n",
       "1     220562\n",
       "Name: pub_rec, dtype: int64"
      ]
     },
     "execution_count": 89,
     "metadata": {},
     "output_type": "execute_result"
    }
   ],
   "source": [
    "loan['pub_rec']= loan['pub_rec'].apply(lambda x:0 if x==0 else 1 )\n",
    "                                                  \n",
    "loan['pub_rec'].value_counts()"
   ]
  },
  {
   "cell_type": "markdown",
   "id": "3507b713",
   "metadata": {},
   "source": [
    "### loan_amnt"
   ]
  },
  {
   "cell_type": "code",
   "execution_count": 90,
   "id": "4a08e3d6",
   "metadata": {},
   "outputs": [
    {
     "data": {
      "text/html": [
       "<div>\n",
       "<style scoped>\n",
       "    .dataframe tbody tr th:only-of-type {\n",
       "        vertical-align: middle;\n",
       "    }\n",
       "\n",
       "    .dataframe tbody tr th {\n",
       "        vertical-align: top;\n",
       "    }\n",
       "\n",
       "    .dataframe thead th {\n",
       "        text-align: right;\n",
       "    }\n",
       "</style>\n",
       "<table border=\"1\" class=\"dataframe\">\n",
       "  <thead>\n",
       "    <tr style=\"text-align: right;\">\n",
       "      <th></th>\n",
       "      <th>count</th>\n",
       "      <th>mean</th>\n",
       "      <th>std</th>\n",
       "      <th>min</th>\n",
       "      <th>25%</th>\n",
       "      <th>50%</th>\n",
       "      <th>75%</th>\n",
       "      <th>max</th>\n",
       "    </tr>\n",
       "    <tr>\n",
       "      <th>loan_status</th>\n",
       "      <th></th>\n",
       "      <th></th>\n",
       "      <th></th>\n",
       "      <th></th>\n",
       "      <th></th>\n",
       "      <th></th>\n",
       "      <th></th>\n",
       "      <th></th>\n",
       "    </tr>\n",
       "  </thead>\n",
       "  <tbody>\n",
       "    <tr>\n",
       "      <th>Charged Off</th>\n",
       "      <td>249420.0</td>\n",
       "      <td>15493.915183</td>\n",
       "      <td>8744.101434</td>\n",
       "      <td>1000.0</td>\n",
       "      <td>9000.0</td>\n",
       "      <td>14075.0</td>\n",
       "      <td>20000.0</td>\n",
       "      <td>40000.0</td>\n",
       "    </tr>\n",
       "    <tr>\n",
       "      <th>Fully Paid</th>\n",
       "      <td>986579.0</td>\n",
       "      <td>14069.840352</td>\n",
       "      <td>8594.166108</td>\n",
       "      <td>1000.0</td>\n",
       "      <td>7500.0</td>\n",
       "      <td>12000.0</td>\n",
       "      <td>20000.0</td>\n",
       "      <td>40000.0</td>\n",
       "    </tr>\n",
       "  </tbody>\n",
       "</table>\n",
       "</div>"
      ],
      "text/plain": [
       "                count          mean          std     min     25%      50%  \\\n",
       "loan_status                                                                 \n",
       "Charged Off  249420.0  15493.915183  8744.101434  1000.0  9000.0  14075.0   \n",
       "Fully Paid   986579.0  14069.840352  8594.166108  1000.0  7500.0  12000.0   \n",
       "\n",
       "                 75%      max  \n",
       "loan_status                    \n",
       "Charged Off  20000.0  40000.0  \n",
       "Fully Paid   20000.0  40000.0  "
      ]
     },
     "execution_count": 90,
     "metadata": {},
     "output_type": "execute_result"
    }
   ],
   "source": [
    "loan.groupby('loan_status')['loan_amnt'].describe()"
   ]
  },
  {
   "cell_type": "code",
   "execution_count": 91,
   "id": "2797e423",
   "metadata": {},
   "outputs": [
    {
     "data": {
      "image/png": "[encoded data removed]",
      "text/plain": [
       "<Figure size 1728x432 with 1 Axes>"
      ]
     },
     "metadata": {
      "needs_background": "light"
     },
     "output_type": "display_data"
    }
   ],
   "source": [
    "plt.figure(figsize=(24,6))\n",
    "sns.boxplot(data=loan, x='loan_amnt', y='loan_status', palette='Set2');"
   ]
  },
  {
   "cell_type": "markdown",
   "id": "f4ceb4c0",
   "metadata": {},
   "source": [
    "### term"
   ]
  },
  {
   "cell_type": "code",
   "execution_count": 92,
   "id": "3374b67c",
   "metadata": {},
   "outputs": [
    {
     "data": {
      "text/plain": [
       "<AxesSubplot:xlabel='term', ylabel='count'>"
      ]
     },
     "execution_count": 92,
     "metadata": {},
     "output_type": "execute_result"
    },
    {
     "data": {
      "image/png": "[encoded data removed]",
      "text/plain": [
       "<Figure size 1008x432 with 1 Axes>"
      ]
     },
     "metadata": {
      "needs_background": "light"
     },
     "output_type": "display_data"
    }
   ],
   "source": [
    "plt.figure(figsize=(14,6))\n",
    "sns.countplot(x='term',data=loan,hue='loan_status', palette='Set2')"
   ]
  },
  {
   "cell_type": "code",
   "execution_count": 93,
   "id": "c3fc405d",
   "metadata": {},
   "outputs": [
    {
     "data": {
      "image/png": "[encoded data removed]",
      "text/plain": [
       "<Figure size 432x288 with 1 Axes>"
      ]
     },
     "metadata": {
      "needs_background": "light"
     },
     "output_type": "display_data"
    }
   ],
   "source": [
    "charged_off = loan[loan['loan_status']==\"Charged Off\"].groupby(\"term\").count()['loan_status']\n",
    "fully_paid = loan[loan['loan_status']==\"Fully Paid\"].groupby(\"term\").count()['loan_status']\n",
    "percent_charged_off = (charged_off * 100)/(charged_off + fully_paid)\n",
    "percent_charged_off.plot(kind='bar', cmap='Pastel1')\n",
    "plt.title(\"Percentage charged off per term category\")\n",
    "plt.xticks(rotation=0);"
   ]
  },
  {
   "cell_type": "markdown",
   "id": "1adaeee3",
   "metadata": {},
   "source": [
    "Loan term with 60 month has higher rate of charged off."
   ]
  },
  {
   "cell_type": "code",
   "execution_count": 94,
   "id": "169edb1d",
   "metadata": {},
   "outputs": [],
   "source": [
    "dummies_term = pd.get_dummies(loan['term'], prefix='term',drop_first=True)\n",
    "loan= pd.concat([loan.drop('term', axis=1), dummies_term], axis=1)"
   ]
  },
  {
   "cell_type": "markdown",
   "id": "6a681b64",
   "metadata": {},
   "source": [
    "### int_rate"
   ]
  },
  {
   "cell_type": "code",
   "execution_count": 95,
   "id": "d1090c97",
   "metadata": {},
   "outputs": [
    {
     "data": {
      "text/html": [
       "<div>\n",
       "<style scoped>\n",
       "    .dataframe tbody tr th:only-of-type {\n",
       "        vertical-align: middle;\n",
       "    }\n",
       "\n",
       "    .dataframe tbody tr th {\n",
       "        vertical-align: top;\n",
       "    }\n",
       "\n",
       "    .dataframe thead th {\n",
       "        text-align: right;\n",
       "    }\n",
       "</style>\n",
       "<table border=\"1\" class=\"dataframe\">\n",
       "  <thead>\n",
       "    <tr style=\"text-align: right;\">\n",
       "      <th></th>\n",
       "      <th>count</th>\n",
       "      <th>mean</th>\n",
       "      <th>std</th>\n",
       "      <th>min</th>\n",
       "      <th>25%</th>\n",
       "      <th>50%</th>\n",
       "      <th>75%</th>\n",
       "      <th>max</th>\n",
       "    </tr>\n",
       "    <tr>\n",
       "      <th>loan_status</th>\n",
       "      <th></th>\n",
       "      <th></th>\n",
       "      <th></th>\n",
       "      <th></th>\n",
       "      <th></th>\n",
       "      <th></th>\n",
       "      <th></th>\n",
       "      <th></th>\n",
       "    </tr>\n",
       "  </thead>\n",
       "  <tbody>\n",
       "    <tr>\n",
       "      <th>Charged Off</th>\n",
       "      <td>249420.0</td>\n",
       "      <td>15.766551</td>\n",
       "      <td>4.925374</td>\n",
       "      <td>5.31</td>\n",
       "      <td>12.35</td>\n",
       "      <td>15.05</td>\n",
       "      <td>18.55</td>\n",
       "      <td>30.99</td>\n",
       "    </tr>\n",
       "    <tr>\n",
       "      <th>Fully Paid</th>\n",
       "      <td>986579.0</td>\n",
       "      <td>12.655250</td>\n",
       "      <td>4.546824</td>\n",
       "      <td>5.31</td>\n",
       "      <td>9.17</td>\n",
       "      <td>12.29</td>\n",
       "      <td>15.31</td>\n",
       "      <td>30.99</td>\n",
       "    </tr>\n",
       "  </tbody>\n",
       "</table>\n",
       "</div>"
      ],
      "text/plain": [
       "                count       mean       std   min    25%    50%    75%    max\n",
       "loan_status                                                                 \n",
       "Charged Off  249420.0  15.766551  4.925374  5.31  12.35  15.05  18.55  30.99\n",
       "Fully Paid   986579.0  12.655250  4.546824  5.31   9.17  12.29  15.31  30.99"
      ]
     },
     "execution_count": 95,
     "metadata": {},
     "output_type": "execute_result"
    }
   ],
   "source": [
    "loan.groupby('loan_status')['int_rate'].describe()"
   ]
  },
  {
   "cell_type": "code",
   "execution_count": 96,
   "id": "36370dae",
   "metadata": {},
   "outputs": [
    {
     "data": {
      "image/png": "[encoded data removed]",
      "text/plain": [
       "<Figure size 1728x432 with 1 Axes>"
      ]
     },
     "metadata": {
      "needs_background": "light"
     },
     "output_type": "display_data"
    }
   ],
   "source": [
    "plt.figure(figsize=(24,6))\n",
    "sns.boxplot(data=loan, x='int_rate', y='loan_status', palette='Set2');"
   ]
  },
  {
   "cell_type": "markdown",
   "id": "cd85b76e",
   "metadata": {},
   "source": [
    "### sub_grade "
   ]
  },
  {
   "cell_type": "code",
   "execution_count": 97,
   "id": "330213b2",
   "metadata": {},
   "outputs": [
    {
     "data": {
      "image/png": "[encoded data removed]",
      "text/plain": [
       "<Figure size 432x288 with 1 Axes>"
      ]
     },
     "metadata": {
      "needs_background": "light"
     },
     "output_type": "display_data"
    }
   ],
   "source": [
    "subgrade_order = sorted(loan['sub_grade'].unique().tolist())\n",
    "sns.countplot(x='sub_grade',data=loan,order = subgrade_order, palette='Set2',hue='loan_status');\n"
   ]
  },
  {
   "cell_type": "code",
   "execution_count": 98,
   "id": "12e7f273",
   "metadata": {},
   "outputs": [],
   "source": [
    "dummies_subgrade = pd.get_dummies(loan['sub_grade'], prefix='sub_grade',drop_first=True)\n",
    "loan= pd.concat([loan.drop('sub_grade', axis=1), dummies_subgrade], axis=1)"
   ]
  },
  {
   "cell_type": "markdown",
   "id": "b60ac653",
   "metadata": {},
   "source": [
    "### home_ownership"
   ]
  },
  {
   "cell_type": "code",
   "execution_count": 99,
   "id": "c112c99d",
   "metadata": {},
   "outputs": [
    {
     "data": {
      "text/plain": [
       "MORTGAGE    608692\n",
       "RENT        492585\n",
       "OWN         134353\n",
       "ANY            280\n",
       "NONE            45\n",
       "OTHER           44\n",
       "Name: home_ownership, dtype: int64"
      ]
     },
     "execution_count": 99,
     "metadata": {},
     "output_type": "execute_result"
    }
   ],
   "source": [
    "loan['home_ownership'].value_counts()"
   ]
  },
  {
   "cell_type": "code",
   "execution_count": 100,
   "id": "277d99a0",
   "metadata": {},
   "outputs": [],
   "source": [
    "owndership_list=['MORTGAGE', 'RENT','OTHER','OWN']\n",
    "loan= loan.loc[loan['home_ownership'].isin(owndership_list)]"
   ]
  },
  {
   "cell_type": "code",
   "execution_count": 101,
   "id": "73d5975c",
   "metadata": {},
   "outputs": [
    {
     "data": {
      "text/plain": [
       "MORTGAGE    608692\n",
       "RENT        492585\n",
       "OWN         134353\n",
       "OTHER           44\n",
       "Name: home_ownership, dtype: int64"
      ]
     },
     "execution_count": 101,
     "metadata": {},
     "output_type": "execute_result"
    }
   ],
   "source": [
    "loan.home_ownership.value_counts()"
   ]
  },
  {
   "cell_type": "code",
   "execution_count": 102,
   "id": "09da688d",
   "metadata": {},
   "outputs": [
    {
     "data": {
      "image/png": "[encoded data removed]",
      "text/plain": [
       "<Figure size 432x288 with 1 Axes>"
      ]
     },
     "metadata": {
      "needs_background": "light"
     },
     "output_type": "display_data"
    }
   ],
   "source": [
    "charged_off = loan[loan['loan_status']==\"Charged Off\"].groupby(\"home_ownership\").count()['loan_status']\n",
    "fully_paid = loan[loan['loan_status']==\"Fully Paid\"].groupby(\"home_ownership\").count()['loan_status']\n",
    "percentage_charged_off = (charged_off * 100)/(charged_off + fully_paid)\n",
    "percentage_charged_off.plot(kind='bar', cmap='Pastel2')\n",
    "plt.title(\"Percentage charged off per home_ownership category\")\n",
    "plt.xticks(rotation=0);"
   ]
  },
  {
   "cell_type": "code",
   "execution_count": 103,
   "id": "338c0f29",
   "metadata": {},
   "outputs": [],
   "source": [
    "#dummies_subgrade = pd.get_dummies(loan['sub_grade'], prefix='term',drop_first=True)\n",
    "#loan= pd.concat([loan.drop('sub_grade', axis=1), dummies_subgrade], axis=1)"
   ]
  },
  {
   "cell_type": "code",
   "execution_count": 104,
   "id": "da268a1c",
   "metadata": {},
   "outputs": [],
   "source": [
    "dummies_ownership = pd.get_dummies(loan['home_ownership'], prefix='home_ownership',drop_first=True)\n",
    "loan= pd.concat([loan.drop('home_ownership', axis=1), dummies_ownership], axis=1)"
   ]
  },
  {
   "cell_type": "markdown",
   "id": "c757b8f9",
   "metadata": {},
   "source": [
    "### annual_inc"
   ]
  },
  {
   "cell_type": "code",
   "execution_count": 105,
   "id": "6a290cae",
   "metadata": {},
   "outputs": [
    {
     "data": {
      "text/html": [
       "<div>\n",
       "<style scoped>\n",
       "    .dataframe tbody tr th:only-of-type {\n",
       "        vertical-align: middle;\n",
       "    }\n",
       "\n",
       "    .dataframe tbody tr th {\n",
       "        vertical-align: top;\n",
       "    }\n",
       "\n",
       "    .dataframe thead th {\n",
       "        text-align: right;\n",
       "    }\n",
       "</style>\n",
       "<table border=\"1\" class=\"dataframe\">\n",
       "  <thead>\n",
       "    <tr style=\"text-align: right;\">\n",
       "      <th></th>\n",
       "      <th>count</th>\n",
       "      <th>mean</th>\n",
       "      <th>std</th>\n",
       "      <th>min</th>\n",
       "      <th>25%</th>\n",
       "      <th>50%</th>\n",
       "      <th>75%</th>\n",
       "      <th>max</th>\n",
       "    </tr>\n",
       "    <tr>\n",
       "      <th>loan_status</th>\n",
       "      <th></th>\n",
       "      <th></th>\n",
       "      <th></th>\n",
       "      <th></th>\n",
       "      <th></th>\n",
       "      <th></th>\n",
       "      <th></th>\n",
       "      <th></th>\n",
       "    </tr>\n",
       "  </thead>\n",
       "  <tbody>\n",
       "    <tr>\n",
       "      <th>Charged Off</th>\n",
       "      <td>249360.0</td>\n",
       "      <td>69467.381485</td>\n",
       "      <td>65356.197968</td>\n",
       "      <td>0.0</td>\n",
       "      <td>43000.0</td>\n",
       "      <td>60000.0</td>\n",
       "      <td>84000.0</td>\n",
       "      <td>9500000.0</td>\n",
       "    </tr>\n",
       "    <tr>\n",
       "      <th>Fully Paid</th>\n",
       "      <td>986314.0</td>\n",
       "      <td>76264.557778</td>\n",
       "      <td>67181.191200</td>\n",
       "      <td>0.0</td>\n",
       "      <td>46900.0</td>\n",
       "      <td>65000.0</td>\n",
       "      <td>91000.0</td>\n",
       "      <td>10999200.0</td>\n",
       "    </tr>\n",
       "  </tbody>\n",
       "</table>\n",
       "</div>"
      ],
      "text/plain": [
       "                count          mean           std  min      25%      50%  \\\n",
       "loan_status                                                                \n",
       "Charged Off  249360.0  69467.381485  65356.197968  0.0  43000.0  60000.0   \n",
       "Fully Paid   986314.0  76264.557778  67181.191200  0.0  46900.0  65000.0   \n",
       "\n",
       "                 75%         max  \n",
       "loan_status                       \n",
       "Charged Off  84000.0   9500000.0  \n",
       "Fully Paid   91000.0  10999200.0  "
      ]
     },
     "execution_count": 105,
     "metadata": {},
     "output_type": "execute_result"
    }
   ],
   "source": [
    "loan.groupby('loan_status')['annual_inc'].describe()"
   ]
  },
  {
   "cell_type": "code",
   "execution_count": 106,
   "id": "8c9ac0a9",
   "metadata": {},
   "outputs": [
    {
     "data": {
      "text/plain": [
       "(1235674, 58)"
      ]
     },
     "execution_count": 106,
     "metadata": {},
     "output_type": "execute_result"
    }
   ],
   "source": [
    "loan.shape"
   ]
  },
  {
   "cell_type": "code",
   "execution_count": 107,
   "id": "ec1a9001",
   "metadata": {},
   "outputs": [
    {
     "data": {
      "image/png": "[encoded data removed]",
      "text/plain": [
       "<Figure size 1728x432 with 1 Axes>"
      ]
     },
     "metadata": {
      "needs_background": "light"
     },
     "output_type": "display_data"
    }
   ],
   "source": [
    "plt.figure(figsize=(24,6))\n",
    "sns.boxplot(data=loan, x='annual_inc', y='loan_status', palette='Set2');"
   ]
  },
  {
   "cell_type": "markdown",
   "id": "5b7b3a91",
   "metadata": {},
   "source": [
    "From above, outliers are observed. "
   ]
  },
  {
   "cell_type": "code",
   "execution_count": 108,
   "id": "540d1748",
   "metadata": {},
   "outputs": [
    {
     "name": "stdout",
     "output_type": "stream",
     "text": [
      "0.008131594579152754\n"
     ]
    }
   ],
   "source": [
    "print(len(loan[loan['annual_inc']>250000])/loan.shape[0])"
   ]
  },
  {
   "cell_type": "markdown",
   "id": "6d1ede46",
   "metadata": {},
   "source": [
    "Less than 1% customers have annual income greater than 250k.\n",
    "Keep annual income less than 250k."
   ]
  },
  {
   "cell_type": "code",
   "execution_count": 109,
   "id": "ddb7e302",
   "metadata": {},
   "outputs": [],
   "source": [
    "loan = loan[loan['annual_inc'] <= 250000]"
   ]
  },
  {
   "cell_type": "markdown",
   "id": "ef822e3b",
   "metadata": {},
   "source": [
    "### verification_status"
   ]
  },
  {
   "cell_type": "code",
   "execution_count": 110,
   "id": "be418c46",
   "metadata": {},
   "outputs": [
    {
     "data": {
      "text/plain": [
       "Source Verified    482194\n",
       "Verified           374769\n",
       "Not Verified       368663\n",
       "Name: verification_status, dtype: int64"
      ]
     },
     "execution_count": 110,
     "metadata": {},
     "output_type": "execute_result"
    }
   ],
   "source": [
    "loan.verification_status.value_counts()"
   ]
  },
  {
   "cell_type": "code",
   "execution_count": 111,
   "id": "d839cb05",
   "metadata": {},
   "outputs": [
    {
     "data": {
      "image/png": "[encoded data removed]",
      "text/plain": [
       "<Figure size 432x288 with 1 Axes>"
      ]
     },
     "metadata": {
      "needs_background": "light"
     },
     "output_type": "display_data"
    }
   ],
   "source": [
    "sns.countplot(data=loan, x='verification_status', hue='loan_status', palette='Set2');"
   ]
  },
  {
   "cell_type": "code",
   "execution_count": 112,
   "id": "9b3326b4",
   "metadata": {},
   "outputs": [
    {
     "data": {
      "image/png": "[encoded data removed]",
      "text/plain": [
       "<Figure size 432x288 with 1 Axes>"
      ]
     },
     "metadata": {
      "needs_background": "light"
     },
     "output_type": "display_data"
    }
   ],
   "source": [
    "charged_off = loan[loan['loan_status']==\"Charged Off\"].groupby(\"verification_status\").count()['loan_status']\n",
    "fully_paid = loan[loan['loan_status']==\"Fully Paid\"].groupby(\"verification_status\").count()['loan_status']\n",
    "percentage_charged_off = (charged_off * 100)/(charged_off + fully_paid)\n",
    "percentage_charged_off.plot(kind='bar', cmap='Pastel2')\n",
    "plt.title(\"Percentage charged off per verification status\")\n",
    "plt.xticks(rotation=0);"
   ]
  },
  {
   "cell_type": "code",
   "execution_count": 113,
   "id": "5963802f",
   "metadata": {},
   "outputs": [],
   "source": [
    "dummies_verification_status = pd.get_dummies(loan['verification_status'], drop_first=True)\n",
    "loan= pd.concat([loan.drop('verification_status', axis=1), dummies_verification_status], axis=1)"
   ]
  },
  {
   "cell_type": "markdown",
   "id": "793768e9",
   "metadata": {},
   "source": [
    "### initial_list_status"
   ]
  },
  {
   "cell_type": "code",
   "execution_count": 114,
   "id": "a21a7f3a",
   "metadata": {},
   "outputs": [
    {
     "data": {
      "text/plain": [
       "w    750443\n",
       "f    475183\n",
       "Name: initial_list_status, dtype: int64"
      ]
     },
     "execution_count": 114,
     "metadata": {},
     "output_type": "execute_result"
    }
   ],
   "source": [
    "loan.initial_list_status.value_counts()"
   ]
  },
  {
   "cell_type": "code",
   "execution_count": 115,
   "id": "8afbd799",
   "metadata": {},
   "outputs": [
    {
     "data": {
      "image/png": "[encoded data removed]",
      "text/plain": [
       "<Figure size 432x288 with 1 Axes>"
      ]
     },
     "metadata": {
      "needs_background": "light"
     },
     "output_type": "display_data"
    }
   ],
   "source": [
    "charged_off = loan[loan['loan_status']==\"Charged Off\"].groupby(\"initial_list_status\").count()['loan_status']\n",
    "fully_paid = loan[loan['loan_status']==\"Fully Paid\"].groupby(\"initial_list_status\").count()['loan_status']\n",
    "percentage_charged_off = (charged_off * 100)/(charged_off + fully_paid)\n",
    "percentage_charged_off.plot(kind='bar', cmap='Pastel2')\n",
    "plt.title(\"Percentage charged off per initial_list status\")\n",
    "plt.xticks(rotation=0);"
   ]
  },
  {
   "cell_type": "markdown",
   "id": "7a27723a",
   "metadata": {},
   "source": [
    "The percentage charged off in initial_list_status has no large difference. Drop this column."
   ]
  },
  {
   "cell_type": "code",
   "execution_count": 116,
   "id": "53dd555a",
   "metadata": {},
   "outputs": [],
   "source": [
    "loan=loan.drop('initial_list_status',axis=1)"
   ]
  },
  {
   "cell_type": "markdown",
   "id": "d9e6c2a5",
   "metadata": {},
   "source": [
    "### purpose"
   ]
  },
  {
   "cell_type": "code",
   "execution_count": 117,
   "id": "c281b84e",
   "metadata": {},
   "outputs": [
    {
     "data": {
      "text/plain": [
       "debt_consolidation    718127\n",
       "credit_card           271256\n",
       "home_improvement       78179\n",
       "other                  69809\n",
       "major_purchase         25522\n",
       "medical                14055\n",
       "car                    12091\n",
       "small_business         11923\n",
       "moving                  8464\n",
       "vacation                8244\n",
       "house                   6325\n",
       "wedding                  860\n",
       "renewable_energy         770\n",
       "educational                1\n",
       "Name: purpose, dtype: int64"
      ]
     },
     "execution_count": 117,
     "metadata": {},
     "output_type": "execute_result"
    }
   ],
   "source": [
    "loan.purpose.value_counts()"
   ]
  },
  {
   "cell_type": "code",
   "execution_count": 118,
   "id": "cd8679fd",
   "metadata": {},
   "outputs": [],
   "source": [
    "purpose_df= loan.purpose.value_counts()"
   ]
  },
  {
   "cell_type": "code",
   "execution_count": 119,
   "id": "c68f7ee0",
   "metadata": {},
   "outputs": [
    {
     "data": {
      "text/plain": [
       "debt_consolidation    718127\n",
       "credit_card           271256\n",
       "home_improvement       78179\n",
       "other                  69809\n",
       "major_purchase         25522\n",
       "Name: purpose, dtype: int64"
      ]
     },
     "execution_count": 119,
     "metadata": {},
     "output_type": "execute_result"
    }
   ],
   "source": [
    "purpose_df.head()"
   ]
  },
  {
   "cell_type": "code",
   "execution_count": 120,
   "id": "14e7475e",
   "metadata": {},
   "outputs": [
    {
     "data": {
      "image/png": "[encoded data removed]",
      "text/plain": [
       "<Figure size 1008x432 with 1 Axes>"
      ]
     },
     "metadata": {
      "needs_background": "light"
     },
     "output_type": "display_data"
    }
   ],
   "source": [
    "plt.figure(figsize=(14,6))\n",
    "purpose_order = sorted(loan['purpose'].unique().tolist())\n",
    "sns.countplot(x='purpose',data=loan,hue='loan_status', palette='Set2')\n",
    "plt.xticks(rotation=90);"
   ]
  },
  {
   "cell_type": "code",
   "execution_count": 121,
   "id": "c3e2b3c6",
   "metadata": {},
   "outputs": [
    {
     "data": {
      "text/plain": [
       "\"\\nclrs=['yellow' if (value < max(purpose_df.values)) else 'pink' for value in purpose_df.values]\\nax=sns.countplot(data=loan,x='',y='price',palette=clrs,ci= None)\\nax.set_xlabel('Purpose')\\nax.set_ylabel('Counts')\\nax.set_title('Price by Zip Code')\\nax.yaxis.set_major_formatter(FormatStrFormatter('%.0f'))\\nax.set_xticklabels(ax.get_xticklabels(),rotation=90);\\n\""
      ]
     },
     "execution_count": 121,
     "metadata": {},
     "output_type": "execute_result"
    }
   ],
   "source": [
    "'''\n",
    "clrs=['yellow' if (value < max(purpose_df.values)) else 'pink' for value in purpose_df.values]\n",
    "ax=sns.countplot(data=loan,x='',y='price',palette=clrs,ci= None)\n",
    "ax.set_xlabel('Purpose')\n",
    "ax.set_ylabel('Counts')\n",
    "ax.set_title('Price by Zip Code')\n",
    "ax.yaxis.set_major_formatter(FormatStrFormatter('%.0f'))\n",
    "ax.set_xticklabels(ax.get_xticklabels(),rotation=90);\n",
    "'''"
   ]
  },
  {
   "cell_type": "code",
   "execution_count": 122,
   "id": "929c8940",
   "metadata": {},
   "outputs": [],
   "source": [
    "dummies_purpose = pd.get_dummies(loan['purpose'], prefix='purpose',drop_first=True)\n",
    "loan= pd.concat([loan.drop('purpose', axis=1), dummies_purpose], axis=1)"
   ]
  },
  {
   "cell_type": "markdown",
   "id": "bd28b1a3",
   "metadata": {},
   "source": [
    "### addr_state "
   ]
  },
  {
   "cell_type": "code",
   "execution_count": 123,
   "id": "862dc1d6",
   "metadata": {},
   "outputs": [
    {
     "data": {
      "text/plain": [
       "CA    175798\n",
       "TX    101375\n",
       "NY     97960\n",
       "FL     86886\n",
       "IL     46720\n",
       "NJ     42617\n",
       "PA     41346\n",
       "OH     40604\n",
       "GA     39484\n",
       "NC     34871\n",
       "VA     34158\n",
       "MI     32813\n",
       "AZ     29954\n",
       "MD     28137\n",
       "MA     27428\n",
       "CO     27252\n",
       "WA     26725\n",
       "MN     22168\n",
       "IN     21124\n",
       "TN     19741\n",
       "MO     19530\n",
       "NV     18737\n",
       "CT     17326\n",
       "WI     16432\n",
       "AL     15462\n",
       "OR     15181\n",
       "SC     14758\n",
       "LA     14267\n",
       "KY     11915\n",
       "OK     11459\n",
       "KS     10435\n",
       "AR      9278\n",
       "UT      9235\n",
       "NM      6842\n",
       "MS      6383\n",
       "HI      6235\n",
       "NH      5889\n",
       "RI      5313\n",
       "WV      4476\n",
       "MT      3559\n",
       "NE      3489\n",
       "DE      3443\n",
       "DC      2986\n",
       "AK      2933\n",
       "WY      2705\n",
       "SD      2571\n",
       "VT      2469\n",
       "ME      1955\n",
       "ID      1641\n",
       "ND      1559\n",
       "IA         2\n",
       "Name: addr_state, dtype: int64"
      ]
     },
     "execution_count": 123,
     "metadata": {},
     "output_type": "execute_result"
    }
   ],
   "source": [
    "loan.addr_state.value_counts()"
   ]
  },
  {
   "cell_type": "code",
   "execution_count": 124,
   "id": "7bb0ee29",
   "metadata": {},
   "outputs": [],
   "source": [
    "dummies_state = pd.get_dummies(loan['addr_state'], drop_first=True)\n",
    "loan= pd.concat([loan.drop('addr_state', axis=1), dummies_state], axis=1)"
   ]
  },
  {
   "cell_type": "markdown",
   "id": "cb0862b7",
   "metadata": {},
   "source": [
    "### application type"
   ]
  },
  {
   "cell_type": "code",
   "execution_count": 125,
   "id": "c2f51951",
   "metadata": {},
   "outputs": [
    {
     "data": {
      "text/plain": [
       "Individual    1200478\n",
       "Joint App       25148\n",
       "Name: application_type, dtype: int64"
      ]
     },
     "execution_count": 125,
     "metadata": {},
     "output_type": "execute_result"
    }
   ],
   "source": [
    "loan.application_type.value_counts()"
   ]
  },
  {
   "cell_type": "code",
   "execution_count": 126,
   "id": "350319c1",
   "metadata": {},
   "outputs": [
    {
     "data": {
      "image/png": "[encoded data removed]",
      "text/plain": [
       "<Figure size 432x288 with 1 Axes>"
      ]
     },
     "metadata": {
      "needs_background": "light"
     },
     "output_type": "display_data"
    }
   ],
   "source": [
    "sns.countplot(data=loan, x='application_type', hue='loan_status', palette='Set2');"
   ]
  },
  {
   "cell_type": "code",
   "execution_count": 127,
   "id": "cbab9133",
   "metadata": {},
   "outputs": [],
   "source": [
    "dummies_apptype = pd.get_dummies(loan['application_type'], drop_first=True)\n",
    "loan= pd.concat([loan.drop('application_type', axis=1), dummies_apptype], axis=1)"
   ]
  },
  {
   "cell_type": "markdown",
   "id": "16c2c135",
   "metadata": {},
   "source": [
    "### fico_range_low & fico_range_high "
   ]
  },
  {
   "cell_type": "code",
   "execution_count": 128,
   "id": "70befa5c",
   "metadata": {},
   "outputs": [
    {
     "data": {
      "text/html": [
       "<div>\n",
       "<style scoped>\n",
       "    .dataframe tbody tr th:only-of-type {\n",
       "        vertical-align: middle;\n",
       "    }\n",
       "\n",
       "    .dataframe tbody tr th {\n",
       "        vertical-align: top;\n",
       "    }\n",
       "\n",
       "    .dataframe thead th {\n",
       "        text-align: right;\n",
       "    }\n",
       "</style>\n",
       "<table border=\"1\" class=\"dataframe\">\n",
       "  <thead>\n",
       "    <tr style=\"text-align: right;\">\n",
       "      <th></th>\n",
       "      <th>count</th>\n",
       "      <th>mean</th>\n",
       "      <th>std</th>\n",
       "      <th>min</th>\n",
       "      <th>25%</th>\n",
       "      <th>50%</th>\n",
       "      <th>75%</th>\n",
       "      <th>max</th>\n",
       "    </tr>\n",
       "    <tr>\n",
       "      <th>loan_status</th>\n",
       "      <th></th>\n",
       "      <th></th>\n",
       "      <th></th>\n",
       "      <th></th>\n",
       "      <th></th>\n",
       "      <th></th>\n",
       "      <th></th>\n",
       "      <th></th>\n",
       "    </tr>\n",
       "  </thead>\n",
       "  <tbody>\n",
       "    <tr>\n",
       "      <th>Charged Off</th>\n",
       "      <td>247991.0</td>\n",
       "      <td>691.361352</td>\n",
       "      <td>25.649179</td>\n",
       "      <td>664.0</td>\n",
       "      <td>674.0</td>\n",
       "      <td>684.0</td>\n",
       "      <td>704.0</td>\n",
       "      <td>850.0</td>\n",
       "    </tr>\n",
       "    <tr>\n",
       "      <th>Fully Paid</th>\n",
       "      <td>977635.0</td>\n",
       "      <td>701.301943</td>\n",
       "      <td>32.465157</td>\n",
       "      <td>664.0</td>\n",
       "      <td>674.0</td>\n",
       "      <td>694.0</td>\n",
       "      <td>719.0</td>\n",
       "      <td>850.0</td>\n",
       "    </tr>\n",
       "  </tbody>\n",
       "</table>\n",
       "</div>"
      ],
      "text/plain": [
       "                count        mean        std    min    25%    50%    75%  \\\n",
       "loan_status                                                                \n",
       "Charged Off  247991.0  691.361352  25.649179  664.0  674.0  684.0  704.0   \n",
       "Fully Paid   977635.0  701.301943  32.465157  664.0  674.0  694.0  719.0   \n",
       "\n",
       "               max  \n",
       "loan_status         \n",
       "Charged Off  850.0  \n",
       "Fully Paid   850.0  "
      ]
     },
     "execution_count": 128,
     "metadata": {},
     "output_type": "execute_result"
    }
   ],
   "source": [
    "loan.groupby('loan_status')['fico_range_high'].describe()"
   ]
  },
  {
   "cell_type": "code",
   "execution_count": 129,
   "id": "cb7d19ef",
   "metadata": {},
   "outputs": [
    {
     "data": {
      "text/html": [
       "<div>\n",
       "<style scoped>\n",
       "    .dataframe tbody tr th:only-of-type {\n",
       "        vertical-align: middle;\n",
       "    }\n",
       "\n",
       "    .dataframe tbody tr th {\n",
       "        vertical-align: top;\n",
       "    }\n",
       "\n",
       "    .dataframe thead th {\n",
       "        text-align: right;\n",
       "    }\n",
       "</style>\n",
       "<table border=\"1\" class=\"dataframe\">\n",
       "  <thead>\n",
       "    <tr style=\"text-align: right;\">\n",
       "      <th></th>\n",
       "      <th>count</th>\n",
       "      <th>mean</th>\n",
       "      <th>std</th>\n",
       "      <th>min</th>\n",
       "      <th>25%</th>\n",
       "      <th>50%</th>\n",
       "      <th>75%</th>\n",
       "      <th>max</th>\n",
       "    </tr>\n",
       "    <tr>\n",
       "      <th>loan_status</th>\n",
       "      <th></th>\n",
       "      <th></th>\n",
       "      <th></th>\n",
       "      <th></th>\n",
       "      <th></th>\n",
       "      <th></th>\n",
       "      <th></th>\n",
       "      <th></th>\n",
       "    </tr>\n",
       "  </thead>\n",
       "  <tbody>\n",
       "    <tr>\n",
       "      <th>Charged Off</th>\n",
       "      <td>247991.0</td>\n",
       "      <td>687.361295</td>\n",
       "      <td>25.648830</td>\n",
       "      <td>660.0</td>\n",
       "      <td>670.0</td>\n",
       "      <td>680.0</td>\n",
       "      <td>700.0</td>\n",
       "      <td>845.0</td>\n",
       "    </tr>\n",
       "    <tr>\n",
       "      <th>Fully Paid</th>\n",
       "      <td>977635.0</td>\n",
       "      <td>697.301779</td>\n",
       "      <td>32.464409</td>\n",
       "      <td>660.0</td>\n",
       "      <td>670.0</td>\n",
       "      <td>690.0</td>\n",
       "      <td>715.0</td>\n",
       "      <td>845.0</td>\n",
       "    </tr>\n",
       "  </tbody>\n",
       "</table>\n",
       "</div>"
      ],
      "text/plain": [
       "                count        mean        std    min    25%    50%    75%  \\\n",
       "loan_status                                                                \n",
       "Charged Off  247991.0  687.361295  25.648830  660.0  670.0  680.0  700.0   \n",
       "Fully Paid   977635.0  697.301779  32.464409  660.0  670.0  690.0  715.0   \n",
       "\n",
       "               max  \n",
       "loan_status         \n",
       "Charged Off  845.0  \n",
       "Fully Paid   845.0  "
      ]
     },
     "execution_count": 129,
     "metadata": {},
     "output_type": "execute_result"
    }
   ],
   "source": [
    "loan.groupby('loan_status')['fico_range_low'].describe()"
   ]
  },
  {
   "cell_type": "markdown",
   "id": "629c75f6",
   "metadata": {},
   "source": [
    "There is no significant difference between fico_range_high and fico_range_low."
   ]
  },
  {
   "cell_type": "markdown",
   "id": "611bc272",
   "metadata": {},
   "source": [
    "Keep fico_range_high in the dataset"
   ]
  },
  {
   "cell_type": "code",
   "execution_count": 130,
   "id": "2d28aa72",
   "metadata": {},
   "outputs": [],
   "source": [
    "loan = loan.drop('fico_range_low',axis=1)"
   ]
  },
  {
   "cell_type": "code",
   "execution_count": 131,
   "id": "c6180234",
   "metadata": {},
   "outputs": [],
   "source": [
    "# Convert columns with yes or no to binary\n",
    "label_encoder = LabelEncoder()\n",
    "loan['loan_status'] = label_encoder.fit_transform(loan['loan_status'])"
   ]
  },
  {
   "cell_type": "code",
   "execution_count": 132,
   "id": "37b8c5cf",
   "metadata": {},
   "outputs": [
    {
     "data": {
      "text/html": [
       "<div>\n",
       "<style scoped>\n",
       "    .dataframe tbody tr th:only-of-type {\n",
       "        vertical-align: middle;\n",
       "    }\n",
       "\n",
       "    .dataframe tbody tr th {\n",
       "        vertical-align: top;\n",
       "    }\n",
       "\n",
       "    .dataframe thead th {\n",
       "        text-align: right;\n",
       "    }\n",
       "</style>\n",
       "<table border=\"1\" class=\"dataframe\">\n",
       "  <thead>\n",
       "    <tr style=\"text-align: right;\">\n",
       "      <th></th>\n",
       "      <th>loan_amnt</th>\n",
       "      <th>int_rate</th>\n",
       "      <th>annual_inc</th>\n",
       "      <th>loan_status</th>\n",
       "      <th>fico_range_high</th>\n",
       "      <th>open_acc</th>\n",
       "      <th>pub_rec</th>\n",
       "      <th>revol_bal</th>\n",
       "      <th>revol_util</th>\n",
       "      <th>total_acc</th>\n",
       "      <th>...</th>\n",
       "      <th>TN</th>\n",
       "      <th>TX</th>\n",
       "      <th>UT</th>\n",
       "      <th>VA</th>\n",
       "      <th>VT</th>\n",
       "      <th>WA</th>\n",
       "      <th>WI</th>\n",
       "      <th>WV</th>\n",
       "      <th>WY</th>\n",
       "      <th>Joint App</th>\n",
       "    </tr>\n",
       "  </thead>\n",
       "  <tbody>\n",
       "    <tr>\n",
       "      <th>0</th>\n",
       "      <td>3600.0</td>\n",
       "      <td>13.99</td>\n",
       "      <td>55000.0</td>\n",
       "      <td>1</td>\n",
       "      <td>679.0</td>\n",
       "      <td>7.0</td>\n",
       "      <td>0</td>\n",
       "      <td>2765.0</td>\n",
       "      <td>29.7</td>\n",
       "      <td>13.0</td>\n",
       "      <td>...</td>\n",
       "      <td>0</td>\n",
       "      <td>0</td>\n",
       "      <td>0</td>\n",
       "      <td>0</td>\n",
       "      <td>0</td>\n",
       "      <td>0</td>\n",
       "      <td>0</td>\n",
       "      <td>0</td>\n",
       "      <td>0</td>\n",
       "      <td>0</td>\n",
       "    </tr>\n",
       "    <tr>\n",
       "      <th>1</th>\n",
       "      <td>24700.0</td>\n",
       "      <td>11.99</td>\n",
       "      <td>65000.0</td>\n",
       "      <td>1</td>\n",
       "      <td>719.0</td>\n",
       "      <td>22.0</td>\n",
       "      <td>0</td>\n",
       "      <td>21470.0</td>\n",
       "      <td>19.2</td>\n",
       "      <td>38.0</td>\n",
       "      <td>...</td>\n",
       "      <td>0</td>\n",
       "      <td>0</td>\n",
       "      <td>0</td>\n",
       "      <td>0</td>\n",
       "      <td>0</td>\n",
       "      <td>0</td>\n",
       "      <td>0</td>\n",
       "      <td>0</td>\n",
       "      <td>0</td>\n",
       "      <td>0</td>\n",
       "    </tr>\n",
       "    <tr>\n",
       "      <th>2</th>\n",
       "      <td>20000.0</td>\n",
       "      <td>10.78</td>\n",
       "      <td>63000.0</td>\n",
       "      <td>1</td>\n",
       "      <td>699.0</td>\n",
       "      <td>6.0</td>\n",
       "      <td>0</td>\n",
       "      <td>7869.0</td>\n",
       "      <td>56.2</td>\n",
       "      <td>18.0</td>\n",
       "      <td>...</td>\n",
       "      <td>0</td>\n",
       "      <td>0</td>\n",
       "      <td>0</td>\n",
       "      <td>0</td>\n",
       "      <td>0</td>\n",
       "      <td>0</td>\n",
       "      <td>0</td>\n",
       "      <td>0</td>\n",
       "      <td>0</td>\n",
       "      <td>1</td>\n",
       "    </tr>\n",
       "    <tr>\n",
       "      <th>4</th>\n",
       "      <td>10400.0</td>\n",
       "      <td>22.45</td>\n",
       "      <td>104433.0</td>\n",
       "      <td>1</td>\n",
       "      <td>699.0</td>\n",
       "      <td>12.0</td>\n",
       "      <td>0</td>\n",
       "      <td>21929.0</td>\n",
       "      <td>64.5</td>\n",
       "      <td>35.0</td>\n",
       "      <td>...</td>\n",
       "      <td>0</td>\n",
       "      <td>0</td>\n",
       "      <td>0</td>\n",
       "      <td>0</td>\n",
       "      <td>0</td>\n",
       "      <td>0</td>\n",
       "      <td>0</td>\n",
       "      <td>0</td>\n",
       "      <td>0</td>\n",
       "      <td>0</td>\n",
       "    </tr>\n",
       "    <tr>\n",
       "      <th>5</th>\n",
       "      <td>11950.0</td>\n",
       "      <td>13.44</td>\n",
       "      <td>34000.0</td>\n",
       "      <td>1</td>\n",
       "      <td>694.0</td>\n",
       "      <td>5.0</td>\n",
       "      <td>0</td>\n",
       "      <td>8822.0</td>\n",
       "      <td>68.4</td>\n",
       "      <td>6.0</td>\n",
       "      <td>...</td>\n",
       "      <td>0</td>\n",
       "      <td>0</td>\n",
       "      <td>0</td>\n",
       "      <td>0</td>\n",
       "      <td>0</td>\n",
       "      <td>0</td>\n",
       "      <td>0</td>\n",
       "      <td>0</td>\n",
       "      <td>0</td>\n",
       "      <td>0</td>\n",
       "    </tr>\n",
       "  </tbody>\n",
       "</table>\n",
       "<p>5 rows × 118 columns</p>\n",
       "</div>"
      ],
      "text/plain": [
       "   loan_amnt  int_rate  annual_inc  loan_status  fico_range_high  open_acc  \\\n",
       "0     3600.0     13.99     55000.0            1            679.0       7.0   \n",
       "1    24700.0     11.99     65000.0            1            719.0      22.0   \n",
       "2    20000.0     10.78     63000.0            1            699.0       6.0   \n",
       "4    10400.0     22.45    104433.0            1            699.0      12.0   \n",
       "5    11950.0     13.44     34000.0            1            694.0       5.0   \n",
       "\n",
       "   pub_rec  revol_bal  revol_util  total_acc  ...  TN  TX  UT  VA  VT  WA  WI  \\\n",
       "0        0     2765.0        29.7       13.0  ...   0   0   0   0   0   0   0   \n",
       "1        0    21470.0        19.2       38.0  ...   0   0   0   0   0   0   0   \n",
       "2        0     7869.0        56.2       18.0  ...   0   0   0   0   0   0   0   \n",
       "4        0    21929.0        64.5       35.0  ...   0   0   0   0   0   0   0   \n",
       "5        0     8822.0        68.4        6.0  ...   0   0   0   0   0   0   0   \n",
       "\n",
       "   WV  WY  Joint App  \n",
       "0   0   0          0  \n",
       "1   0   0          0  \n",
       "2   0   0          1  \n",
       "4   0   0          0  \n",
       "5   0   0          0  \n",
       "\n",
       "[5 rows x 118 columns]"
      ]
     },
     "execution_count": 132,
     "metadata": {},
     "output_type": "execute_result"
    }
   ],
   "source": [
    "loan.head()"
   ]
  },
  {
   "cell_type": "code",
   "execution_count": 133,
   "id": "57d9044a",
   "metadata": {},
   "outputs": [
    {
     "data": {
      "text/plain": [
       "Index(['loan_amnt', 'int_rate', 'annual_inc', 'loan_status', 'fico_range_high',\n",
       "       'open_acc', 'pub_rec', 'revol_bal', 'revol_util', 'total_acc',\n",
       "       ...\n",
       "       'TN', 'TX', 'UT', 'VA', 'VT', 'WA', 'WI', 'WV', 'WY', 'Joint App'],\n",
       "      dtype='object', length=118)"
      ]
     },
     "execution_count": 133,
     "metadata": {},
     "output_type": "execute_result"
    }
   ],
   "source": [
    "loan.dtypes.index"
   ]
  },
  {
   "cell_type": "markdown",
   "id": "f6cc534f",
   "metadata": {},
   "source": [
    "## Define X and Y"
   ]
  },
  {
   "cell_type": "code",
   "execution_count": 136,
   "id": "08c9d345",
   "metadata": {},
   "outputs": [],
   "source": [
    "X = loan.drop(['loan_status'],axis=1)\n",
    "y = loan['loan_status']"
   ]
  },
  {
   "cell_type": "markdown",
   "id": "71ce1956",
   "metadata": {},
   "source": [
    "## Train Test Split "
   ]
  },
  {
   "cell_type": "markdown",
   "id": "ef4cf547",
   "metadata": {},
   "source": [
    "Split the data into train and test set by test size 25%"
   ]
  },
  {
   "cell_type": "code",
   "execution_count": 137,
   "id": "08523ffc",
   "metadata": {},
   "outputs": [],
   "source": [
    "X_train,X_test,y_train,y_test = train_test_split(X,y,test_size=0.25,random_state = 123)"
   ]
  },
  {
   "cell_type": "markdown",
   "id": "8135091a",
   "metadata": {},
   "source": [
    "## Standardize the Data"
   ]
  },
  {
   "cell_type": "markdown",
   "id": "8b8b5061",
   "metadata": {},
   "source": [
    "Standardize the data since the features in the data set have different ranges."
   ]
  },
  {
   "cell_type": "code",
   "execution_count": 138,
   "id": "ce88f6c4",
   "metadata": {},
   "outputs": [],
   "source": [
    "#Instantiate StandardScaler\n",
    "scaler = StandardScaler()\n",
    "\n",
    "#Transform X_train to scaled data set and fit the model with scaled X train data\n",
    "scaled_X_train = scaler.fit_transform(X_train)\n",
    "\n",
    "#Transform X_test to scaled data set\n",
    "scaled_X_test= scaler.transform(X_test)\n",
    "\n",
    "#Convert scaled data into a DataFrame\n",
    "scaled_X_train = pd.DataFrame(scaled_X_train,columns=X_train.columns)\n",
    "scaled_X_test = pd.DataFrame(scaled_X_test,columns=X_test.columns)"
   ]
  },
  {
   "cell_type": "markdown",
   "id": "ad7e8391",
   "metadata": {},
   "source": [
    "## Logistic Regression Model"
   ]
  },
  {
   "cell_type": "code",
   "execution_count": 139,
   "id": "3270b55f",
   "metadata": {},
   "outputs": [
    {
     "name": "stdout",
     "output_type": "stream",
     "text": [
      "test:\n",
      "              precision    recall  f1-score   support\n",
      "\n",
      "           0       0.54      0.06      0.11     61681\n",
      "           1       0.81      0.99      0.89    244726\n",
      "\n",
      "    accuracy                           0.80    306407\n",
      "   macro avg       0.68      0.52      0.50    306407\n",
      "weighted avg       0.75      0.80      0.73    306407\n",
      "\n",
      "train:\n",
      "              precision    recall  f1-score   support\n",
      "\n",
      "           0       0.54      0.06      0.11    186310\n",
      "           1       0.81      0.99      0.89    732909\n",
      "\n",
      "    accuracy                           0.80    919219\n",
      "   macro avg       0.68      0.52      0.50    919219\n",
      "weighted avg       0.75      0.80      0.73    919219\n",
      "\n",
      "Test Recall_score 0.9866340315291388\n",
      "Test accuracy score 0.8007421501467002\n"
     ]
    },
    {
     "data": {
      "image/png": "[encoded data removed]",
      "text/plain": [
       "<Figure size 432x288 with 2 Axes>"
      ]
     },
     "metadata": {
      "needs_background": "light"
     },
     "output_type": "display_data"
    }
   ],
   "source": [
    "lr= LogisticRegression(random_state = 123)\n",
    "lr.fit(scaled_X_train,y_train)\n",
    "\n",
    "y_train_pred = lr.predict(scaled_X_train)\n",
    "y_test_pred = lr.predict(scaled_X_test)\n",
    "\n",
    "\n",
    "plot_confusion_matrix(lr,scaled_X_test,y_test,\n",
    "                                normalize='true',\n",
    "                                cmap='Blues')\n",
    "\n",
    "\n",
    "rs = recall_score(y_train,y_train_pred)\n",
    "print(f\"test:\\n{classification_report(y_test,y_test_pred)}\")\n",
    "print(f\"train:\\n{classification_report(y_train,y_train_pred)}\")\n",
    "\n",
    "#print Test recall score\n",
    "rs = recall_score(y_test,y_test_pred)\n",
    "print(f\"Test Recall_score {rs}\")\n",
    "\n",
    "# Print the accuracy on test set\n",
    "\n",
    "print(f\"Test accuracy score {lr.score(scaled_X_test,y_test)}\")"
   ]
  },
  {
   "cell_type": "markdown",
   "id": "2041fa78",
   "metadata": {},
   "source": [
    "Create a function to print scores and confusion matrix for the models"
   ]
  },
  {
   "cell_type": "code",
   "execution_count": 140,
   "id": "9b3bf892",
   "metadata": {},
   "outputs": [],
   "source": [
    "def eval_model(model,X_train,y_train,X_test,y_test):\n",
    "    \n",
    "    #fit the model\n",
    "    model.fit(X_train,y_train)\n",
    "    \n",
    "    #predict the target variable\n",
    "    y_train_pred = model.predict(X_train)\n",
    "    y_test_pred = model.predict(X_test)\n",
    "\n",
    "    #plot the confusion matrix with test set\n",
    "    plot_confusion_matrix(model,X_test,y_test,normalize='true',cmap='Blues')\n",
    "    \n",
    "    #print recall score and classification report for train set and test set\n",
    "    rs_train = recall_score(y_train,y_train_pred)\n",
    "    rs_test = recall_score(y_test, y_test_pred)\n",
    "    print(f\"test:\\n{classification_report(y_test,y_test_pred)}\")\n",
    "    print(f\"train:\\n{classification_report(y_train,y_train_pred)}\")\n",
    "    print(f\"Train Recall_score {rs_train}\")\n",
    "    print(f\"Test Recall_score {rs_test}\")\n",
    "\n",
    "    # Print the accuracy of a model\n",
    "    acc_score = model.score(X_test,y_test)\n",
    "    acc_score_train = model.score(X_train,y_train)\n",
    "    print(f\"Train accuracy score {acc_score_train}\")\n",
    "    print(f\"Test accuracy score {acc_score}\")"
   ]
  },
  {
   "cell_type": "markdown",
   "id": "53697354",
   "metadata": {},
   "source": [
    "## Decision Tree Model"
   ]
  },
  {
   "cell_type": "code",
   "execution_count": 141,
   "id": "73a32da7",
   "metadata": {},
   "outputs": [],
   "source": [
    "# Instantiate a DecisionTreeClassifier()\n",
    "dt= DecisionTreeClassifier(max_depth=3,random_state=123)"
   ]
  },
  {
   "cell_type": "code",
   "execution_count": 142,
   "id": "28a7e263",
   "metadata": {},
   "outputs": [
    {
     "name": "stdout",
     "output_type": "stream",
     "text": [
      "test:\n",
      "              precision    recall  f1-score   support\n",
      "\n",
      "           0       0.00      0.00      0.00     61681\n",
      "           1       0.80      1.00      0.89    244726\n",
      "\n",
      "    accuracy                           0.80    306407\n",
      "   macro avg       0.40      0.50      0.44    306407\n",
      "weighted avg       0.64      0.80      0.71    306407\n",
      "\n",
      "train:\n",
      "              precision    recall  f1-score   support\n",
      "\n",
      "           0       0.00      0.00      0.00    186310\n",
      "           1       0.80      1.00      0.89    732909\n",
      "\n",
      "    accuracy                           0.80    919219\n",
      "   macro avg       0.40      0.50      0.44    919219\n",
      "weighted avg       0.64      0.80      0.71    919219\n",
      "\n",
      "Train Recall_score 1.0\n",
      "Test Recall_score 1.0\n",
      "Train accuracy score 0.7973170702520291\n",
      "Test accuracy score 0.7986958522488063\n"
     ]
    },
    {
     "data": {
      "image/png": "[encoded data removed]",
      "text/plain": [
       "<Figure size 432x288 with 2 Axes>"
      ]
     },
     "metadata": {
      "needs_background": "light"
     },
     "output_type": "display_data"
    }
   ],
   "source": [
    "eval_model(dt,scaled_X_train,y_train,scaled_X_test,y_test)"
   ]
  },
  {
   "cell_type": "markdown",
   "id": "5c7606d2",
   "metadata": {},
   "source": [
    "## Random Forest Model"
   ]
  },
  {
   "cell_type": "code",
   "execution_count": 143,
   "id": "8f8ac5c8",
   "metadata": {},
   "outputs": [],
   "source": [
    "rf = RandomForestClassifier(random_state =123)"
   ]
  },
  {
   "cell_type": "code",
   "execution_count": 144,
   "id": "63b191e6",
   "metadata": {},
   "outputs": [
    {
     "name": "stdout",
     "output_type": "stream",
     "text": [
      "test:\n",
      "              precision    recall  f1-score   support\n",
      "\n",
      "           0       0.53      0.08      0.14     61681\n",
      "           1       0.81      0.98      0.89    244726\n",
      "\n",
      "    accuracy                           0.80    306407\n",
      "   macro avg       0.67      0.53      0.51    306407\n",
      "weighted avg       0.75      0.80      0.74    306407\n",
      "\n",
      "train:\n",
      "              precision    recall  f1-score   support\n",
      "\n",
      "           0       1.00      1.00      1.00    186310\n",
      "           1       1.00      1.00      1.00    732909\n",
      "\n",
      "    accuracy                           1.00    919219\n",
      "   macro avg       1.00      1.00      1.00    919219\n",
      "weighted avg       1.00      1.00      1.00    919219\n",
      "\n",
      "Train Recall_score 1.0\n",
      "Test Recall_score 0.9820452260895859\n",
      "Train accuracy score 0.9999891211996271\n",
      "Test accuracy score 0.8003309323873149\n"
     ]
    },
    {
     "data": {
      "image/png": "[encoded data removed]",
      "text/plain": [
       "<Figure size 432x288 with 2 Axes>"
      ]
     },
     "metadata": {
      "needs_background": "light"
     },
     "output_type": "display_data"
    }
   ],
   "source": [
    "eval_model(rf,scaled_X_train,y_train,scaled_X_test,y_test)"
   ]
  },
  {
   "cell_type": "markdown",
   "id": "26bacfb1",
   "metadata": {},
   "source": [
    "## XG Boost Model"
   ]
  },
  {
   "cell_type": "code",
   "execution_count": 145,
   "id": "fac5bf45",
   "metadata": {},
   "outputs": [],
   "source": [
    "xg = XGBClassifier(random_state =123)"
   ]
  },
  {
   "cell_type": "code",
   "execution_count": 146,
   "id": "ef5646b3",
   "metadata": {},
   "outputs": [
    {
     "name": "stdout",
     "output_type": "stream",
     "text": [
      "[01:09:59] WARNING: ../src/learner.cc:1115: Starting in XGBoost 1.3.0, the default evaluation metric used with the objective 'binary:logistic' was changed from 'error' to 'logloss'. Explicitly set eval_metric if you'd like to restore the old behavior.\n",
      "test:\n",
      "              precision    recall  f1-score   support\n",
      "\n",
      "           0       0.56      0.09      0.16     61681\n",
      "           1       0.81      0.98      0.89    244726\n",
      "\n",
      "    accuracy                           0.80    306407\n",
      "   macro avg       0.68      0.54      0.52    306407\n",
      "weighted avg       0.76      0.80      0.74    306407\n",
      "\n",
      "train:\n",
      "              precision    recall  f1-score   support\n",
      "\n",
      "           0       0.62      0.10      0.18    186310\n",
      "           1       0.81      0.98      0.89    732909\n",
      "\n",
      "    accuracy                           0.81    919219\n",
      "   macro avg       0.71      0.54      0.53    919219\n",
      "weighted avg       0.77      0.81      0.74    919219\n",
      "\n",
      "Train Recall_score 0.9837196705184409\n",
      "Test Recall_score 0.9815548817861609\n",
      "Train accuracy score 0.8051508944005726\n",
      "Test accuracy score 0.8025110392386597\n"
     ]
    },
    {
     "data": {
      "image/png": "[encoded data removed]",
      "text/plain": [
       "<Figure size 432x288 with 2 Axes>"
      ]
     },
     "metadata": {
      "needs_background": "light"
     },
     "output_type": "display_data"
    }
   ],
   "source": [
    "eval_model(xg,scaled_X_train,y_train,scaled_X_test,y_test)"
   ]
  },
  {
   "cell_type": "markdown",
   "id": "0209c7d9",
   "metadata": {},
   "source": [
    "## Tuning XG Boost Model"
   ]
  },
  {
   "cell_type": "code",
   "execution_count": 147,
   "id": "1838dcab",
   "metadata": {},
   "outputs": [],
   "source": [
    "param_grid = {\n",
    "    'learning_rate': [0.1, 0.2],\n",
    "    'max_depth': [1,2,5,10],\n",
    "    'min_child_weight': [1, 2],\n",
    "    'subsample': [0.5, 0.7],\n",
    "    'n_estimators': [100],\n",
    "}"
   ]
  },
  {
   "cell_type": "code",
   "execution_count": 148,
   "id": "d6fb7758",
   "metadata": {},
   "outputs": [
    {
     "name": "stdout",
     "output_type": "stream",
     "text": [
      "[01:12:30] WARNING: ../src/learner.cc:1115: Starting in XGBoost 1.3.0, the default evaluation metric used with the objective 'binary:logistic' was changed from 'error' to 'logloss'. Explicitly set eval_metric if you'd like to restore the old behavior.\n",
      "[01:12:45] WARNING: ../src/learner.cc:1115: Starting in XGBoost 1.3.0, the default evaluation metric used with the objective 'binary:logistic' was changed from 'error' to 'logloss'. Explicitly set eval_metric if you'd like to restore the old behavior.\n",
      "[01:13:00] WARNING: ../src/learner.cc:1115: Starting in XGBoost 1.3.0, the default evaluation metric used with the objective 'binary:logistic' was changed from 'error' to 'logloss'. Explicitly set eval_metric if you'd like to restore the old behavior.\n",
      "[01:13:15] WARNING: ../src/learner.cc:1115: Starting in XGBoost 1.3.0, the default evaluation metric used with the objective 'binary:logistic' was changed from 'error' to 'logloss'. Explicitly set eval_metric if you'd like to restore the old behavior.\n",
      "[01:13:30] WARNING: ../src/learner.cc:1115: Starting in XGBoost 1.3.0, the default evaluation metric used with the objective 'binary:logistic' was changed from 'error' to 'logloss'. Explicitly set eval_metric if you'd like to restore the old behavior.\n",
      "[01:13:44] WARNING: ../src/learner.cc:1115: Starting in XGBoost 1.3.0, the default evaluation metric used with the objective 'binary:logistic' was changed from 'error' to 'logloss'. Explicitly set eval_metric if you'd like to restore the old behavior.\n",
      "[01:13:59] WARNING: ../src/learner.cc:1115: Starting in XGBoost 1.3.0, the default evaluation metric used with the objective 'binary:logistic' was changed from 'error' to 'logloss'. Explicitly set eval_metric if you'd like to restore the old behavior.\n",
      "[01:14:14] WARNING: ../src/learner.cc:1115: Starting in XGBoost 1.3.0, the default evaluation metric used with the objective 'binary:logistic' was changed from 'error' to 'logloss'. Explicitly set eval_metric if you'd like to restore the old behavior.\n",
      "[01:14:29] WARNING: ../src/learner.cc:1115: Starting in XGBoost 1.3.0, the default evaluation metric used with the objective 'binary:logistic' was changed from 'error' to 'logloss'. Explicitly set eval_metric if you'd like to restore the old behavior.\n",
      "[01:14:46] WARNING: ../src/learner.cc:1115: Starting in XGBoost 1.3.0, the default evaluation metric used with the objective 'binary:logistic' was changed from 'error' to 'logloss'. Explicitly set eval_metric if you'd like to restore the old behavior.\n",
      "[01:15:01] WARNING: ../src/learner.cc:1115: Starting in XGBoost 1.3.0, the default evaluation metric used with the objective 'binary:logistic' was changed from 'error' to 'logloss'. Explicitly set eval_metric if you'd like to restore the old behavior.\n",
      "[01:15:16] WARNING: ../src/learner.cc:1115: Starting in XGBoost 1.3.0, the default evaluation metric used with the objective 'binary:logistic' was changed from 'error' to 'logloss'. Explicitly set eval_metric if you'd like to restore the old behavior.\n",
      "[01:15:31] WARNING: ../src/learner.cc:1115: Starting in XGBoost 1.3.0, the default evaluation metric used with the objective 'binary:logistic' was changed from 'error' to 'logloss'. Explicitly set eval_metric if you'd like to restore the old behavior.\n",
      "[01:15:56] WARNING: ../src/learner.cc:1115: Starting in XGBoost 1.3.0, the default evaluation metric used with the objective 'binary:logistic' was changed from 'error' to 'logloss'. Explicitly set eval_metric if you'd like to restore the old behavior.\n",
      "[01:16:20] WARNING: ../src/learner.cc:1115: Starting in XGBoost 1.3.0, the default evaluation metric used with the objective 'binary:logistic' was changed from 'error' to 'logloss'. Explicitly set eval_metric if you'd like to restore the old behavior.\n",
      "[01:16:44] WARNING: ../src/learner.cc:1115: Starting in XGBoost 1.3.0, the default evaluation metric used with the objective 'binary:logistic' was changed from 'error' to 'logloss'. Explicitly set eval_metric if you'd like to restore the old behavior.\n",
      "[01:17:09] WARNING: ../src/learner.cc:1115: Starting in XGBoost 1.3.0, the default evaluation metric used with the objective 'binary:logistic' was changed from 'error' to 'logloss'. Explicitly set eval_metric if you'd like to restore the old behavior.\n",
      "[01:17:33] WARNING: ../src/learner.cc:1115: Starting in XGBoost 1.3.0, the default evaluation metric used with the objective 'binary:logistic' was changed from 'error' to 'logloss'. Explicitly set eval_metric if you'd like to restore the old behavior.\n",
      "[01:17:57] WARNING: ../src/learner.cc:1115: Starting in XGBoost 1.3.0, the default evaluation metric used with the objective 'binary:logistic' was changed from 'error' to 'logloss'. Explicitly set eval_metric if you'd like to restore the old behavior.\n",
      "[01:18:22] WARNING: ../src/learner.cc:1115: Starting in XGBoost 1.3.0, the default evaluation metric used with the objective 'binary:logistic' was changed from 'error' to 'logloss'. Explicitly set eval_metric if you'd like to restore the old behavior.\n",
      "[01:18:46] WARNING: ../src/learner.cc:1115: Starting in XGBoost 1.3.0, the default evaluation metric used with the objective 'binary:logistic' was changed from 'error' to 'logloss'. Explicitly set eval_metric if you'd like to restore the old behavior.\n",
      "[01:19:11] WARNING: ../src/learner.cc:1115: Starting in XGBoost 1.3.0, the default evaluation metric used with the objective 'binary:logistic' was changed from 'error' to 'logloss'. Explicitly set eval_metric if you'd like to restore the old behavior.\n",
      "[01:19:34] WARNING: ../src/learner.cc:1115: Starting in XGBoost 1.3.0, the default evaluation metric used with the objective 'binary:logistic' was changed from 'error' to 'logloss'. Explicitly set eval_metric if you'd like to restore the old behavior.\n",
      "[01:19:59] WARNING: ../src/learner.cc:1115: Starting in XGBoost 1.3.0, the default evaluation metric used with the objective 'binary:logistic' was changed from 'error' to 'logloss'. Explicitly set eval_metric if you'd like to restore the old behavior.\n",
      "[01:20:23] WARNING: ../src/learner.cc:1115: Starting in XGBoost 1.3.0, the default evaluation metric used with the objective 'binary:logistic' was changed from 'error' to 'logloss'. Explicitly set eval_metric if you'd like to restore the old behavior.\n",
      "[01:21:17] WARNING: ../src/learner.cc:1115: Starting in XGBoost 1.3.0, the default evaluation metric used with the objective 'binary:logistic' was changed from 'error' to 'logloss'. Explicitly set eval_metric if you'd like to restore the old behavior.\n",
      "[01:22:11] WARNING: ../src/learner.cc:1115: Starting in XGBoost 1.3.0, the default evaluation metric used with the objective 'binary:logistic' was changed from 'error' to 'logloss'. Explicitly set eval_metric if you'd like to restore the old behavior.\n",
      "[01:23:05] WARNING: ../src/learner.cc:1115: Starting in XGBoost 1.3.0, the default evaluation metric used with the objective 'binary:logistic' was changed from 'error' to 'logloss'. Explicitly set eval_metric if you'd like to restore the old behavior.\n",
      "[01:23:59] WARNING: ../src/learner.cc:1115: Starting in XGBoost 1.3.0, the default evaluation metric used with the objective 'binary:logistic' was changed from 'error' to 'logloss'. Explicitly set eval_metric if you'd like to restore the old behavior.\n",
      "[01:24:53] WARNING: ../src/learner.cc:1115: Starting in XGBoost 1.3.0, the default evaluation metric used with the objective 'binary:logistic' was changed from 'error' to 'logloss'. Explicitly set eval_metric if you'd like to restore the old behavior.\n",
      "[01:25:47] WARNING: ../src/learner.cc:1115: Starting in XGBoost 1.3.0, the default evaluation metric used with the objective 'binary:logistic' was changed from 'error' to 'logloss'. Explicitly set eval_metric if you'd like to restore the old behavior.\n",
      "[01:26:41] WARNING: ../src/learner.cc:1115: Starting in XGBoost 1.3.0, the default evaluation metric used with the objective 'binary:logistic' was changed from 'error' to 'logloss'. Explicitly set eval_metric if you'd like to restore the old behavior.\n",
      "[01:27:34] WARNING: ../src/learner.cc:1115: Starting in XGBoost 1.3.0, the default evaluation metric used with the objective 'binary:logistic' was changed from 'error' to 'logloss'. Explicitly set eval_metric if you'd like to restore the old behavior.\n"
     ]
    },
    {
     "name": "stdout",
     "output_type": "stream",
     "text": [
      "[01:28:27] WARNING: ../src/learner.cc:1115: Starting in XGBoost 1.3.0, the default evaluation metric used with the objective 'binary:logistic' was changed from 'error' to 'logloss'. Explicitly set eval_metric if you'd like to restore the old behavior.\n",
      "[01:29:20] WARNING: ../src/learner.cc:1115: Starting in XGBoost 1.3.0, the default evaluation metric used with the objective 'binary:logistic' was changed from 'error' to 'logloss'. Explicitly set eval_metric if you'd like to restore the old behavior.\n",
      "[01:30:14] WARNING: ../src/learner.cc:1115: Starting in XGBoost 1.3.0, the default evaluation metric used with the objective 'binary:logistic' was changed from 'error' to 'logloss'. Explicitly set eval_metric if you'd like to restore the old behavior.\n",
      "[01:31:09] WARNING: ../src/learner.cc:1115: Starting in XGBoost 1.3.0, the default evaluation metric used with the objective 'binary:logistic' was changed from 'error' to 'logloss'. Explicitly set eval_metric if you'd like to restore the old behavior.\n",
      "[01:33:04] WARNING: ../src/learner.cc:1115: Starting in XGBoost 1.3.0, the default evaluation metric used with the objective 'binary:logistic' was changed from 'error' to 'logloss'. Explicitly set eval_metric if you'd like to restore the old behavior.\n",
      "[01:35:00] WARNING: ../src/learner.cc:1115: Starting in XGBoost 1.3.0, the default evaluation metric used with the objective 'binary:logistic' was changed from 'error' to 'logloss'. Explicitly set eval_metric if you'd like to restore the old behavior.\n",
      "[01:36:55] WARNING: ../src/learner.cc:1115: Starting in XGBoost 1.3.0, the default evaluation metric used with the objective 'binary:logistic' was changed from 'error' to 'logloss'. Explicitly set eval_metric if you'd like to restore the old behavior.\n",
      "[01:38:56] WARNING: ../src/learner.cc:1115: Starting in XGBoost 1.3.0, the default evaluation metric used with the objective 'binary:logistic' was changed from 'error' to 'logloss'. Explicitly set eval_metric if you'd like to restore the old behavior.\n",
      "[01:40:55] WARNING: ../src/learner.cc:1115: Starting in XGBoost 1.3.0, the default evaluation metric used with the objective 'binary:logistic' was changed from 'error' to 'logloss'. Explicitly set eval_metric if you'd like to restore the old behavior.\n",
      "[01:42:57] WARNING: ../src/learner.cc:1115: Starting in XGBoost 1.3.0, the default evaluation metric used with the objective 'binary:logistic' was changed from 'error' to 'logloss'. Explicitly set eval_metric if you'd like to restore the old behavior.\n",
      "[01:44:52] WARNING: ../src/learner.cc:1115: Starting in XGBoost 1.3.0, the default evaluation metric used with the objective 'binary:logistic' was changed from 'error' to 'logloss'. Explicitly set eval_metric if you'd like to restore the old behavior.\n",
      "[01:46:48] WARNING: ../src/learner.cc:1115: Starting in XGBoost 1.3.0, the default evaluation metric used with the objective 'binary:logistic' was changed from 'error' to 'logloss'. Explicitly set eval_metric if you'd like to restore the old behavior.\n",
      "[01:48:43] WARNING: ../src/learner.cc:1115: Starting in XGBoost 1.3.0, the default evaluation metric used with the objective 'binary:logistic' was changed from 'error' to 'logloss'. Explicitly set eval_metric if you'd like to restore the old behavior.\n",
      "[01:50:38] WARNING: ../src/learner.cc:1115: Starting in XGBoost 1.3.0, the default evaluation metric used with the objective 'binary:logistic' was changed from 'error' to 'logloss'. Explicitly set eval_metric if you'd like to restore the old behavior.\n",
      "[01:52:38] WARNING: ../src/learner.cc:1115: Starting in XGBoost 1.3.0, the default evaluation metric used with the objective 'binary:logistic' was changed from 'error' to 'logloss'. Explicitly set eval_metric if you'd like to restore the old behavior.\n",
      "[01:54:49] WARNING: ../src/learner.cc:1115: Starting in XGBoost 1.3.0, the default evaluation metric used with the objective 'binary:logistic' was changed from 'error' to 'logloss'. Explicitly set eval_metric if you'd like to restore the old behavior.\n",
      "[01:55:05] WARNING: ../src/learner.cc:1115: Starting in XGBoost 1.3.0, the default evaluation metric used with the objective 'binary:logistic' was changed from 'error' to 'logloss'. Explicitly set eval_metric if you'd like to restore the old behavior.\n",
      "[01:55:20] WARNING: ../src/learner.cc:1115: Starting in XGBoost 1.3.0, the default evaluation metric used with the objective 'binary:logistic' was changed from 'error' to 'logloss'. Explicitly set eval_metric if you'd like to restore the old behavior.\n",
      "[01:55:36] WARNING: ../src/learner.cc:1115: Starting in XGBoost 1.3.0, the default evaluation metric used with the objective 'binary:logistic' was changed from 'error' to 'logloss'. Explicitly set eval_metric if you'd like to restore the old behavior.\n",
      "[01:55:51] WARNING: ../src/learner.cc:1115: Starting in XGBoost 1.3.0, the default evaluation metric used with the objective 'binary:logistic' was changed from 'error' to 'logloss'. Explicitly set eval_metric if you'd like to restore the old behavior.\n",
      "[01:56:05] WARNING: ../src/learner.cc:1115: Starting in XGBoost 1.3.0, the default evaluation metric used with the objective 'binary:logistic' was changed from 'error' to 'logloss'. Explicitly set eval_metric if you'd like to restore the old behavior.\n",
      "[01:56:21] WARNING: ../src/learner.cc:1115: Starting in XGBoost 1.3.0, the default evaluation metric used with the objective 'binary:logistic' was changed from 'error' to 'logloss'. Explicitly set eval_metric if you'd like to restore the old behavior.\n",
      "[01:56:36] WARNING: ../src/learner.cc:1115: Starting in XGBoost 1.3.0, the default evaluation metric used with the objective 'binary:logistic' was changed from 'error' to 'logloss'. Explicitly set eval_metric if you'd like to restore the old behavior.\n",
      "[01:56:53] WARNING: ../src/learner.cc:1115: Starting in XGBoost 1.3.0, the default evaluation metric used with the objective 'binary:logistic' was changed from 'error' to 'logloss'. Explicitly set eval_metric if you'd like to restore the old behavior.\n",
      "[01:57:09] WARNING: ../src/learner.cc:1115: Starting in XGBoost 1.3.0, the default evaluation metric used with the objective 'binary:logistic' was changed from 'error' to 'logloss'. Explicitly set eval_metric if you'd like to restore the old behavior.\n",
      "[01:57:23] WARNING: ../src/learner.cc:1115: Starting in XGBoost 1.3.0, the default evaluation metric used with the objective 'binary:logistic' was changed from 'error' to 'logloss'. Explicitly set eval_metric if you'd like to restore the old behavior.\n",
      "[01:57:40] WARNING: ../src/learner.cc:1115: Starting in XGBoost 1.3.0, the default evaluation metric used with the objective 'binary:logistic' was changed from 'error' to 'logloss'. Explicitly set eval_metric if you'd like to restore the old behavior.\n",
      "[01:57:55] WARNING: ../src/learner.cc:1115: Starting in XGBoost 1.3.0, the default evaluation metric used with the objective 'binary:logistic' was changed from 'error' to 'logloss'. Explicitly set eval_metric if you'd like to restore the old behavior.\n",
      "[01:58:20] WARNING: ../src/learner.cc:1115: Starting in XGBoost 1.3.0, the default evaluation metric used with the objective 'binary:logistic' was changed from 'error' to 'logloss'. Explicitly set eval_metric if you'd like to restore the old behavior.\n",
      "[01:58:46] WARNING: ../src/learner.cc:1115: Starting in XGBoost 1.3.0, the default evaluation metric used with the objective 'binary:logistic' was changed from 'error' to 'logloss'. Explicitly set eval_metric if you'd like to restore the old behavior.\n",
      "[01:59:09] WARNING: ../src/learner.cc:1115: Starting in XGBoost 1.3.0, the default evaluation metric used with the objective 'binary:logistic' was changed from 'error' to 'logloss'. Explicitly set eval_metric if you'd like to restore the old behavior.\n",
      "[01:59:34] WARNING: ../src/learner.cc:1115: Starting in XGBoost 1.3.0, the default evaluation metric used with the objective 'binary:logistic' was changed from 'error' to 'logloss'. Explicitly set eval_metric if you'd like to restore the old behavior.\n",
      "[01:59:58] WARNING: ../src/learner.cc:1115: Starting in XGBoost 1.3.0, the default evaluation metric used with the objective 'binary:logistic' was changed from 'error' to 'logloss'. Explicitly set eval_metric if you'd like to restore the old behavior.\n"
     ]
    },
    {
     "name": "stdout",
     "output_type": "stream",
     "text": [
      "[02:00:22] WARNING: ../src/learner.cc:1115: Starting in XGBoost 1.3.0, the default evaluation metric used with the objective 'binary:logistic' was changed from 'error' to 'logloss'. Explicitly set eval_metric if you'd like to restore the old behavior.\n",
      "[02:00:46] WARNING: ../src/learner.cc:1115: Starting in XGBoost 1.3.0, the default evaluation metric used with the objective 'binary:logistic' was changed from 'error' to 'logloss'. Explicitly set eval_metric if you'd like to restore the old behavior.\n",
      "[02:01:11] WARNING: ../src/learner.cc:1115: Starting in XGBoost 1.3.0, the default evaluation metric used with the objective 'binary:logistic' was changed from 'error' to 'logloss'. Explicitly set eval_metric if you'd like to restore the old behavior.\n",
      "[02:01:35] WARNING: ../src/learner.cc:1115: Starting in XGBoost 1.3.0, the default evaluation metric used with the objective 'binary:logistic' was changed from 'error' to 'logloss'. Explicitly set eval_metric if you'd like to restore the old behavior.\n",
      "[02:02:00] WARNING: ../src/learner.cc:1115: Starting in XGBoost 1.3.0, the default evaluation metric used with the objective 'binary:logistic' was changed from 'error' to 'logloss'. Explicitly set eval_metric if you'd like to restore the old behavior.\n",
      "[02:02:24] WARNING: ../src/learner.cc:1115: Starting in XGBoost 1.3.0, the default evaluation metric used with the objective 'binary:logistic' was changed from 'error' to 'logloss'. Explicitly set eval_metric if you'd like to restore the old behavior.\n",
      "[02:02:49] WARNING: ../src/learner.cc:1115: Starting in XGBoost 1.3.0, the default evaluation metric used with the objective 'binary:logistic' was changed from 'error' to 'logloss'. Explicitly set eval_metric if you'd like to restore the old behavior.\n",
      "[02:03:43] WARNING: ../src/learner.cc:1115: Starting in XGBoost 1.3.0, the default evaluation metric used with the objective 'binary:logistic' was changed from 'error' to 'logloss'. Explicitly set eval_metric if you'd like to restore the old behavior.\n",
      "[02:04:37] WARNING: ../src/learner.cc:1115: Starting in XGBoost 1.3.0, the default evaluation metric used with the objective 'binary:logistic' was changed from 'error' to 'logloss'. Explicitly set eval_metric if you'd like to restore the old behavior.\n",
      "[02:05:31] WARNING: ../src/learner.cc:1115: Starting in XGBoost 1.3.0, the default evaluation metric used with the objective 'binary:logistic' was changed from 'error' to 'logloss'. Explicitly set eval_metric if you'd like to restore the old behavior.\n",
      "[02:06:33] WARNING: ../src/learner.cc:1115: Starting in XGBoost 1.3.0, the default evaluation metric used with the objective 'binary:logistic' was changed from 'error' to 'logloss'. Explicitly set eval_metric if you'd like to restore the old behavior.\n",
      "[02:23:08] WARNING: ../src/learner.cc:1115: Starting in XGBoost 1.3.0, the default evaluation metric used with the objective 'binary:logistic' was changed from 'error' to 'logloss'. Explicitly set eval_metric if you'd like to restore the old behavior.\n",
      "[02:24:16] WARNING: ../src/learner.cc:1115: Starting in XGBoost 1.3.0, the default evaluation metric used with the objective 'binary:logistic' was changed from 'error' to 'logloss'. Explicitly set eval_metric if you'd like to restore the old behavior.\n",
      "[02:25:40] WARNING: ../src/learner.cc:1115: Starting in XGBoost 1.3.0, the default evaluation metric used with the objective 'binary:logistic' was changed from 'error' to 'logloss'. Explicitly set eval_metric if you'd like to restore the old behavior.\n",
      "[02:27:23] WARNING: ../src/learner.cc:1115: Starting in XGBoost 1.3.0, the default evaluation metric used with the objective 'binary:logistic' was changed from 'error' to 'logloss'. Explicitly set eval_metric if you'd like to restore the old behavior.\n",
      "[02:30:00] WARNING: ../src/learner.cc:1115: Starting in XGBoost 1.3.0, the default evaluation metric used with the objective 'binary:logistic' was changed from 'error' to 'logloss'. Explicitly set eval_metric if you'd like to restore the old behavior.\n",
      "[02:32:55] WARNING: ../src/learner.cc:1115: Starting in XGBoost 1.3.0, the default evaluation metric used with the objective 'binary:logistic' was changed from 'error' to 'logloss'. Explicitly set eval_metric if you'd like to restore the old behavior.\n",
      "[02:35:43] WARNING: ../src/learner.cc:1115: Starting in XGBoost 1.3.0, the default evaluation metric used with the objective 'binary:logistic' was changed from 'error' to 'logloss'. Explicitly set eval_metric if you'd like to restore the old behavior.\n",
      "[02:38:17] WARNING: ../src/learner.cc:1115: Starting in XGBoost 1.3.0, the default evaluation metric used with the objective 'binary:logistic' was changed from 'error' to 'logloss'. Explicitly set eval_metric if you'd like to restore the old behavior.\n",
      "[02:43:02] WARNING: ../src/learner.cc:1115: Starting in XGBoost 1.3.0, the default evaluation metric used with the objective 'binary:logistic' was changed from 'error' to 'logloss'. Explicitly set eval_metric if you'd like to restore the old behavior.\n",
      "[02:46:59] WARNING: ../src/learner.cc:1115: Starting in XGBoost 1.3.0, the default evaluation metric used with the objective 'binary:logistic' was changed from 'error' to 'logloss'. Explicitly set eval_metric if you'd like to restore the old behavior.\n",
      "[02:50:38] WARNING: ../src/learner.cc:1115: Starting in XGBoost 1.3.0, the default evaluation metric used with the objective 'binary:logistic' was changed from 'error' to 'logloss'. Explicitly set eval_metric if you'd like to restore the old behavior.\n",
      "[02:54:23] WARNING: ../src/learner.cc:1115: Starting in XGBoost 1.3.0, the default evaluation metric used with the objective 'binary:logistic' was changed from 'error' to 'logloss'. Explicitly set eval_metric if you'd like to restore the old behavior.\n",
      "[02:58:06] WARNING: ../src/learner.cc:1115: Starting in XGBoost 1.3.0, the default evaluation metric used with the objective 'binary:logistic' was changed from 'error' to 'logloss'. Explicitly set eval_metric if you'd like to restore the old behavior.\n",
      "[03:01:47] WARNING: ../src/learner.cc:1115: Starting in XGBoost 1.3.0, the default evaluation metric used with the objective 'binary:logistic' was changed from 'error' to 'logloss'. Explicitly set eval_metric if you'd like to restore the old behavior.\n",
      "[03:20:37] WARNING: ../src/learner.cc:1115: Starting in XGBoost 1.3.0, the default evaluation metric used with the objective 'binary:logistic' was changed from 'error' to 'logloss'. Explicitly set eval_metric if you'd like to restore the old behavior.\n",
      "[03:22:41] WARNING: ../src/learner.cc:1115: Starting in XGBoost 1.3.0, the default evaluation metric used with the objective 'binary:logistic' was changed from 'error' to 'logloss'. Explicitly set eval_metric if you'd like to restore the old behavior.\n",
      "[03:25:23] WARNING: ../src/learner.cc:1115: Starting in XGBoost 1.3.0, the default evaluation metric used with the objective 'binary:logistic' was changed from 'error' to 'logloss'. Explicitly set eval_metric if you'd like to restore the old behavior.\n",
      "[03:28:34] WARNING: ../src/learner.cc:1115: Starting in XGBoost 1.3.0, the default evaluation metric used with the objective 'binary:logistic' was changed from 'error' to 'logloss'. Explicitly set eval_metric if you'd like to restore the old behavior.\n",
      "[03:31:48] WARNING: ../src/learner.cc:1115: Starting in XGBoost 1.3.0, the default evaluation metric used with the objective 'binary:logistic' was changed from 'error' to 'logloss'. Explicitly set eval_metric if you'd like to restore the old behavior.\n",
      "[03:35:02] WARNING: ../src/learner.cc:1115: Starting in XGBoost 1.3.0, the default evaluation metric used with the objective 'binary:logistic' was changed from 'error' to 'logloss'. Explicitly set eval_metric if you'd like to restore the old behavior.\n",
      "Grid Search found the following optimal parameters: \n",
      "learning_rate: 0.1\n",
      "max_depth: 1\n",
      "min_child_weight: 1\n",
      "n_estimators: 100\n",
      "subsample: 0.5\n",
      "\n",
      "Training Accuracy: 79.75%\n",
      "Validation accuracy: 79.89%\n"
     ]
    }
   ],
   "source": [
    "grid_clf = GridSearchCV(xg,param_grid,cv=3,scoring='recall',n_jobs=1)\n",
    "grid_clf.fit(scaled_X_train,y_train)\n",
    "\n",
    "best_parameters = grid_clf.best_params_\n",
    "\n",
    "print('Grid Search found the following optimal parameters: ')\n",
    "for param_name in sorted(best_parameters.keys()):\n",
    "    print('%s: %r' % (param_name, best_parameters[param_name]))\n",
    "\n",
    "training_preds = grid_clf.predict(scaled_X_train)\n",
    "test_preds = grid_clf.predict(scaled_X_test)\n",
    "training_accuracy = accuracy_score(y_train,training_preds)\n",
    "test_accuracy = accuracy_score(y_test,test_preds)\n",
    "\n",
    "print('')\n",
    "print('Training Accuracy: {:.4}%'.format(training_accuracy * 100))\n",
    "print('Validation accuracy: {:.4}%'.format(test_accuracy * 100))"
   ]
  },
  {
   "cell_type": "code",
   "execution_count": 153,
   "id": "88fde204",
   "metadata": {},
   "outputs": [],
   "source": [
    "xg_grid_smote=XGBClassifier(learning_rate=0.1,max_depth=1, min_child_weight=1,n_estimators=100, subsample=0.5)"
   ]
  },
  {
   "cell_type": "code",
   "execution_count": 154,
   "id": "dc7b3314",
   "metadata": {},
   "outputs": [
    {
     "name": "stdout",
     "output_type": "stream",
     "text": [
      "[19:17:22] WARNING: ../src/learner.cc:1115: Starting in XGBoost 1.3.0, the default evaluation metric used with the objective 'binary:logistic' was changed from 'error' to 'logloss'. Explicitly set eval_metric if you'd like to restore the old behavior.\n",
      "test:\n",
      "              precision    recall  f1-score   support\n",
      "\n",
      "           0       0.60      0.01      0.01     61681\n",
      "           1       0.80      1.00      0.89    244726\n",
      "\n",
      "    accuracy                           0.80    306407\n",
      "   macro avg       0.70      0.50      0.45    306407\n",
      "weighted avg       0.76      0.80      0.71    306407\n",
      "\n",
      "train:\n",
      "              precision    recall  f1-score   support\n",
      "\n",
      "           0       0.60      0.01      0.01    186310\n",
      "           1       0.80      1.00      0.89    732909\n",
      "\n",
      "    accuracy                           0.80    919219\n",
      "   macro avg       0.70      0.50      0.45    919219\n",
      "weighted avg       0.76      0.80      0.71    919219\n",
      "\n",
      "Train Recall_score 0.9990257999287769\n",
      "Test Recall_score 0.9989907079754501\n",
      "Train accuracy score 0.7977097949454918\n",
      "Test accuracy score 0.7991233881732467\n"
     ]
    },
    {
     "data": {
      "image/png": "[encoded data removed]",
      "text/plain": [
       "<Figure size 432x288 with 2 Axes>"
      ]
     },
     "metadata": {
      "needs_background": "light"
     },
     "output_type": "display_data"
    }
   ],
   "source": [
    "eval_model(xg_grid_smote,scaled_X_train,y_train,scaled_X_test,y_test)"
   ]
  },
  {
   "cell_type": "markdown",
   "id": "1b0c92c7",
   "metadata": {},
   "source": [
    "## Find Feature Importances in XGBoost Model"
   ]
  },
  {
   "cell_type": "markdown",
   "id": "90002d6c",
   "metadata": {},
   "source": [
    "Calculating feature importances and plot the feature by sorted values"
   ]
  },
  {
   "cell_type": "code",
   "execution_count": 155,
   "id": "45858f26",
   "metadata": {},
   "outputs": [],
   "source": [
    "# Calculate feature importances\n",
    "feature_importances = xg_grid_smote.feature_importances_\n",
    "\n",
    "# Create a list of features: done\n",
    "feature_list = list(scaled_X_train.columns)\n",
    "\n",
    "# Save the results inside a DataFrame using feature_list as an index\n",
    "relative_importances = pd.DataFrame(index=feature_list, data=feature_importances, columns=[\"importance\"])\n",
    "\n",
    "# Sort values to learn most important features\n",
    "relative_importances.sort_values(by=\"importance\", ascending=False)\n",
    "\n",
    "\n",
    "# Show top 10 features\n",
    "result = relative_importances.reset_index().sort_values('importance',ascending=False).iloc[:10]\n",
    "\n"
   ]
  },
  {
   "cell_type": "code",
   "execution_count": 156,
   "id": "d8c55eb9",
   "metadata": {},
   "outputs": [
    {
     "data": {
      "image/png": "[encoded data removed]",
      "text/plain": [
       "<Figure size 432x288 with 1 Axes>"
      ]
     },
     "metadata": {
      "needs_background": "light"
     },
     "output_type": "display_data"
    }
   ],
   "source": [
    "# plot feature imporances with sorted values\n",
    "clrs=['blue' if (value < max(result.importance)) else 'yellow' for value in result.importance]\n",
    "ax=sns.barplot(data=result,x='importance',y='index',palette=clrs,ci= None)\n",
    "ax.set_xlabel('importance')\n",
    "ax.set_ylabel('index')\n",
    "ax.set_title('Feature importance')\n",
    "\n",
    "ax.set_xticklabels(ax.get_xticklabels(),rotation=90);"
   ]
  }
 ],
 "metadata": {
  "kernelspec": {
   "display_name": "Python 3 (ipykernel)",
   "language": "python",
   "name": "python3"
  },
  "language_info": {
   "codemirror_mode": {
    "name": "ipython",
    "version": 3
   },
   "file_extension": ".py",
   "mimetype": "text/x-python",
   "name": "python",
   "nbconvert_exporter": "python",
   "pygments_lexer": "ipython3",
   "version": "3.9.7"
  },
  "toc": {
   "base_numbering": 1,
   "nav_menu": {},
   "number_sections": true,
   "sideBar": true,
   "skip_h1_title": false,
   "title_cell": "Table of Contents",
   "title_sidebar": "Contents",
   "toc_cell": false,
   "toc_position": {
    "height": "calc(100% - 180px)",
    "left": "10px",
    "top": "150px",
    "width": "302.398px"
   },
   "toc_section_display": true,
   "toc_window_display": true
  }
 },
 "nbformat": 4,
 "nbformat_minor": 5
}
