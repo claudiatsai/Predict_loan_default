{
 "cells": [
  {
   "cell_type": "markdown",
   "id": "817590da",
   "metadata": {},
   "source": [
    "# LendingClub Credit Risk Prediction"
   ]
  },
  {
   "cell_type": "markdown",
   "id": "cfa250c7",
   "metadata": {},
   "source": [
    "<img src = \"image/personal_loans.webp\"/>"
   ]
  },
  {
   "cell_type": "markdown",
   "id": "a396bd63",
   "metadata": {},
   "source": [
    "# Business Problem"
   ]
  },
  {
   "cell_type": "markdown",
   "id": "71c3c650",
   "metadata": {},
   "source": [
    "- LendingClub is the financial service company, which provide borrowing, banking and investing products to general customers, small business and institutions\n",
    "- Unsecured Consumer Loan is the primary product that brings high yield to the company\n",
    "- This project is to build a model to help LendingClub prevent below cases\n",
    "- - Business loss- rejecting a borrower who is actually able to repay the loan\n",
    "- - Capital loss- approving a borrower who ends up not being able to repay the loan "
   ]
  },
  {
   "cell_type": "markdown",
   "id": "0c1ab93e",
   "metadata": {},
   "source": [
    "# Data"
   ]
  },
  {
   "cell_type": "markdown",
   "id": "eb722e4b",
   "metadata": {},
   "source": [
    "- LendingClub loan dataset\n",
    "- Data range from 2007 to 2018\n",
    "- 2.3M applications\n",
    "- 151 features\n",
    "- Data features: loan status, interest rate, grade/subgrade, home ownership,annual income,employment length, etc\n",
    "- Target variable: loan status\n",
    "- [Data Source](https://www.kaggle.com/datasets/wordsforthewise/lending-club)"
   ]
  },
  {
   "cell_type": "markdown",
   "id": "d778ac14",
   "metadata": {},
   "source": [
    "# Methods"
   ]
  },
  {
   "cell_type": "markdown",
   "id": "c1f29aa5",
   "metadata": {},
   "source": [
    "- Clean null values and outliers in the dataset\n",
    "- Convert categorical variables into dummy variable for fitting machine learning models\n",
    "- Select the features for modeling\n",
    "- Due to the fact that the existing dataset is not balanced, which means that there are many more customers with clear loan status than customers who default, I used the sampling method to address this issue\n",
    "- The datasize is large, so the major class was undersampled"
   ]
  },
  {
   "cell_type": "markdown",
   "id": "553813f0",
   "metadata": {},
   "source": [
    "<img src = \"image/loan_status_text.png\"/>"
   ]
  },
  {
   "cell_type": "markdown",
   "id": "cd6c55c0",
   "metadata": {},
   "source": [
    "# Model"
   ]
  },
  {
   "cell_type": "markdown",
   "id": "535bedac",
   "metadata": {},
   "source": [
    "- Logistics Regression Model, Decision Tree Model, Random Forest Model and XGBoost Model were used to train the data\n",
    "- XGBoost Model has recall score 68% and accuracy score 66%\n",
    "- Tuning parameter in XGBoost Model to improve performance"
   ]
  },
  {
   "cell_type": "markdown",
   "id": "ee988746",
   "metadata": {},
   "source": [
    "## Baseline Model"
   ]
  },
  {
   "cell_type": "markdown",
   "id": "c5f70a7e",
   "metadata": {},
   "source": [
    "- Random Forest Model\n",
    "- Out of all the loans that actually did default, the model predicted this outcome correctly for 68% of those loans\n",
    "- Out of all the loans that the model predicted would not default, 64 % actually did not"
   ]
  },
  {
   "cell_type": "markdown",
   "id": "93fac386",
   "metadata": {},
   "source": [
    "<img src = \"image/baseline_model.png\"/>"
   ]
  },
  {
   "cell_type": "markdown",
   "id": "d7ed3f25",
   "metadata": {},
   "source": [
    "## Final Model"
   ]
  },
  {
   "cell_type": "markdown",
   "id": "2c59574f",
   "metadata": {},
   "source": [
    "- Recall score improved in XGBoost Model \n",
    "- Out of all the loans that actually did default, the model predicted this outcome correctly for 68% of those loans\n",
    "- Out of all the loans that the model predicted would not default, 64 % actually did not\n",
    "- In this case, I chose the model with high precision score and high recall score\n",
    "- High precision: Not many loan defaults were predicted as good loans\n",
    "- High recall: Predicted most loan defaults correctly"
   ]
  },
  {
   "cell_type": "markdown",
   "id": "55da65b2",
   "metadata": {},
   "source": [
    "<img src = \"image/final_model.png\"/>"
   ]
  },
  {
   "cell_type": "markdown",
   "id": "3cdfef7e",
   "metadata": {},
   "source": [
    "# Features Importance"
   ]
  },
  {
   "cell_type": "markdown",
   "id": "04681a20",
   "metadata": {},
   "source": [
    "<img src = \"image/feature_importance.png\"/>"
   ]
  },
  {
   "cell_type": "markdown",
   "id": "1141c88c",
   "metadata": {},
   "source": [
    "# Recommendation"
   ]
  },
  {
   "cell_type": "markdown",
   "id": "d86ad1b9",
   "metadata": {},
   "source": [
    "- Balance transer- recommend borrower pay down  existing credit card debt \n",
    "- Loan consolidation- consolidate the loans into a fixed-rate term loan\n",
    "- Joint application- borrowers may receive a better rate when they jointly apply for a personal loan"
   ]
  },
  {
   "cell_type": "markdown",
   "id": "5e29404d",
   "metadata": {},
   "source": [
    "# Future Improvements"
   ]
  },
  {
   "cell_type": "markdown",
   "id": "98c36176",
   "metadata": {},
   "source": [
    "- Further analysis for higher annual income and higher FICO score customers- help the bank to make specific products for this group of customers\n",
    "- Target to members’ core needs - utilize  a scalable technology platform to  lower the cost of their debt and/or improve the returns on their savings\n",
    "\n",
    "- Attract new members - target to potential customers who search loan information by search engines or social media. Offer incentive to  current customer  by relationship referrals.  Advertise through the website, targeted online advertising, online aggregation partners, or direct mail\n",
    "- Retain current members -offer return members with better rate if they need another loan or deposit product which increases the lifetime value of members while helping them improve their financial health"
   ]
  },
  {
   "cell_type": "markdown",
   "id": "8dd9a7b8",
   "metadata": {},
   "source": [
    "# Repository Structure"
   ]
  },
  {
   "cell_type": "markdown",
   "id": "1606732b",
   "metadata": {},
   "source": [
    "```\n",
    "├── README.ipynb\n",
    "├── images\n",
    "├── Lending Club_Presendtation.pdf\n",
    "├──.gitignore\n",
    "├── Prediction_original.ipynb\n",
    "├── README.md\n",
    "├── Project Proposal.pdf\n",
    "├── notebook_project_loan_1.pdf\n",
    "└── selected_features.csv\n",
    "\n",
    "```"
   ]
  },
  {
   "cell_type": "code",
   "execution_count": null,
   "id": "1ed8e18a",
   "metadata": {},
   "outputs": [],
   "source": []
  }
 ],
 "metadata": {
  "kernelspec": {
   "display_name": "Python 3 (ipykernel)",
   "language": "python",
   "name": "python3"
  },
  "language_info": {
   "codemirror_mode": {
    "name": "ipython",
    "version": 3
   },
   "file_extension": ".py",
   "mimetype": "text/x-python",
   "name": "python",
   "nbconvert_exporter": "python",
   "pygments_lexer": "ipython3",
   "version": "3.9.7"
  },
  "toc": {
   "base_numbering": 1,
   "nav_menu": {},
   "number_sections": false,
   "sideBar": true,
   "skip_h1_title": false,
   "title_cell": "Table of Contents",
   "title_sidebar": "Contents",
   "toc_cell": false,
   "toc_position": {},
   "toc_section_display": true,
   "toc_window_display": true
  }
 },
 "nbformat": 4,
 "nbformat_minor": 5
}
